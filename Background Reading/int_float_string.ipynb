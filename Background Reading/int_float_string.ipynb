{
 "cells": [
  {
   "cell_type": "markdown",
   "id": "killing-distinction",
   "metadata": {
    "pycharm": {
     "name": "#%% md\n"
    }
   },
   "source": [
    "# Concepts variables and the datatypes: integers, floats and string"
   ]
  },
  {
   "cell_type": "markdown",
   "id": "9d45ed48",
   "metadata": {
    "pycharm": {
     "name": "#%% md\n"
    },
    "slideshow": {
     "slide_type": "slide"
    }
   },
   "source": [
    "## Variables\n",
    "\n",
    "- All programs need data to work on.\n",
    "- To store data, you need a placeholder for it. These are called variables. \n",
    "\n",
    "Here are a few examples:"
   ]
  },
  {
   "cell_type": "code",
   "execution_count": 1,
   "id": "74a43689",
   "metadata": {
    "pycharm": {
     "name": "#%%\n"
    },
    "slideshow": {
     "slide_type": "fragment"
    }
   },
   "outputs": [],
   "source": [
    "amino_acid = \"alanine\"\n",
    "number_of_atoms = 13\n",
    "mw = 89.09"
   ]
  },
  {
   "cell_type": "markdown",
   "id": "af73d4d8",
   "metadata": {
    "pycharm": {
     "name": "#%% md\n"
    },
    "slideshow": {
     "slide_type": "slide"
    }
   },
   "source": [
    "[Here](https://www.youtube.com/results?search_query=python+variables) you can find a multiple movies explaining\n",
    "variables.\n",
    "\n",
    "Information (data) comes in many forms, such as numbers, characters, words, pictures, sound.\n",
    "\n",
    "In programming languages like python information is stored in **variables**. You can think of a box that has a label on it and stuff (data) stored inside. You can find or use the information later by searching for the label of the box which you stored the information in. "
   ]
  },
  {
   "cell_type": "markdown",
   "id": "19db4fb0",
   "metadata": {
    "pycharm": {
     "name": "#%% md\n"
    },
    "slideshow": {
     "slide_type": "slide"
    }
   },
   "source": [
    "The example below shows you how we can store information inside a variable, see what happens when I type:"
   ]
  },
  {
   "cell_type": "code",
   "execution_count": 4,
   "id": "5abc505a",
   "metadata": {
    "pycharm": {
     "name": "#%%\n"
    },
    "slideshow": {
     "slide_type": "fragment"
    }
   },
   "outputs": [],
   "source": [
    "amino_acid = \"alanine\""
   ]
  },
  {
   "cell_type": "markdown",
   "id": "4d60c43f",
   "metadata": {
    "pycharm": {
     "name": "#%% md\n"
    },
    "slideshow": {
     "slide_type": "fragment"
    }
   },
   "source": [
    "This line can be divided into 3 seperate parts:\n",
    "\n",
    "- amino_acid is the name of the variable you have just created\n",
    "- The assignment operator (=) was used to assign the string alanine to the variable amino_acid\n",
    "- 'alanine' is a literal, the value to be assigned to the variable amino_acid"
   ]
  },
  {
   "cell_type": "markdown",
   "id": "strong-terrain",
   "metadata": {
    "pycharm": {
     "name": "#%% md\n"
    }
   },
   "source": [
    "## datatypes"
   ]
  },
  {
   "cell_type": "markdown",
   "id": "1557aa24",
   "metadata": {
    "pycharm": {
     "name": "#%% md\n"
    },
    "slideshow": {
     "slide_type": "slide"
    }
   },
   "source": [
    "Different types of information require a different Python data type structure to store the content. In the sections below you will learn about three basis Python data types: `integers`, `floats` and `strings`."
   ]
  },
  {
   "cell_type": "markdown",
   "id": "aecf7f23",
   "metadata": {
    "pycharm": {
     "name": "#%% md\n"
    },
    "slideshow": {
     "slide_type": "slide"
    }
   },
   "source": [
    "## Integers\n",
    "\n",
    "An integer (abbreviated int), is a whole number, positive or negative, without decimals, of unlimited length."
   ]
  },
  {
   "cell_type": "code",
   "execution_count": 1,
   "id": "d4305b73",
   "metadata": {
    "pycharm": {
     "name": "#%%\n"
    },
    "slideshow": {
     "slide_type": "fragment"
    }
   },
   "outputs": [
    {
     "name": "stdout",
     "output_type": "stream",
     "text": [
      "<class 'int'>\n",
      "<class 'int'>\n"
     ]
    }
   ],
   "source": [
    "x = 3\n",
    "y = -3\n",
    "\n",
    "print(type(x))\n",
    "print(type(y))"
   ]
  },
  {
   "cell_type": "markdown",
   "id": "aa2f9610",
   "metadata": {
    "pycharm": {
     "name": "#%% md\n"
    },
    "slideshow": {
     "slide_type": "slide"
    }
   },
   "source": [
    "if you are not sure what type a variable is, use the function `type()` to show the datatype: `int` or `integer` in this case. You will quickly leant that is is very important to know what type something is, as what you can do with something depends on what it is. Think of it like this: you can make a cat meow, however if you ask a bicycle to meow that would be a very intresting (not existing) result.\n",
    "\n",
    "When ever you want a result to be shown on the screen use the `print()` function."
   ]
  },
  {
   "cell_type": "markdown",
   "id": "56bad646",
   "metadata": {
    "pycharm": {
     "name": "#%% md\n"
    },
    "slideshow": {
     "slide_type": "slide"
    }
   },
   "source": [
    "## Floats\n",
    "\n",
    "Floats represent real numbers and are written with a decimal point dividing the integer and fractional parts. Floats may also be in scientific notation, with E or e indicating the power of 10.\n",
    "\n",
    "Some examples:"
   ]
  },
  {
   "cell_type": "code",
   "execution_count": 4,
   "id": "2dc765df",
   "metadata": {
    "pycharm": {
     "name": "#%%\n"
    },
    "scrolled": true,
    "slideshow": {
     "slide_type": "fragment"
    }
   },
   "outputs": [
    {
     "name": "stdout",
     "output_type": "stream",
     "text": [
      "<class 'float'>\n",
      "<class 'float'>\n"
     ]
    }
   ],
   "source": [
    "x = 2.5\n",
    "y = 12E64\n",
    "\n",
    "print(type(x))\n",
    "print(type(y))"
   ]
  },
  {
   "cell_type": "markdown",
   "id": "exciting-moisture",
   "metadata": {
    "pycharm": {
     "name": "#%% md\n"
    }
   },
   "source": [
    "## Strings"
   ]
  },
  {
   "cell_type": "markdown",
   "id": "level-optimum",
   "metadata": {
    "pycharm": {
     "name": "#%% md\n"
    }
   },
   "source": [
    "we will make use of another data type: `strings`. Some information about `strings`:\n",
    "- Strings are ordered sequences of [Unicode](https://nl.wikipedia.org/wiki/Unicode) characters.\n",
    "- Strings are a collection of characters.\n",
    "- Strings can be created using *single* quotes, *double* quotes or even *triple double* qoutes. You enter one of these before the string (starting qoute) and you end the string by typing *the same* qoute again (ending qoutes).\n",
    "\n",
    "Some examples:"
   ]
  },
  {
   "cell_type": "code",
   "execution_count": 5,
   "id": "determined-innocent",
   "metadata": {
    "pycharm": {
     "name": "#%%\n"
    }
   },
   "outputs": [],
   "source": [
    "name1 = \"Jan\" # double quotes\n",
    "name2 = 'Pien' # single quotes\n",
    "message1 = \"Let's code some Python code\" # note the use of a single quote in the string\n",
    "message2 = 'Let\\'s code some Python code' # the \\ character serves as an escape character\n",
    "long_message_spanning_multiple_lines = \"\"\"This is a message that \n",
    "had enters and runs over\n",
    "multiple lines\n",
    "\"\"\""
   ]
  },
  {
   "cell_type": "code",
   "execution_count": 6,
   "id": "understood-selling",
   "metadata": {
    "pycharm": {
     "name": "#%%\n"
    }
   },
   "outputs": [
    {
     "name": "stdout",
     "output_type": "stream",
     "text": [
      "Jan\n",
      "Pien\n",
      "Let's code some Python code\n",
      "Let's code some Python code\n",
      "This is a message that \n",
      "had enters and runs over\n",
      "multiple lines\n"
     ]
    }
   ],
   "source": [
    "print(name1)\n",
    "print(name2)\n",
    "print(message1)\n",
    "print(message2)\n",
    "print(long_message_spanning_multiple_lines)"
   ]
  },
  {
   "cell_type": "markdown",
   "id": "royal-choice",
   "metadata": {
    "pycharm": {
     "name": "#%% md\n"
    }
   },
   "source": [
    "### Single vs double qoutes"
   ]
  },
  {
   "cell_type": "markdown",
   "id": "alert-fraud",
   "metadata": {
    "pycharm": {
     "name": "#%% md\n"
    }
   },
   "source": [
    "There is no real difference between the use of single and double qoutes. However, to make your code more readable pick one of both (single or double) and try to keep the use consistent throughout your script.\n",
    "\n",
    "There is a need to use both styles everytime you encounter a string that already contains a qoutation symbol (single or double). What would happen if you would want to store the string: is's a bad example into a variable?\n",
    "\n",
    "`s = 'it's a bad example'`\n",
    "\n",
    "Can you spot what will happen. Try this out in Python and see! You will have gotten an error stating that this is invalid syntax, meaning there is something wrong with how you wrote your line of code.\n",
    "\n",
    "To solve the invalid syntax, we should write the string making use single and double qoutes. And encapsulate the single qoute inside doule qoutes, thus making sure we have an dtart and closing double qoute. i.e.\n",
    "\n",
    "`s = \"it's a bad example\"`\n",
    "\n",
    "In this way the single qoute is part of the string and is not beeing used as the start or close qoute. Your are not limited to a single qoute inbetween the double qoutes.\n",
    "\n",
    "`s = \"it's a bad example isn't it?\"`\n",
    "\n",
    "Of course, the oposite is also true, when using double qoutes use single qoutes to encapsulte the double qoutes!"
   ]
  },
  {
   "cell_type": "markdown",
   "id": "4fa25f83",
   "metadata": {
    "pycharm": {
     "name": "#%% md\n"
    }
   },
   "source": [
    "## type conversions (casting)\n",
    "A lot of data structures can be converted this is called casting. For example, an integer can be converted to a float, a string to a number, etc. This is simply done by using the datatype construction function and passing the variable you want to convert. The construction function is the name of the datatype you want to have followed by a pair of parenthesis `()`\n",
    "\n",
    "- int() - constructs an integer from a float or string\n",
    "- float() - constructs a float from an integer or string\n",
    "- str() - contructs a string from an integer, float, and other data\n",
    "\n",
    "Some examples:"
   ]
  },
  {
   "cell_type": "code",
   "execution_count": 1,
   "id": "fadaa6ea",
   "metadata": {
    "pycharm": {
     "name": "#%%\n"
    }
   },
   "outputs": [
    {
     "name": "stdout",
     "output_type": "stream",
     "text": [
      "1\n",
      "1.0\n"
     ]
    }
   ],
   "source": [
    "x = 1\n",
    "print(x)\n",
    "print(float(x))"
   ]
  },
  {
   "cell_type": "code",
   "execution_count": 2,
   "id": "f28aadb9",
   "metadata": {
    "pycharm": {
     "name": "#%%\n"
    }
   },
   "outputs": [
    {
     "name": "stdout",
     "output_type": "stream",
     "text": [
      "1\n",
      "1\n"
     ]
    }
   ],
   "source": [
    "x = 1\n",
    "print(x)\n",
    "print(str(x))"
   ]
  },
  {
   "cell_type": "code",
   "execution_count": 4,
   "id": "86ef70aa",
   "metadata": {
    "pycharm": {
     "name": "#%%\n"
    }
   },
   "outputs": [
    {
     "name": "stdout",
     "output_type": "stream",
     "text": [
      "<class 'str'> 1\n",
      "<class 'int'> 1\n",
      "<class 'float'> 1.0\n"
     ]
    }
   ],
   "source": [
    "x = '1'\n",
    "y = int(x)\n",
    "z = float(x)\n",
    "\n",
    "print(type(x), x)\n",
    "print(type(y), y)\n",
    "print(type(z), z)"
   ]
  },
  {
   "cell_type": "code",
   "execution_count": null,
   "id": "60417b94",
   "metadata": {
    "pycharm": {
     "name": "#%%\n"
    }
   },
   "outputs": [],
   "source": []
  }
 ],
 "metadata": {
  "kernelspec": {
   "display_name": "Python 3 (ipykernel)",
   "language": "python",
   "name": "python3"
  },
  "language_info": {
   "codemirror_mode": {
    "name": "ipython",
    "version": 3
   },
   "file_extension": ".py",
   "mimetype": "text/x-python",
   "name": "python",
   "nbconvert_exporter": "python",
   "pygments_lexer": "ipython3",
   "version": "3.11.5"
  }
 },
 "nbformat": 4,
 "nbformat_minor": 5
}
