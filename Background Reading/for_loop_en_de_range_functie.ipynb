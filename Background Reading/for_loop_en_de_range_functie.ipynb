{
 "cells": [
  {
   "cell_type": "markdown",
   "metadata": {
    "collapsed": true,
    "pycharm": {
     "name": "#%% md\n"
    }
   },
   "source": [
    "## for loop and the range function\n",
    "Thus far, our programs used a single statement for every operation we would like our program to execute. This is fine for very small programs without any repetition. However, as programs grow in size and complexity, you will encounter problems that are repetitive in nature. For example: What if we have a list, and we would like to do some special operation on each end every element. Programming this naively, we could get the length of the list and retrieve an element using indexing (remember starting a 0) and do our special operation and acces the next, do our operation again and repeat this over and over until we reached the end of the list. If the list is just 3 elements long this would not be such a problem, but what if the list is 10, 100, 1000 or even a million elements long? Just copying and pasting the same lines over and over and changing the index, doesn't seem like a wise decision anymore. Also, if we found a bug in our code we would have to change the code for the operation on many lines. This quickly leads to unreadable and badly maintainable code.\n",
    "\n",
    "Luckily, Python has functionality that allows us to repeat code on collections such as strings, lists and tuples (works on other collections too, as we will see later with dictionaries).\n",
    "\n",
    "In this Notebook we will introduce the concept of looping using a **`for` loop** and show you how you could use the **`range()` function** to perform an operation a specific number of times.\n",
    "\n",
    "The `for` loop is part of the concept **flow control**. Flow control lets you determine the order of execution of your code. In later Notebook we will also see the if else conditional statements and while loop."
   ]
  },
  {
   "cell_type": "markdown",
   "source": [
    "## for loop\n",
    "Any collection in Python is also **iterable**. That means that you can iterate through them using a `for` loop. A `for` loop is used when you have a block of code which you want to repeat a fixed number of times.\n",
    "\n",
    "A `for` loop can be used for iterating over collections (such as strings, lists, tuples, dictionaries, sets, range objects or file objects).\n",
    "\n",
    "Let's have a look at an example:"
   ],
   "metadata": {
    "collapsed": false,
    "pycharm": {
     "name": "#%% md\n"
    }
   }
  },
  {
   "cell_type": "code",
   "execution_count": null,
   "outputs": [],
   "source": [
    "my_string = \"Hello World\"\n",
    "\n",
    "for letter in my_string:\n",
    "    print(letter)"
   ],
   "metadata": {
    "collapsed": false,
    "pycharm": {
     "name": "#%%\n"
    }
   }
  },
  {
   "cell_type": "markdown",
   "source": [
    "As you can see. The `for` loop is a loop that runs a finite number of times. When the end of the sequence is reached, the `for` loop stops.\n",
    "\n",
    "Let's digest this a bit:\n",
    "the `for` keyword is used to clarify the type of loop (later we will cover a `while` loop).\n",
    "The **letter** is a *placeholder*. A temporary variable that is overwritten each loop. You can name it whatever you like but please use a logic name.\n",
    "\n",
    "The in keyword in Python has two different purposes:\n",
    "The in keyword is used to check if a value is present in a sequence.\n",
    "The in keyword is also used in a for loop for readability purposes.\n",
    "`my_string` points to the string `\"Hello World\"` which is an iterable because it is a collection.\n",
    "the `:` specifies that a code block is beginning (remember that you want to repeat a block of code a number of times).\n",
    "\n",
    "As you can see, the code after a `:` is **indented** (4 spaces is default). Code that is indented belongs to the line before that is less indented. In this case the start of the `for` loop. This indented code block can consist of multiple lines, or even contain other flow control as is shown below."
   ],
   "metadata": {
    "collapsed": false,
    "pycharm": {
     "name": "#%% md\n"
    }
   }
  },
  {
   "cell_type": "code",
   "execution_count": 8,
   "outputs": [
    {
     "name": "stdout",
     "output_type": "stream",
     "text": [
      "6\n",
      "15\n",
      "24\n"
     ]
    }
   ],
   "source": [
    "my_table = [[1, 2, 3], [4, 5, 6], [7, 8, 9]]\n",
    "\n",
    "for row in my_table: # loop over list, row holds a single list\n",
    "    row_total = 0 # for every iteration start with 0\n",
    "\n",
    "    for element in row: # loop over every element of the current list\n",
    "        row_total += element # add the number to the row total\n",
    "    print(row_total) # print the total for this row\n"
   ],
   "metadata": {
    "collapsed": false,
    "pycharm": {
     "name": "#%%\n"
    }
   }
  },
  {
   "cell_type": "markdown",
   "source": [
    "## The range function\n",
    "The `range()` function returns a sequence of numbers. The default starting point is 0. It increments by 1 by default. It stops before a specified number. The range function returns a `range` object (which can be iterated over):"
   ],
   "metadata": {
    "collapsed": false,
    "pycharm": {
     "name": "#%% md\n"
    }
   }
  },
  {
   "cell_type": "code",
   "execution_count": 3,
   "outputs": [
    {
     "name": "stdout",
     "output_type": "stream",
     "text": [
      "range(0, 5)\n"
     ]
    }
   ],
   "source": [
    "print(range(5))"
   ],
   "metadata": {
    "collapsed": false,
    "pycharm": {
     "name": "#%%\n"
    }
   }
  },
  {
   "cell_type": "markdown",
   "source": [
    "For demonstration purposes, we will create a list from the returned range object. Do not do this to iterate over a range object with a for loop because it will allocate a lot of memory."
   ],
   "metadata": {
    "collapsed": false,
    "pycharm": {
     "name": "#%% md\n"
    }
   }
  },
  {
   "cell_type": "code",
   "execution_count": 4,
   "outputs": [
    {
     "name": "stdout",
     "output_type": "stream",
     "text": [
      "[0, 1, 2, 3, 4]\n"
     ]
    }
   ],
   "source": [
    "print(list(range(5)))"
   ],
   "metadata": {
    "collapsed": false,
    "pycharm": {
     "name": "#%%\n"
    }
   }
  },
  {
   "cell_type": "markdown",
   "source": [
    "As you can see in the example above, only one argument was used (5). The default starting point is 0. The default step size is 1. Now with two arguments:"
   ],
   "metadata": {
    "collapsed": false,
    "pycharm": {
     "name": "#%% md\n"
    }
   }
  },
  {
   "cell_type": "code",
   "execution_count": 5,
   "outputs": [
    {
     "name": "stdout",
     "output_type": "stream",
     "text": [
      "[2, 3, 4]\n",
      "[2, 3]\n"
     ]
    }
   ],
   "source": [
    "print(list(range(2, 5)))\n",
    "print(list(range(2, 4)))"
   ],
   "metadata": {
    "collapsed": false,
    "pycharm": {
     "name": "#%%\n"
    }
   }
  },
  {
   "cell_type": "markdown",
   "source": [
    "Thus, the first argument is the starting point.\n",
    "The second argument is the stop point (not included). The default step size is 1.\n",
    "Now with 3 arguments:"
   ],
   "metadata": {
    "collapsed": false,
    "pycharm": {
     "name": "#%% md\n"
    }
   }
  },
  {
   "cell_type": "code",
   "execution_count": 6,
   "outputs": [
    {
     "name": "stdout",
     "output_type": "stream",
     "text": [
      "[0, 2, 4, 6, 8]\n",
      "[10, 8, 6, 4, 2, 0]\n"
     ]
    }
   ],
   "source": [
    "print(list(range(0, 10, 2)))\n",
    "print(list(range(10, -1, -2))) # now -1 is the stop point."
   ],
   "metadata": {
    "collapsed": false,
    "pycharm": {
     "name": "#%%\n"
    }
   }
  },
  {
   "cell_type": "markdown",
   "source": [
    "In the example above, the first argument is the starting point.\n",
    "The second argument is the stop point.\n",
    "The third argument is the step size."
   ],
   "metadata": {
    "collapsed": false,
    "pycharm": {
     "name": "#%% md\n"
    }
   }
  },
  {
   "cell_type": "markdown",
   "source": [
    "> The Python `range()` function works only with integers. It does not support floats. If you need a range of floats, you will need a library (numpy, beyond the scope of this course)."
   ],
   "metadata": {
    "collapsed": false,
    "pycharm": {
     "name": "#%% md\n"
    }
   }
  },
  {
   "cell_type": "markdown",
   "source": [
    "## for loop and range combined\n",
    "The `for` loop is often combined with the `range()` function in order to iterate over a sequence of numbers:"
   ],
   "metadata": {
    "collapsed": false,
    "pycharm": {
     "name": "#%% md\n"
    }
   }
  },
  {
   "cell_type": "code",
   "execution_count": 7,
   "outputs": [
    {
     "name": "stdout",
     "output_type": "stream",
     "text": [
      "0\n",
      "1\n",
      "2\n",
      "3\n",
      "4\n"
     ]
    }
   ],
   "source": [
    "for num in range(5):\n",
    "    print(num)"
   ],
   "metadata": {
    "collapsed": false,
    "pycharm": {
     "name": "#%%\n"
    }
   }
  },
  {
   "cell_type": "markdown",
   "source": [
    "> Note that you can iterate directly on a range object. Do not make a list from it as it will allocate a lot of memory!"
   ],
   "metadata": {
    "collapsed": false,
    "pycharm": {
     "name": "#%% md\n"
    }
   }
  },
  {
   "cell_type": "markdown",
   "source": [
    "NOTE: also explain enumerate?"
   ],
   "metadata": {
    "collapsed": false,
    "pycharm": {
     "name": "#%% md\n"
    }
   }
  }
 ],
 "metadata": {
  "kernelspec": {
   "display_name": "Python 3",
   "language": "python",
   "name": "python3"
  },
  "language_info": {
   "codemirror_mode": {
    "name": "ipython",
    "version": 2
   },
   "file_extension": ".py",
   "mimetype": "text/x-python",
   "name": "python",
   "nbconvert_exporter": "python",
   "pygments_lexer": "ipython2",
   "version": "2.7.6"
  }
 },
 "nbformat": 4,
 "nbformat_minor": 0
}