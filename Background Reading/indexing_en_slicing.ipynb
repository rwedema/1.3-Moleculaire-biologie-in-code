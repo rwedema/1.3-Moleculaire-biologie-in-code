{
 "cells": [
  {
   "cell_type": "markdown",
   "metadata": {
    "collapsed": true,
    "pycharm": {
     "name": "#%% md\n"
    }
   },
   "source": [
    "## Indexing en slicing\n",
    "We have seen multiple datatypes that are collections, such as the string, list and tuple. There are many methods available that will allow you to do work on the collections, such as the `string.upper()` method to create an uppercase copy of the string or the `list.append()` method to add elements to the end of a list. But what if we want to retrieve or change certain elements in a collection?\n",
    "\n",
    "To be able to get a portion of a collection we can use **indexing** and **slicing**. Both will be explained in this Notebook. First, we have to specify what indexing means. To do this imagine that every element in a collection has a number associated with it, starting from the **first element** which get the number 0 going to the end of the collection, each time incrementing (add 1) the number. The number is called the *index*, and it is this number that we can use to retrieve or change the element.\n",
    "\n",
    "Collections are not only numbered from left to right (positively), but can also start from the right going to the left. In that case, we start at the rightmost element using index **-1** and decrement (subtracting 1) every number going to the left.\n",
    "\n",
    "To illustrate this, have a look at the figure below which depicts a string with the letters: GAATCTGG When working from the start the indexes start at 0. When working from the end, indexes start at -1. When using indexing on collections we place the index we want to use between **square brackets `[]`**.\n",
    "![string indexing](figs/indexing.png)\n",
    "\n",
    "In the code example below we demonstrate (both positive and negative) indexing on a string, but this also works on lists and tuples."
   ]
  },
  {
   "cell_type": "code",
   "execution_count": 1,
   "metadata": {
    "collapsed": false,
    "pycharm": {
     "name": "#%%\n"
    }
   },
   "outputs": [
    {
     "name": "stdout",
     "output_type": "stream",
     "text": [
      "G\n",
      "T\n",
      "C\n"
     ]
    }
   ],
   "source": [
    "dna = 'GATC'\n",
    "\n",
    "print(dna[0]) # print the first element\n",
    "print(dna[2]) # print the third element\n",
    "print(dna[-1]) # prints the last element"
   ]
  },
  {
   "cell_type": "markdown",
   "metadata": {
    "collapsed": false,
    "pycharm": {
     "name": "#%% md\n"
    }
   },
   "source": [
    "An error that you will probably see many times, is the one that will be shown if you try to access elements of a collection which are not there. Indexing outside the possible indexes, will throw an **index out of range error**, as is shown in the code example below"
   ]
  },
  {
   "cell_type": "code",
   "execution_count": 2,
   "metadata": {
    "collapsed": false,
    "pycharm": {
     "name": "#%%\n"
    }
   },
   "outputs": [
    {
     "ename": "IndexError",
     "evalue": "string index out of range",
     "output_type": "error",
     "traceback": [
      "\u001b[0;31m---------------------------------------------------------------------------\u001b[0m",
      "\u001b[0;31mIndexError\u001b[0m                                Traceback (most recent call last)",
      "\u001b[0;32m/var/folders/wz/y__hb3n94lj39qh11bpr74fm0000gn/T/ipykernel_17558/1343572737.py\u001b[0m in \u001b[0;36m<module>\u001b[0;34m\u001b[0m\n\u001b[0;32m----> 1\u001b[0;31m \u001b[0mprint\u001b[0m\u001b[0;34m(\u001b[0m\u001b[0mdna\u001b[0m\u001b[0;34m[\u001b[0m\u001b[0;36m4\u001b[0m\u001b[0;34m]\u001b[0m\u001b[0;34m)\u001b[0m \u001b[0;31m# there is not a 4 index\u001b[0m\u001b[0;34m\u001b[0m\u001b[0;34m\u001b[0m\u001b[0m\n\u001b[0m",
      "\u001b[0;31mIndexError\u001b[0m: string index out of range"
     ]
    }
   ],
   "source": [
    "print(dna[4]) # there is not a 4 index"
   ]
  },
  {
   "cell_type": "markdown",
   "metadata": {
    "collapsed": false,
    "pycharm": {
     "name": "#%% md\n"
    }
   },
   "source": [
    "Important: in Python, strings are immutable. That means that after manipulating a string, you will get a new string object. You can not change a string in place. This will result in a TypeError.\n",
    "\n",
    "Important: in Python Tuples are immutable. Meaning that after a tuple has been created it cannot be changed anymore and trying to do so will result in a TypeError."
   ]
  },
  {
   "cell_type": "code",
   "execution_count": 3,
   "metadata": {
    "collapsed": false,
    "pycharm": {
     "name": "#%%\n"
    }
   },
   "outputs": [
    {
     "ename": "TypeError",
     "evalue": "'str' object does not support item assignment",
     "output_type": "error",
     "traceback": [
      "\u001b[0;31m---------------------------------------------------------------------------\u001b[0m",
      "\u001b[0;31mTypeError\u001b[0m                                 Traceback (most recent call last)",
      "\u001b[0;32m/var/folders/wz/y__hb3n94lj39qh11bpr74fm0000gn/T/ipykernel_17558/3399099796.py\u001b[0m in \u001b[0;36m<module>\u001b[0;34m\u001b[0m\n\u001b[1;32m      1\u001b[0m \u001b[0mdna\u001b[0m \u001b[0;34m=\u001b[0m \u001b[0;34m\"GATC\"\u001b[0m\u001b[0;34m\u001b[0m\u001b[0;34m\u001b[0m\u001b[0m\n\u001b[0;32m----> 2\u001b[0;31m \u001b[0mdna\u001b[0m\u001b[0;34m[\u001b[0m\u001b[0;36m0\u001b[0m\u001b[0;34m]\u001b[0m \u001b[0;34m=\u001b[0m \u001b[0;34m\"A\"\u001b[0m \u001b[0;31m# Results in an TypeError\u001b[0m\u001b[0;34m\u001b[0m\u001b[0;34m\u001b[0m\u001b[0m\n\u001b[0m",
      "\u001b[0;31mTypeError\u001b[0m: 'str' object does not support item assignment"
     ]
    }
   ],
   "source": [
    "dna = \"GATC\"\n",
    "dna[0] = \"A\" # Results in an TypeError"
   ]
  },
  {
   "cell_type": "code",
   "execution_count": 5,
   "metadata": {
    "collapsed": false,
    "pycharm": {
     "name": "#%%\n"
    }
   },
   "outputs": [
    {
     "ename": "TypeError",
     "evalue": "'tuple' object does not support item assignment",
     "output_type": "error",
     "traceback": [
      "\u001b[0;31m---------------------------------------------------------------------------\u001b[0m",
      "\u001b[0;31mTypeError\u001b[0m                                 Traceback (most recent call last)",
      "\u001b[0;32m/var/folders/wz/y__hb3n94lj39qh11bpr74fm0000gn/T/ipykernel_17558/2600506013.py\u001b[0m in \u001b[0;36m<module>\u001b[0;34m\u001b[0m\n\u001b[1;32m      1\u001b[0m \u001b[0mcodons\u001b[0m \u001b[0;34m=\u001b[0m \u001b[0;34m(\u001b[0m\u001b[0;34m'atg'\u001b[0m\u001b[0;34m,\u001b[0m \u001b[0;34m'taa'\u001b[0m\u001b[0;34m,\u001b[0m \u001b[0;34m'ttt'\u001b[0m\u001b[0;34m)\u001b[0m\u001b[0;34m\u001b[0m\u001b[0;34m\u001b[0m\u001b[0m\n\u001b[0;32m----> 2\u001b[0;31m \u001b[0mcodons\u001b[0m\u001b[0;34m[\u001b[0m\u001b[0;36m1\u001b[0m\u001b[0;34m]\u001b[0m \u001b[0;34m=\u001b[0m \u001b[0;34m'ggg'\u001b[0m\u001b[0;34m\u001b[0m\u001b[0;34m\u001b[0m\u001b[0m\n\u001b[0m",
      "\u001b[0;31mTypeError\u001b[0m: 'tuple' object does not support item assignment"
     ]
    }
   ],
   "source": [
    "codons = ('atg', 'taa', 'ttt')\n",
    "codons[1] = 'ggg'"
   ]
  },
  {
   "cell_type": "code",
   "execution_count": null,
   "metadata": {
    "collapsed": false,
    "pycharm": {
     "name": "#%%\n"
    }
   },
   "outputs": [],
   "source": [
    "dna = \"GATC\"\n",
    "print(dna)\n",
    "\n",
    "dna = \"AATC\"\n",
    "print(dna)"
   ]
  },
  {
   "cell_type": "markdown",
   "metadata": {
    "collapsed": false,
    "pycharm": {
     "name": "#%% md\n"
    }
   },
   "source": [
    "## slicing\n",
    "Another technique that also uses indexing, however instead of accessing a single element allows you to access multiple elements is called **slicing**. This technique uses the same notation style as indexing using the square brackets. However, instead of a single index as parameter we can now specify a start, stop and step parameter inside the brackets using the following notation:\n",
    "`collection[start:stop:step]`\n",
    "\n",
    "`seq[x:y:z]` will return a slice starting at, and including, index x (or 0 if omitted) to, but excluding, index y (or the end if omitted), and only taking the character at each step z. A slice will always return the same data type. This is different from indexing. Although indexing strings will always return a string, indexing lists (see below) will not per definition return a list. Some examples:"
   ]
  },
  {
   "cell_type": "code",
   "execution_count": 4,
   "metadata": {
    "collapsed": false,
    "pycharm": {
     "name": "#%%\n"
    }
   },
   "outputs": [
    {
     "name": "stdout",
     "output_type": "stream",
     "text": [
      "ATC\n",
      "GAT\n",
      "GT\n",
      "CTAG\n"
     ]
    }
   ],
   "source": [
    "seq = \"GATC\"\n",
    "print(seq[1:]) # from pos 1 to end (and including end)\n",
    "print(seq[:3]) # from pos 0 to 3 (not including 3)\n",
    "print(seq[::2]) # start to end (including end) with step 2\n",
    "print(seq[::-1]) # reverse a string"
   ]
  },
  {
   "cell_type": "code",
   "execution_count": 6,
   "metadata": {
    "collapsed": false,
    "pycharm": {
     "name": "#%%\n"
    }
   },
   "outputs": [
    {
     "name": "stdout",
     "output_type": "stream",
     "text": [
      "agg\n",
      "['agg', 'ttt']\n",
      "['agg']\n"
     ]
    }
   ],
   "source": [
    "sequences = ['atc', 'agg', 'ttt']\n",
    "print(sequences[1]) # indexing, returning a string\n",
    "print(sequences[1:]) # slicing, returning a list\n",
    "print(sequences[1:2]) # slicing, returning a list"
   ]
  },
  {
   "cell_type": "markdown",
   "metadata": {
    "collapsed": false,
    "pycharm": {
     "name": "#%% md\n"
    }
   },
   "source": [
    "Note that a slice always returns the same data type.\n",
    "\n",
    "**Slicing** (`print(sequences[1:2])`) will return a list with a single element.\n",
    "**Indexing** (`sequences[1]`) will return the list object (a string in this case)."
   ]
  },
  {
   "cell_type": "code",
   "execution_count": null,
   "metadata": {
    "collapsed": false,
    "pycharm": {
     "name": "#%%\n"
    }
   },
   "outputs": [],
   "source": [
    "total_sequences = ['atc', 'agg', 'ttt', 'ccc', 'ggg']\n",
    "print(total_sequences)\n",
    "\n",
    "total_sequences[1] = 'ata' # replace item\n",
    "print(total_sequences)\n",
    "\n",
    "del total_sequences[1] # remove by index\n",
    "print(total_sequences)"
   ]
  },
  {
   "cell_type": "markdown",
   "metadata": {
    "collapsed": false,
    "pycharm": {
     "name": "#%% md\n"
    }
   },
   "source": [
    "You can also delete or insert multiple items:"
   ]
  },
  {
   "cell_type": "code",
   "execution_count": null,
   "metadata": {
    "collapsed": false,
    "pycharm": {
     "name": "#%%\n"
    }
   },
   "outputs": [],
   "source": [
    "my_list = [\"atc\", \"atg\"]\n",
    "my_list[1:1] = [\"ccc\", \"ggg\"] # insert multiple items at index\n",
    "print(my_list)\n",
    "my_list[1:3] = [\"aaa\", \"ttt\"] # change multiple items\n",
    "print(my_list)\n",
    "my_list[1:3] = [] # delete multiple items\n",
    "print(my_list)"
   ]
  },
  {
   "cell_type": "markdown",
   "metadata": {
    "collapsed": false,
    "pycharm": {
     "name": "#%% md\n"
    }
   },
   "source": [
    "Remember the multidimensional arrays (matrices) we introduced in the list_en_tuples Notebook? There, we did not show how you could acces elements from nested lists. In the next example we will revisit the lists of lists and show you how you can use **chaining** (multiple operations on the same objects in a single statement) to acces elements from a nested list."
   ]
  },
  {
   "cell_type": "code",
   "execution_count": 18,
   "metadata": {
    "collapsed": false,
    "pycharm": {
     "name": "#%%\n"
    }
   },
   "outputs": [
    {
     "name": "stdout",
     "output_type": "stream",
     "text": [
      "[[1, 2, 3], [4, 5, 6], [7, 8, 9]]\n",
      "[1, 2, 3]\n",
      "[4, 5, 6]\n",
      "4\n",
      "[5, 6]\n"
     ]
    }
   ],
   "source": [
    "# a table:\n",
    "my_table = [[1, 2, 3],\n",
    "            [4, 5, 6],\n",
    "            [7, 8, 9]]\n",
    "\n",
    "print(my_table)\n",
    "\n",
    "print(my_table[0]) # first row using indexing\n",
    "print(my_table[1]) # second row using indexing\n",
    "print(my_table[1][0]) # first element of the second row. This adds a second round of indexing after the first (this is called chaining)\n",
    "print(my_table[1][1:3]) # ofcourse, we could also use slicing to acces multiple elements"
   ]
  },
  {
   "cell_type": "code",
   "execution_count": 20,
   "metadata": {
    "collapsed": false,
    "pycharm": {
     "name": "#%%\n"
    }
   },
   "outputs": [
    {
     "ename": "IndexError",
     "evalue": "list index out of range",
     "output_type": "error",
     "traceback": [
      "\u001b[0;31m---------------------------------------------------------------------------\u001b[0m",
      "\u001b[0;31mIndexError\u001b[0m                                Traceback (most recent call last)",
      "\u001b[0;32m/var/folders/wz/y__hb3n94lj39qh11bpr74fm0000gn/T/ipykernel_17558/354452358.py\u001b[0m in \u001b[0;36m<module>\u001b[0;34m\u001b[0m\n\u001b[1;32m      1\u001b[0m \u001b[0;31m# why doesn't the following work?\u001b[0m\u001b[0;34m\u001b[0m\u001b[0;34m\u001b[0m\u001b[0m\n\u001b[0;32m----> 2\u001b[0;31m \u001b[0mprint\u001b[0m\u001b[0;34m(\u001b[0m\u001b[0mmy_table\u001b[0m\u001b[0;34m[\u001b[0m\u001b[0;36m0\u001b[0m\u001b[0;34m:\u001b[0m\u001b[0;36m2\u001b[0m\u001b[0;34m]\u001b[0m\u001b[0;34m[\u001b[0m\u001b[0;36m2\u001b[0m\u001b[0;34m]\u001b[0m\u001b[0;34m)\u001b[0m\u001b[0;34m\u001b[0m\u001b[0;34m\u001b[0m\u001b[0m\n\u001b[0m\u001b[1;32m      3\u001b[0m \u001b[0;34m\u001b[0m\u001b[0m\n\u001b[1;32m      4\u001b[0m \u001b[0;31m# try to print the first part of the chaining (`my_table[0:2]`) and see what is being returned\u001b[0m\u001b[0;34m\u001b[0m\u001b[0;34m\u001b[0m\u001b[0m\n",
      "\u001b[0;31mIndexError\u001b[0m: list index out of range"
     ]
    }
   ],
   "source": [
    "# why doesn't the following work?\n",
    "print(my_table[0:2][2])\n",
    "\n",
    "# try to print the first part of the chaining (`my_table[0:2]`) and see what is being returned"
   ]
  },
  {
   "cell_type": "code",
   "execution_count": 10,
   "metadata": {
    "collapsed": false,
    "pycharm": {
     "name": "#%%\n"
    }
   },
   "outputs": [],
   "source": []
  },
  {
   "cell_type": "code",
   "execution_count": null,
   "metadata": {
    "collapsed": false,
    "pycharm": {
     "name": "#%%\n"
    }
   },
   "outputs": [],
   "source": []
  }
 ],
 "metadata": {
  "kernelspec": {
   "display_name": "Python 3",
   "language": "python",
   "name": "python3"
  },
  "language_info": {
   "codemirror_mode": {
    "name": "ipython",
    "version": 2
   },
   "file_extension": ".py",
   "mimetype": "text/x-python",
   "name": "python",
   "nbconvert_exporter": "python",
   "pygments_lexer": "ipython2",
   "version": "2.7.6"
  }
 },
 "nbformat": 4,
 "nbformat_minor": 0
}
