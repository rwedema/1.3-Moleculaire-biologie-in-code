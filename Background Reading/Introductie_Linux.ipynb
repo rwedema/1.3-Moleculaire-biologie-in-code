{
 "cells": [
  {
   "cell_type": "markdown",
   "source": [
    "# Introduction Linux\n",
    "Linux is one of many operating systems around, and it is especially suitable for many of tasks you will encounter during your time as a bio-informatician. One of the neat features of Linux is that there is a large community that develops open-source programs suitable for the type of computations we do.\n",
    "\n",
    "> note: opensource means that you can have a look inside the program and see what the programmer actually wrote, and you may modify the program if you which\n",
    "\n",
    "There are many versions of Linux around each with their own difference called distributions. The name of the distribution we use on our bio-informatics grid is Debian. Although not the most fancy looking (there are other distro's that focus on that), it is very secure and usually gets security updates quicly.\n",
    "\n",
    "A distro that is wel suited for beginners to try is the Ubuntu distribution:\n",
    "https://ubuntu.com/download/desktop\n",
    "\n",
    "Linux can be installed side-to-side with a previous Windows installation, letting you choose on startup which operating systems you would like to boot. You could even run Linux inside windows as a program using VirtualBox: https://www.virtualbox.org\n",
    "\n",
    "From the Windows (Version >10?) appstore you could also download a Linux Ubuntu slimmed down version that works as a program inside windows.\n",
    "\n",
    "For this introduction we will focus on the Debian system that is installed, however most of the command can be used on any other distribution as well.\n",
    "\n",
    "Beside being open-source, another great feature of Linux is the very powerful shell. This is an interface between you and the hardware that lets you type in commando's instead of using the mouse to click your way around. This way of directly interacting with the computer lets you run tasks efficient and fast."
   ],
   "metadata": {
    "collapsed": false,
    "pycharm": {
     "name": "#%% md\n"
    }
   }
  },
  {
   "cell_type": "markdown",
   "source": [
    "## Basic Linux commands\n",
    "You can find the Shell (called the terminal emulator) on Debian if you open the taskpanel at the bottom and look for the black rectangular box or when opening the Applications menu (top left).\n",
    "\n",
    "Once opened, you will be presented with a waiting prompt on a commandline. This is where you can type a command and hit enter to execute it.\n",
    "\n",
    "Just as you are sitting (or standing) now somewhere. The prompt also has a location. You can always where you are at any given moment by typing `pwd` and pressing enter.\n",
    "\n",
    "'pwd' stands for print working directory. Most of the Linux commands are abbreviations of the process they can do and this may help you remember them.\n",
    "\n",
    "To have a look at what is inside a folder, we can use the `ls` command. When not followed by anything extra after the ls command (called an argument) it will show the content of the current folder.\n",
    "\n",
    "To 'go' somewhere else you have to use the `cd` (change directory) command followed by where you want to go. i.e. `cd Desktop`\n",
    "\n",
    "> Note: Linux is case-sensitive. Meaning that `cd` or `Cd` or `CD` are three completely different commando's, and only one will work. The same goes for file and folder names.\n"
   ],
   "metadata": {
    "collapsed": false,
    "pycharm": {
     "name": "#%% md\n"
    }
   }
  },
  {
   "cell_type": "markdown",
   "source": [
    "To run a Python program from the commandline, you have to navigate (use `cd`) to the folder where the script is and then type: `python3 name_of_your_script.py`"
   ],
   "metadata": {
    "collapsed": false,
    "pycharm": {
     "name": "#%% md\n"
    }
   }
  },
  {
   "cell_type": "markdown",
   "source": [
    "## Copying and Moving\n",
    "Two commands that go hand in hand are the command for copying and moving files (and folders) around.\n",
    "\n",
    "The command for copying is `cp` and the command for moving is `mv`. They both work in a similar fashion that the require you to tell the command what to copy/move and also where it should go. The commandline syntax is like this:\n",
    "`cp SOURCE DESTINATION`\n",
    "`mv SOURCE DESTINATION`\n",
    "\n",
    "SOURCE should be replaced by what you want to copy or move and DESTINATION should be replaced by where the thing should go.\n",
    "\n",
    "You have to tell `cp` or `mv` when you want to do it on a folder. And you do this by giving an argument to the command. Most Linux commands have arguments letting you specify how the command should work.\n",
    "\n",
    "For folders the command becomes:\n",
    "`cp -r SOURCE DESTINATION`\n",
    "`mv -r SOURCE DESTINATION`\n",
    "\n",
    "The -r argument is telling the command that it should to the operation recursively (repeating the command until it is done)."
   ],
   "metadata": {
    "collapsed": false,
    "pycharm": {
     "name": "#%% md\n"
    }
   }
  },
  {
   "cell_type": "markdown",
   "source": [
    "## Permissions\n",
    "You are not alone in the Linux environment, each student (and staff also) has a folder that is only owned by him/her this is called your **home** folder. This is also the location that by default opens when you open a terminal or when just typing `cd`.\n",
    "\n",
    "Linux has different permissions for given tasks. Such a task might be reading a file or folder. Making changes in a file or folder or executing a program. This is also called the read, write and execute permission. Whenever you create a file or folder you are the **owner**. However, you are also part of the **student group** (there are more, just type `groups` to see which ones you are member of). Someone who is not the owner or is in the same group is called **other**.\n",
    "\n",
    "So now we have the following permissions:\n",
    "- **r**ead, **w**rite and e**x**ecute\n",
    "\n",
    "and the following users:\n",
    "- **u**ser (owner), **g**roup and **o**ther\n",
    "\n",
    "For any given file or folder or program you can change the access by using the `chmod` or change mode command.\n",
    "\n",
    "First you would need to check what the current permissions are. You can do this by getting the long listing using the `ls` command, but now with an extra argument `-l` for long listing, as such: `ls -l`\n",
    "\n",
    "The first column describes the current permissions for every file, folder or program in the current directory and it might look something like this:\n",
    "`-rwxrwxrwx filename.txt`\n",
    "The first `-` indicates that the permissions are for a file, `d` would state that it was a directory.  We have 3 repeating blocks of 3 (possible) permissions, after the first part:\n",
    "- The first three are for the user\n",
    "- The second block of three are for the group\n",
    "- And the last block of three are for the others\n",
    "\n",
    "If we read the permission line above it would mean that:\n",
    "- The user has read, write and execute permission on that file\n",
    "- The group has read, write and execute permission on that file\n",
    "- Others also have read, write and execute permission on a file.\n",
    "\n",
    "The following permission line on the same file would limit the access:\n",
    "`-rwxrw-r-- filename.txt`\n",
    "\n",
    "If we read the permission line above it would mean that:\n",
    "- The user has read, write and execute permission on that file\n",
    "- The group has read and write on that file\n",
    "- Others only have read permission on that file.\n",
    "\n",
    "To change permissions we can either add (`+`) them, delete them (`-`) or change them to exactly that (`=`).\n",
    "\n",
    "To remove the read permissions for other on the file above we would issue the following `chmod` command: `chmod o-r filename.txt`\n",
    "\n",
    "We start with for whom we want to change the permission, followed by either adding (+), removing (-) or keeping exactly as typed (=) , then the permission we want to change and lastly on what file, folder or program.\n",
    "\n",
    "> Note: an execute permission on a folder is used as a lock on a door. If someone has permission to read a folder, but the execute permission is missing on a folder in the three leading to that folder, he/she will not be able to enter.\n",
    "\n",
    "> Note2: it is bad practise to make files executable, unless it is a program or a script that can be started.\n",
    "\n",
    "\n",
    "\n",
    "\n",
    "\n",
    "\n"
   ],
   "metadata": {
    "collapsed": false,
    "pycharm": {
     "name": "#%% md\n"
    }
   }
  },
  {
   "cell_type": "code",
   "execution_count": null,
   "outputs": [],
   "source": [],
   "metadata": {
    "collapsed": false,
    "pycharm": {
     "name": "#%%\n"
    }
   }
  }
 ],
 "metadata": {
  "kernelspec": {
   "display_name": "Python 3",
   "language": "python",
   "name": "python3"
  },
  "language_info": {
   "codemirror_mode": {
    "name": "ipython",
    "version": 2
   },
   "file_extension": ".py",
   "mimetype": "text/x-python",
   "name": "python",
   "nbconvert_exporter": "python",
   "pygments_lexer": "ipython2",
   "version": "2.7.6"
  }
 },
 "nbformat": 4,
 "nbformat_minor": 0
}