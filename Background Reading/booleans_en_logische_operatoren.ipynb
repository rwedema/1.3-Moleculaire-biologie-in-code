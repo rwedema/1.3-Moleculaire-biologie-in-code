{
 "cells": [
  {
   "cell_type": "markdown",
   "metadata": {
    "collapsed": true,
    "pycharm": {
     "name": "#%% md\n"
    }
   },
   "source": [
    "## booleans and logical operators\n",
    "When a value can only represent two states (true and false) there is a special datatype that is suited to hold this state. This datatype is called a **`boolean`**, and these are used in programming when you need to know what the result is of some expression. Any expression in Python will return either `True` or `False`.\n",
    "\n",
    "There are only two states a boolean can have:\n",
    "- True\n",
    "- False\n",
    "\n",
    "Some code examples:"
   ]
  },
  {
   "cell_type": "code",
   "execution_count": 1,
   "metadata": {
    "collapsed": false,
    "pycharm": {
     "name": "#%%\n"
    }
   },
   "outputs": [
    {
     "name": "stdout",
     "output_type": "stream",
     "text": [
      "False\n",
      "True\n"
     ]
    }
   ],
   "source": [
    "x = 4\n",
    "y = 5\n",
    "print(x > y)\n",
    "print(x < y)"
   ]
  },
  {
   "cell_type": "markdown",
   "metadata": {
    "collapsed": false,
    "pycharm": {
     "name": "#%% md\n"
    }
   },
   "source": [
    "`True` has the same value as 1 in Python while `False` has the same value as 0:"
   ]
  },
  {
   "cell_type": "code",
   "execution_count": 2,
   "metadata": {
    "collapsed": false,
    "pycharm": {
     "name": "#%%\n"
    }
   },
   "outputs": [
    {
     "name": "stdout",
     "output_type": "stream",
     "text": [
      "True\n",
      "True\n",
      "False\n",
      "False\n",
      "False\n"
     ]
    }
   ],
   "source": [
    "print(True == 1) # == evaluates for equal\n",
    "print(False == 0)\n",
    "print(True == 2)\n",
    "print(True == 0)\n",
    "print(False == 1)"
   ]
  },
  {
   "cell_type": "markdown",
   "metadata": {
    "collapsed": false,
    "pycharm": {
     "name": "#%% md\n"
    }
   },
   "source": [
    "> Any value in Python that has some content will evaluate to True.\n",
    ">\n",
    "> For example any number (except 0), any string (except empty), any list or Tuple (again except empty)."
   ]
  },
  {
   "cell_type": "code",
   "execution_count": 12,
   "metadata": {
    "collapsed": false,
    "pycharm": {
     "name": "#%%\n"
    }
   },
   "outputs": [
    {
     "name": "stdout",
     "output_type": "stream",
     "text": [
      "True\n",
      "False\n",
      "False\n",
      "True\n",
      "True\n",
      "False\n"
     ]
    }
   ],
   "source": [
    "# We can use the bool() function to check how Python evaluates a given value. The bool() function will return the boolean (True or False) representation.\n",
    "\n",
    "print(bool(\"This is not a empty string, so will result in.... TRUE!\"))\n",
    "print(bool(\"\"))\n",
    "\n",
    "print(bool(0))\n",
    "print(bool(42))\n",
    "\n",
    "print(bool([1,2,3]))\n",
    "print(bool([]))"
   ]
  },
  {
   "cell_type": "markdown",
   "metadata": {
    "collapsed": false,
    "pycharm": {
     "name": "#%% md\n"
    }
   },
   "source": [
    "### None\n",
    "To show that something is empty or non-existing, we can use the `None` datatype.\n",
    "\n",
    "The `None` keyword is used to define exactly that, nothing, a null value, no value. It is used as kind of a flag for nothing. It is definitely **not** the same as 0, an empty string or empty list. This is why we introduce the `None` datatype after you have seen how Python evaluated these in the previous boolean chapter.\n",
    "\n",
    "Imagine asking someone how many people have signed up for an event by putting their name on a list. 0 would mean that no people have signed up. It means that you *do* know something: you know that there are no people on the list. `None`, on the other hand, means that there is no value. No one counted the people on the list, or maybe the list got lost and nobody can ever count them. It, in a way indicated the absence of information.\n"
   ]
  },
  {
   "cell_type": "markdown",
   "metadata": {
    "collapsed": false,
    "pycharm": {
     "name": "#%% md\n"
    }
   },
   "source": [
    "So why is `None` useful? Imagine you are analyzing data from a digital weather station device. You are recording the temperature in degrees Celsius. The device did not boot yet. Now how do you store the temperature? There are multiple options you might think would work:\n",
    "\n",
    "- 0 might seem as the easiest solution, but is has an obvious problem: the device could also measure a temperature of 0. It is not possible after saving the value to determine if the value 0 was saved because it was relatively cold that day, or because the sensor did not work.\n",
    "- A very large number is not much better. Yes, you should never measure 9999 degrees Celsius, but computers don't know. You always have to perform extra checks yourself, which always results in extra confusion and (unnoticed) errors.\n",
    "- An empty string could never be mistaken for a number, but also this has problems. A string (as we've already seen) does not (usually) behave like an integer, which could lead to weird errors which are hard to interpret.\n",
    "\n",
    "You can see that `None` comes in very handy here. It is clear that there is no temperature received yet."
   ]
  },
  {
   "cell_type": "code",
   "execution_count": 13,
   "metadata": {
    "collapsed": false,
    "pycharm": {
     "name": "#%%\n"
    }
   },
   "outputs": [
    {
     "name": "stdout",
     "output_type": "stream",
     "text": [
      "None\n",
      "20.4\n"
     ]
    }
   ],
   "source": [
    "temp = None\n",
    "print(temp)\n",
    "\n",
    "temp = 20.4\n",
    "print(temp)"
   ]
  },
  {
   "cell_type": "markdown",
   "metadata": {
    "collapsed": false,
    "pycharm": {
     "name": "#%% md\n"
    }
   },
   "source": [
    "## logical and comparison operators\n",
    "We use operators to perform an operation such as addition (+), subtraction (-) on variables. There are different categories of operators and the one we have seen (+, -, /, etc) are called arithmetic operators.\n",
    "\n",
    "We have also seen the assignment operators (=, += , -=, etc) to assign a value to a variable.\n",
    "\n",
    "In this Notebook we will extend the operators with the logical and comparison operators. These are used when you want to combine conditional statements or in comparing values.\n"
   ]
  },
  {
   "cell_type": "markdown",
   "metadata": {
    "collapsed": false,
    "pycharm": {
     "name": "#%% md\n"
    }
   },
   "source": [
    "### Comparison operators\n",
    "Comparison operators are operators that let you (as the name suggests) compare two  values. The following comparison operators can be used to compare two values:\n",
    "\n",
    "| operator | Name                     | Example |\n",
    "|----------|--------------------------|---------|\n",
    "| ==       | Equal                    | x == y  |\n",
    "| !=       | Not Equal                | x != y  |\n",
    "| >        | Greater than             | x > y   |\n",
    "| <        | Smaller than             | x < y   |\n",
    "| >=       | Greater than or equal to | x >= y  |\n",
    "| <=       | Smaller than or equal to | x <= y  |\n",
    "\n",
    "The result of a conditional statement is always a boolean as can be seen in the code block below."
   ]
  },
  {
   "cell_type": "code",
   "execution_count": 1,
   "metadata": {
    "collapsed": false,
    "pycharm": {
     "name": "#%%\n"
    }
   },
   "outputs": [
    {
     "name": "stdout",
     "output_type": "stream",
     "text": [
      "False\n",
      "True\n",
      "False\n",
      "True\n",
      "False\n",
      "True\n"
     ]
    }
   ],
   "source": [
    "x = 4\n",
    "y = 5\n",
    "\n",
    "print(x == y)\n",
    "print(x != y)\n",
    "print(x > y)\n",
    "print(x < y)\n",
    "print(x >= y)\n",
    "print(x <= y)"
   ]
  },
  {
   "cell_type": "markdown",
   "metadata": {
    "collapsed": false,
    "pycharm": {
     "name": "#%% md\n"
    }
   },
   "source": [
    "## Conditional operators\n",
    "Using the comparison operators we can compare two values. But what if we wanted to compare more than two or reverse the result of the comparison?\n",
    "\n",
    "Luckily, Python has another categorie of operators named the conditional operators, that will allow us to do so. These conditional operators (sometimes also called logical operators) are placed inbetween or before comparison statements to combine these or to reverse the result.\n",
    "\n",
    "The outcome of using conditional statements is still a boolean, as we will show in a moment.\n",
    "\n",
    "The logical operators that can be used are the following:\n",
    "\n",
    "| Operator | Description                                  | Example                |\n",
    "|----------|----------------------------------------------|------------------------|\n",
    "| and      | Return True if both statements are true      | x < 5 and x < 10       |\n",
    "| or       | Return True if one of the statements is true | x < 5 or x < 4         |\n",
    "| not      | Reverse the result                           | not(x < 4 and x < 10)  |\n",
    "\n",
    "Some code examples:"
   ]
  },
  {
   "cell_type": "code",
   "execution_count": 5,
   "metadata": {
    "collapsed": false,
    "pycharm": {
     "name": "#%%\n"
    }
   },
   "outputs": [
    {
     "name": "stdout",
     "output_type": "stream",
     "text": [
      "True\n",
      "True\n",
      "False\n"
     ]
    }
   ],
   "source": [
    "x = 4\n",
    "y = 5\n",
    "\n",
    "print(x < 5 and y < 10)\n",
    "print(x < 5 or x < 6)\n",
    "print(not(x < 5 and y < 10))"
   ]
  },
  {
   "cell_type": "markdown",
   "metadata": {
    "collapsed": false,
    "pycharm": {
     "name": "#%% md\n"
    }
   },
   "source": [
    "The three operators `not`, `and` and then `or` have an order to them, in order of execution. `Not` goes first, than `and` and then `or`."
   ]
  },
  {
   "cell_type": "code",
   "execution_count": null,
   "metadata": {
    "collapsed": false,
    "pycharm": {
     "name": "#%%\n"
    }
   },
   "outputs": [],
   "source": [
    "0 and 0 or 1"
   ]
  },
  {
   "cell_type": "code",
   "execution_count": null,
   "metadata": {
    "collapsed": false,
    "pycharm": {
     "name": "#%%\n"
    }
   },
   "outputs": [],
   "source": [
    "(0 and 0) or 1\n",
    "# thus as:\n",
    "0 or 1"
   ]
  },
  {
   "cell_type": "markdown",
   "metadata": {
    "collapsed": false,
    "pycharm": {
     "name": "#%% md\n"
    }
   },
   "source": [
    "If you want to give the `or` priority you need to use parentheses:"
   ]
  },
  {
   "cell_type": "code",
   "execution_count": null,
   "metadata": {
    "collapsed": false,
    "pycharm": {
     "name": "#%%\n"
    }
   },
   "outputs": [],
   "source": [
    "0 and (0 or 1)\n",
    "# thus as\n",
    "0 and 1"
   ]
  },
  {
   "cell_type": "markdown",
   "metadata": {
    "collapsed": false,
    "pycharm": {
     "name": "#%% md\n"
    }
   },
   "source": [
    "## Short-Circuit Evaluation\n",
    "\n",
    "Python uses a methodology called short-circuit evaluation.\n",
    "This works as follows:\n",
    "\n",
    "- When the first part of an `and` expression evaluates to False, the overall value must be False\n",
    "- When the first part of an `or` expression evaluates to True, the overall value must be true.\n",
    "\n",
    "Thus, the second argument is executed or evaluated only if the first argument does not suffice to determine the value of the expression!\n",
    "\n",
    "To see that in action:"
   ]
  },
  {
   "cell_type": "code",
   "execution_count": 14,
   "metadata": {
    "collapsed": false,
    "pycharm": {
     "name": "#%%\n"
    }
   },
   "outputs": [
    {
     "name": "stdout",
     "output_type": "stream",
     "text": [
      "True\n",
      "False\n",
      "False\n",
      "False\n"
     ]
    }
   ],
   "source": [
    "print(True and True)\n",
    "print(True and False)\n",
    "print(False and True)\n",
    "print(False and False)"
   ]
  },
  {
   "cell_type": "markdown",
   "metadata": {
    "collapsed": false,
    "pycharm": {
     "name": "#%% md\n"
    }
   },
   "source": [
    "> As soon as an `and` expression finds False, the whole expression is False."
   ]
  },
  {
   "cell_type": "code",
   "execution_count": null,
   "metadata": {
    "collapsed": false,
    "pycharm": {
     "name": "#%%\n"
    }
   },
   "outputs": [],
   "source": [
    "print(True or True)\n",
    "print(True or False)\n",
    "print(False or True)\n",
    "print(False or False)"
   ]
  },
  {
   "cell_type": "markdown",
   "metadata": {
    "collapsed": false,
    "pycharm": {
     "name": "#%% md\n"
    }
   },
   "source": [
    "> As soon as an `or` expression finds True, the whole expression is True."
   ]
  },
  {
   "cell_type": "markdown",
   "metadata": {
    "collapsed": false,
    "pycharm": {
     "name": "#%% md\n"
    }
   },
   "source": [
    "`or` is a short circuit operator, so it only evaluates the second argument if the first one is false:"
   ]
  },
  {
   "cell_type": "code",
   "execution_count": null,
   "metadata": {
    "collapsed": false,
    "pycharm": {
     "name": "#%%\n"
    }
   },
   "outputs": [],
   "source": [
    "print(0 or 1) # bool(0) is False so the interpreter will continue with bool(1)\n",
    "print(1 or 2) # bool(1) is True so the interpreter will stop\n",
    "print(False or False or False or False or True or False or False) # Python will stop after the first True. No need to continue."
   ]
  },
  {
   "cell_type": "markdown",
   "metadata": {
    "collapsed": false,
    "pycharm": {
     "name": "#%% md\n"
    }
   },
   "source": [
    "`and` is also short circuit operator, so it only evaluates the second argument if the first one is true."
   ]
  },
  {
   "cell_type": "code",
   "execution_count": null,
   "metadata": {
    "collapsed": false,
    "pycharm": {
     "name": "#%%\n"
    }
   },
   "outputs": [],
   "source": [
    "print(0 and 1) # bool(0) is False so the interpreter will stop\n",
    "print(1 and 2) # bool(1) is True so the interpreter will continue\n",
    "print(True and True and True and True and True and False and True and True) # Python will stop after the first False. No need to continue."
   ]
  },
  {
   "cell_type": "code",
   "execution_count": null,
   "metadata": {
    "collapsed": false,
    "pycharm": {
     "name": "#%%\n"
    }
   },
   "outputs": [],
   "source": []
  }
 ],
 "metadata": {
  "kernelspec": {
   "display_name": "Python 3",
   "language": "python",
   "name": "python3"
  },
  "language_info": {
   "codemirror_mode": {
    "name": "ipython",
    "version": 2
   },
   "file_extension": ".py",
   "mimetype": "text/x-python",
   "name": "python",
   "nbconvert_exporter": "python",
   "pygments_lexer": "ipython2",
   "version": "2.7.6"
  }
 },
 "nbformat": 4,
 "nbformat_minor": 0
}
