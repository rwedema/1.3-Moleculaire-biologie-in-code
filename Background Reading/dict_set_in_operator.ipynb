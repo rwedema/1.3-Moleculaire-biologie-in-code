{
 "cells": [
  {
   "cell_type": "markdown",
   "source": [
    "## dict and set datatypes and the `in` operator\n",
    "\n",
    "Dictionaries are an important collection in Python. Each item inside a dictionary consists of a **key, value pair**. Thus, there is a coupling between the key-value pairs. Each key can only exist one time inside the dictionary and must be unique. Dictionaries are created using curly braces `{}`. Key and value pair are seperated by a semicolon `:`  as such `key:value`. Commas `,` are placed between key:value pairs.\n",
    "\n",
    "An example (for bio-informaticians):"
   ],
   "metadata": {
    "collapsed": false,
    "pycharm": {
     "name": "#%% md\n"
    }
   }
  },
  {
   "cell_type": "code",
   "execution_count": 1,
   "outputs": [
    {
     "name": "stdout",
     "output_type": "stream",
     "text": [
      "{'a': 'adenine', 't': 'thymine', 'c': 'cytosine', 'g': 'guanine'}\n"
     ]
    }
   ],
   "source": [
    "bases = {'a': 'adenine', 't': 'thymine', 'c': 'cytosine','g': 'guanine'} #compact notation\n",
    "\n",
    "# also allowed:\n",
    "\n",
    "bases = {'a': 'adenine',\n",
    "         't': 'thymine',\n",
    "         'c': 'cytosine',\n",
    "         'g': 'guanine'}\n",
    "\n",
    "print(bases)"
   ],
   "metadata": {
    "collapsed": false,
    "pycharm": {
     "name": "#%%\n"
    }
   }
  },
  {
   "cell_type": "markdown",
   "source": [
    "To get the value of a key, we have to use indexing. However, instead of using a number as the index, we have to give the key to retrieve the value:"
   ],
   "metadata": {
    "collapsed": false,
    "pycharm": {
     "name": "#%% md\n"
    }
   }
  },
  {
   "cell_type": "code",
   "execution_count": 2,
   "outputs": [
    {
     "name": "stdout",
     "output_type": "stream",
     "text": [
      "adenine\n"
     ]
    }
   ],
   "source": [
    "print(bases['a'])"
   ],
   "metadata": {
    "collapsed": false,
    "pycharm": {
     "name": "#%%\n"
    }
   }
  },
  {
   "cell_type": "markdown",
   "source": [
    "If you use a key that does not exist, you will get an error:"
   ],
   "metadata": {
    "collapsed": false,
    "pycharm": {
     "name": "#%% md\n"
    }
   }
  },
  {
   "cell_type": "code",
   "execution_count": 3,
   "outputs": [
    {
     "ename": "KeyError",
     "evalue": "'q'",
     "output_type": "error",
     "traceback": [
      "\u001B[0;31m---------------------------------------------------------------------------\u001B[0m",
      "\u001B[0;31mKeyError\u001B[0m                                  Traceback (most recent call last)",
      "\u001B[0;32m/var/folders/wz/y__hb3n94lj39qh11bpr74fm0000gn/T/ipykernel_24455/594736257.py\u001B[0m in \u001B[0;36m<module>\u001B[0;34m\u001B[0m\n\u001B[0;32m----> 1\u001B[0;31m \u001B[0mprint\u001B[0m\u001B[0;34m(\u001B[0m\u001B[0mbases\u001B[0m\u001B[0;34m[\u001B[0m\u001B[0;34m'q'\u001B[0m\u001B[0;34m]\u001B[0m\u001B[0;34m)\u001B[0m \u001B[0;31m# will result in a KeyError\u001B[0m\u001B[0;34m\u001B[0m\u001B[0;34m\u001B[0m\u001B[0m\n\u001B[0m",
      "\u001B[0;31mKeyError\u001B[0m: 'q'"
     ]
    }
   ],
   "source": [
    "print(bases['q']) # will result in a KeyError"
   ],
   "metadata": {
    "collapsed": false,
    "pycharm": {
     "name": "#%%\n"
    }
   }
  },
  {
   "cell_type": "markdown",
   "source": [
    "You can avoid this error using the `dict.get` method:"
   ],
   "metadata": {
    "collapsed": false,
    "pycharm": {
     "name": "#%% md\n"
    }
   }
  },
  {
   "cell_type": "code",
   "execution_count": 4,
   "outputs": [
    {
     "name": "stdout",
     "output_type": "stream",
     "text": [
      "adenine\n",
      "None\n"
     ]
    }
   ],
   "source": [
    "print(bases.get('a'))\n",
    "print(bases.get('q'))"
   ],
   "metadata": {
    "collapsed": false,
    "pycharm": {
     "name": "#%%\n"
    }
   }
  },
  {
   "cell_type": "markdown",
   "source": [
    "You can remove an item using the `del` keyword:"
   ],
   "metadata": {
    "collapsed": false,
    "pycharm": {
     "name": "#%% md\n"
    }
   }
  },
  {
   "cell_type": "code",
   "execution_count": 5,
   "outputs": [
    {
     "name": "stdout",
     "output_type": "stream",
     "text": [
      "{'t': 'thymine', 'c': 'cytosine', 'g': 'guanine'}\n"
     ]
    }
   ],
   "source": [
    "del bases['a']\n",
    "print(bases)"
   ],
   "metadata": {
    "collapsed": false,
    "pycharm": {
     "name": "#%%\n"
    }
   }
  },
  {
   "cell_type": "markdown",
   "source": [
    "And you can add an item as follows:"
   ],
   "metadata": {
    "collapsed": false,
    "pycharm": {
     "name": "#%% md\n"
    }
   }
  },
  {
   "cell_type": "code",
   "execution_count": 6,
   "outputs": [
    {
     "name": "stdout",
     "output_type": "stream",
     "text": [
      "{'t': 'thymine', 'c': 'cytosine', 'g': 'guanine', 'a': 'adenine'}\n"
     ]
    }
   ],
   "source": [
    "bases['a'] = 'adenine'\n",
    "print(bases)"
   ],
   "metadata": {
    "collapsed": false,
    "pycharm": {
     "name": "#%%\n"
    }
   }
  },
  {
   "cell_type": "markdown",
   "source": [
    "If you want to add multiple items you can use the `update()` method of the dict datatype:"
   ],
   "metadata": {
    "collapsed": false,
    "pycharm": {
     "name": "#%% md\n"
    }
   }
  },
  {
   "cell_type": "code",
   "execution_count": 7,
   "outputs": [
    {
     "name": "stdout",
     "output_type": "stream",
     "text": [
      "{'a': 'adenine', 't': 'thymine'}\n",
      "{'a': 'adenine', 't': 'thymine', 'c': 'cytosine', 'g': 'guanine'}\n"
     ]
    }
   ],
   "source": [
    "bases = {'a': 'adenine', 't': 'thymine'}\n",
    "print(bases)\n",
    "\n",
    "bases.update({'c': 'cytosine', 'g': 'guanine'})\n",
    "print(bases)"
   ],
   "metadata": {
    "collapsed": false,
    "pycharm": {
     "name": "#%%\n"
    }
   }
  },
  {
   "cell_type": "markdown",
   "source": [
    "You might have wondered if you could work the other way around, retrieve a key from a value. The answer is no, not possible...\n",
    "\n",
    "You need to swap the keys and values:"
   ],
   "metadata": {
    "collapsed": false,
    "pycharm": {
     "name": "#%% md\n"
    }
   }
  },
  {
   "cell_type": "code",
   "execution_count": 9,
   "outputs": [
    {
     "name": "stdout",
     "output_type": "stream",
     "text": [
      "{'a': 'adenine', 't': 'thymine', 'c': 'cytosine', 'g': 'guanine'}\n",
      "{'adenine': 'a', 'thymine': 't', 'cytosine': 'c', 'guanine': 'g'}\n"
     ]
    }
   ],
   "source": [
    "print(bases)\n",
    "bases_switched = {} # create empty dict\n",
    "for i in bases:\n",
    "    new_key = bases[i]\n",
    "    new_value = i\n",
    "    bases_switched[new_key] = new_value\n",
    "print(bases_switched)"
   ],
   "metadata": {
    "collapsed": false,
    "pycharm": {
     "name": "#%%\n"
    }
   }
  },
  {
   "cell_type": "markdown",
   "source": [
    "duplicate keys cannot exist, so when you swap keys and values, you will loose the duplicate values."
   ],
   "metadata": {
    "collapsed": false,
    "pycharm": {
     "name": "#%% md\n"
    }
   }
  },
  {
   "cell_type": "markdown",
   "source": [
    "> Python dictionaries are ordered. You might still read that they are not ordered but this changed recently."
   ],
   "metadata": {
    "collapsed": false,
    "pycharm": {
     "name": "#%% md\n"
    }
   }
  },
  {
   "cell_type": "markdown",
   "source": [
    "## Sets\n",
    "A set is like a dictionary without values. Thus, it is a set of unique keys. Sets are unordered. An example:"
   ],
   "metadata": {
    "collapsed": false,
    "pycharm": {
     "name": "#%% md\n"
    }
   }
  },
  {
   "cell_type": "code",
   "execution_count": 10,
   "outputs": [],
   "source": [
    "bases_dna = {\"a\", \"t\", \"c\", \"g\"}\n",
    "bases_rna = {\"a\", \"u\", \"c\", \"g\"}"
   ],
   "metadata": {
    "collapsed": false,
    "pycharm": {
     "name": "#%%\n"
    }
   }
  },
  {
   "cell_type": "markdown",
   "source": [
    "You can use set to check if all bases of DNA are present:"
   ],
   "metadata": {
    "collapsed": false,
    "pycharm": {
     "name": "#%% md\n"
    }
   }
  },
  {
   "cell_type": "code",
   "execution_count": 11,
   "outputs": [
    {
     "name": "stdout",
     "output_type": "stream",
     "text": [
      "{'t', 'g', 'a'}\n"
     ]
    }
   ],
   "source": [
    "dna = \"atttgggaatg\"\n",
    "print(set(dna))"
   ],
   "metadata": {
    "collapsed": false,
    "pycharm": {
     "name": "#%%\n"
    }
   }
  },
  {
   "cell_type": "markdown",
   "source": [
    "You can use set methods to get the union, intersection and differences. Have a look at the Venn diagram that shows some possible logical relations between different sets (source: https://en.wikipedia.org/wiki/Venn_diagram):\n",
    "![Venn](figs/venn.png)"
   ],
   "metadata": {
    "collapsed": false,
    "pycharm": {
     "name": "#%% md\n"
    }
   }
  },
  {
   "cell_type": "code",
   "execution_count": 12,
   "outputs": [
    {
     "name": "stdout",
     "output_type": "stream",
     "text": [
      "{'g', 'a', 'c'}\n",
      "{'u', 'g', 'a', 'c', 't'}\n",
      "{'t'}\n",
      "{'u'}\n",
      "{'u', 't'}\n"
     ]
    }
   ],
   "source": [
    "print(bases_dna.intersection(bases_rna)) # returns the set of elements that are present in both sets\n",
    "print(bases_dna.union(bases_rna)) # returns the set of elements present in either set\n",
    "#dir(bases_dna)\n",
    "print(bases_dna.difference(bases_rna)) # returns the set of elements present in bases_dna, but not bases_rna\n",
    "print(bases_rna.difference(bases_dna)) # returns the set of elements present in bases_rna, but not bases_dna\n",
    "\n",
    "print(bases_dna.symmetric_difference(bases_rna)) # returns the set of elements present in either set, but not in both"
   ],
   "metadata": {
    "collapsed": false,
    "pycharm": {
     "name": "#%%\n"
    }
   }
  },
  {
   "cell_type": "markdown",
   "source": [
    "## The `in` operator\n",
    "The in operator in Python can be used in two different contexts.\n",
    "\n",
    "The first use of the in operator is in the use of a for loop (as we've already seen). Here it is used to iterate over the different values.\n",
    "\n",
    "`codons = ['atg', 'ggg', 'ttt']\n",
    "for codon in codons:\n",
    "    print(codon)`\n",
    "\n",
    "The other use of the `in` keyword is in finding if an element is present in an iterable. The `in` operator returns `True` if an element is found, `False` otherwise.\n",
    "\n",
    "Example:"
   ],
   "metadata": {
    "collapsed": false,
    "pycharm": {
     "name": "#%% md\n"
    }
   }
  },
  {
   "cell_type": "code",
   "execution_count": 13,
   "outputs": [
    {
     "name": "stdout",
     "output_type": "stream",
     "text": [
      "True\n"
     ]
    }
   ],
   "source": [
    "x = 'ATGC'\n",
    "print('A' in x)"
   ],
   "metadata": {
    "collapsed": false,
    "pycharm": {
     "name": "#%%\n"
    }
   }
  },
  {
   "cell_type": "code",
   "execution_count": 14,
   "outputs": [
    {
     "name": "stdout",
     "output_type": "stream",
     "text": [
      "True\n"
     ]
    }
   ],
   "source": [
    "d = {1:'a', 2:'b', 3:'c'}\n",
    "print(2 in d)"
   ],
   "metadata": {
    "collapsed": false,
    "pycharm": {
     "name": "#%%\n"
    }
   }
  },
  {
   "cell_type": "code",
   "execution_count": 15,
   "outputs": [
    {
     "name": "stdout",
     "output_type": "stream",
     "text": [
      "False\n"
     ]
    }
   ],
   "source": [
    "l = [1,2,3,4,5]\n",
    "print(6 in l)"
   ],
   "metadata": {
    "collapsed": false,
    "pycharm": {
     "name": "#%%\n"
    }
   }
  },
  {
   "cell_type": "code",
   "execution_count": null,
   "outputs": [],
   "source": [],
   "metadata": {
    "collapsed": false,
    "pycharm": {
     "name": "#%%\n"
    }
   }
  }
 ],
 "metadata": {
  "kernelspec": {
   "display_name": "Python 3",
   "language": "python",
   "name": "python3"
  },
  "language_info": {
   "codemirror_mode": {
    "name": "ipython",
    "version": 2
   },
   "file_extension": ".py",
   "mimetype": "text/x-python",
   "name": "python",
   "nbconvert_exporter": "python",
   "pygments_lexer": "ipython2",
   "version": "2.7.6"
  }
 },
 "nbformat": 4,
 "nbformat_minor": 0
}