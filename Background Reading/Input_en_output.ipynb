{
 "cells": [
  {
   "cell_type": "markdown",
   "source": [
    "# Input and output (IO)\n",
    "Often, you want to read data in your program. When you start a Python session, your data will not be present yet in collections such as strings, lists, tuples amd dictionaries. These collections only live in memory. Not in a persistent state. To create such collections, you often start with reading data from a persistent state (files). This lesson, we will be dealing with reading from files and writing to files. Python can open many different file types. This course will concentrate on ASCII files (also called plain text files). A text file, is a file in which each byte represents one character according to the ASCII code. There is no layout such as bold, superscript etc. Remember that we already opened text files in lesson 2. Let's start with a short summary from that lesson."
   ],
   "metadata": {
    "collapsed": false,
    "pycharm": {
     "name": "#%% md\n"
    }
   }
  },
  {
   "cell_type": "markdown",
   "source": [
    "The most basic file type is the text file or ASCII file. This is a file that you can open with a text-editor and yields readable text:"
   ],
   "metadata": {
    "collapsed": false,
    "pycharm": {
     "name": "#%% md\n"
    }
   }
  },
  {
   "cell_type": "code",
   "execution_count": null,
   "outputs": [],
   "source": [
    "# you do not need to understand the code below yet.\n",
    "import platform\n",
    "os_type = platform.system()\n",
    "if os_type == \"Windows\":\n",
    "    !more file1.txt\n",
    "else: # must be Unix-like, thus cat is probably installed.\n",
    "    !cat file1.txt"
   ],
   "metadata": {
    "collapsed": false,
    "pycharm": {
     "name": "#%%\n"
    }
   }
  },
  {
   "cell_type": "markdown",
   "source": [
    "In the code above we used the command `more` (installed on Windows) or the command `cat` (installed on Unix-like systems) to read the content of the file. We can do that with Python too:"
   ],
   "metadata": {
    "collapsed": false,
    "pycharm": {
     "name": "#%% md\n"
    }
   }
  },
  {
   "cell_type": "code",
   "execution_count": 1,
   "outputs": [
    {
     "name": "stdout",
     "output_type": "stream",
     "text": [
      "<_io.TextIOWrapper name='../Opdrachten/Data/file1.txt' mode='r' encoding='UTF-8'>\n",
      "This is a text file.\n",
      "If you open it with a text editor, you will be able to read the text.\n",
      "End of message...\n"
     ]
    }
   ],
   "source": [
    "filename = \"../Opdrachten/Data/file1.txt\"\n",
    "file_object = open(filename)\n",
    "print(file_object)\n",
    "file_content = file_object.read()\n",
    "print(file_content)"
   ],
   "metadata": {
    "collapsed": false,
    "pycharm": {
     "name": "#%%\n"
    }
   }
  },
  {
   "cell_type": "markdown",
   "source": [
    "- The first line specifies the path to the filename. Because the file is in the same directory as this notebook file, we only need to specify the name of the file.\n",
    "- The `open` function will return a file object. The file content is not read yet.\n",
    "- The file object is printed to show that the content of the file is not read yet in order to save memory.\n",
    "- The `read` method of the file object is called to read the content of the file and the content is returned in a multi-line string. The variable `file-content` is assigned to this string.\n",
    "- The string is printed\n",
    "\n"
   ],
   "metadata": {
    "collapsed": false,
    "pycharm": {
     "name": "#%% md\n"
    }
   }
  },
  {
   "cell_type": "markdown",
   "source": [
    "## Reading files in streaming mode\n",
    "While our previous method works, it is often not adviced to work with large files this way. The file-object.read() method allocates a lot of memory. If you use large files, it is better to work in streaming mode. Let's repeat the previous example in streaming mode:"
   ],
   "metadata": {
    "collapsed": false,
    "pycharm": {
     "name": "#%% md\n"
    }
   }
  },
  {
   "cell_type": "code",
   "execution_count": null,
   "outputs": [],
   "source": [
    "filename = \"../Data/file1.txt\"\n",
    "file_object = open(filename)\n",
    "for line in file_object:\n",
    "    print(line, end=\"\")"
   ],
   "metadata": {
    "collapsed": false,
    "pycharm": {
     "name": "#%%\n"
    }
   }
  },
  {
   "cell_type": "markdown",
   "source": [
    "Note that we use a for loop to read through the content of the file. You can only do this once. If you try to do it again you will observe that the file object is exhausted:"
   ],
   "metadata": {
    "collapsed": false,
    "pycharm": {
     "name": "#%% md\n"
    }
   }
  },
  {
   "cell_type": "code",
   "execution_count": null,
   "outputs": [],
   "source": [
    "for line in file_object:\n",
    "    print(line, end=\"\")\n",
    "print(\"This is used to show that this cell is executed\")"
   ],
   "metadata": {
    "collapsed": false,
    "pycharm": {
     "name": "#%%\n"
    }
   }
  },
  {
   "cell_type": "markdown",
   "source": [
    "So if you want to print the content of the file again, you need to create a new object using the open function:"
   ],
   "metadata": {
    "collapsed": false,
    "pycharm": {
     "name": "#%% md\n"
    }
   }
  },
  {
   "cell_type": "code",
   "execution_count": null,
   "outputs": [],
   "source": [
    "filename = \"../Data/file1.txt\"\n",
    "file_object = open(filename)\n",
    "for line in file_object:\n",
    "    print(line, end=\"\")"
   ],
   "metadata": {
    "collapsed": false,
    "pycharm": {
     "name": "#%%\n"
    }
   }
  },
  {
   "cell_type": "markdown",
   "source": [
    "To show you the difference in memory usage, I will use some code that you do not need to understand yet, but it does show the amount of memory used. First, reading the content of the file using file-object.read() method:"
   ],
   "metadata": {
    "collapsed": false,
    "pycharm": {
     "name": "#%% md\n"
    }
   }
  },
  {
   "cell_type": "code",
   "execution_count": null,
   "outputs": [],
   "source": [
    "import sys\n",
    "my_file = open('file1.txt')\n",
    "content = my_file.read()\n",
    "print(sys.getsizeof(content), 'bytes')"
   ],
   "metadata": {
    "collapsed": false,
    "pycharm": {
     "name": "#%%\n"
    }
   }
  },
  {
   "cell_type": "markdown",
   "source": [
    "Now reading the same file in streaming mode:"
   ],
   "metadata": {
    "collapsed": false,
    "pycharm": {
     "name": "#%% md\n"
    }
   }
  },
  {
   "cell_type": "code",
   "execution_count": null,
   "outputs": [],
   "source": [
    "my_file = open('file1.txt')\n",
    "for line in my_file:\n",
    "    print(sys.getsizeof(line), 'bytes')"
   ],
   "metadata": {
    "collapsed": false,
    "pycharm": {
     "name": "#%%\n"
    }
   }
  },
  {
   "cell_type": "markdown",
   "source": [
    "As you can see, processing a file line-by-line allocates less memory. Because Bio-informaticians often work with very large files, processing of files line-by-line is often preferred."
   ],
   "metadata": {
    "collapsed": false,
    "pycharm": {
     "name": "#%% md\n"
    }
   }
  },
  {
   "cell_type": "markdown",
   "source": [
    "## File modi\n",
    "There are different modi a file object can be in:\n",
    "- read or 'r'\n",
    "- write or 'w'\n",
    "- append or 'a'\n",
    "\n",
    "The are more modi but we will concentrate on these three."
   ],
   "metadata": {
    "collapsed": false,
    "pycharm": {
     "name": "#%% md\n"
    }
   }
  },
  {
   "cell_type": "markdown",
   "source": [
    "Read is default so you do not have to explicitly define it, although it does not hurt if you do:"
   ],
   "metadata": {
    "collapsed": false,
    "pycharm": {
     "name": "#%% md\n"
    }
   }
  },
  {
   "cell_type": "code",
   "execution_count": null,
   "outputs": [],
   "source": [
    "my_file = open('file1.txt', 'r') # explicit in read mode\n",
    "for line in my_file:\n",
    "    print(line, end='')"
   ],
   "metadata": {
    "collapsed": false,
    "pycharm": {
     "name": "#%%\n"
    }
   }
  },
  {
   "cell_type": "markdown",
   "source": [
    "If you only read a file, closing it is not very important. Python will close it for you when the script stops. It is, however good practice to close your file after use and it is **very important** when you write stuff to files."
   ],
   "metadata": {
    "collapsed": false,
    "pycharm": {
     "name": "#%% md\n"
    }
   }
  },
  {
   "cell_type": "code",
   "execution_count": null,
   "outputs": [],
   "source": [
    "my_file = open('file1.txt', 'r') # explicit in read mode\n",
    "for line in my_file:\n",
    "    print(line, end='')\n",
    "my_file.close() # explicitly close your files."
   ],
   "metadata": {
    "collapsed": false,
    "pycharm": {
     "name": "#%%\n"
    }
   }
  },
  {
   "cell_type": "markdown",
   "source": [
    "## Write data using the print function\n",
    "You can write data to a file using the `print()` function"
   ],
   "metadata": {
    "collapsed": false,
    "pycharm": {
     "name": "#%% md\n"
    }
   }
  },
  {
   "cell_type": "code",
   "execution_count": null,
   "outputs": [],
   "source": [
    "my_file = open(\"hello.txt\", \"w\") # write mode\n",
    "print(\"hello\", file=my_file)\n",
    "print(\"This is used to show that this cell is executed\")\n",
    "my_file.close()"
   ],
   "metadata": {
    "collapsed": false,
    "pycharm": {
     "name": "#%%\n"
    }
   }
  },
  {
   "cell_type": "markdown",
   "source": [
    "As you can see, the string `hello` is not printed to screen but it is written to the file hello.txt:"
   ],
   "metadata": {
    "collapsed": false,
    "pycharm": {
     "name": "#%% md\n"
    }
   }
  },
  {
   "cell_type": "code",
   "execution_count": null,
   "outputs": [],
   "source": [
    "for i in open('hello.txt'):\n",
    "    print(i, end='')"
   ],
   "metadata": {
    "collapsed": false,
    "pycharm": {
     "name": "#%%\n"
    }
   }
  },
  {
   "cell_type": "markdown",
   "source": [
    "Note that the file modus used is write mode. That means that the content of the file will be overwritten each time the code is executed:"
   ],
   "metadata": {
    "collapsed": false,
    "pycharm": {
     "name": "#%% md\n"
    }
   }
  },
  {
   "cell_type": "code",
   "execution_count": null,
   "outputs": [],
   "source": [
    "my_file = open(\"hello.txt\", \"w\") # write mode\n",
    "print(\"bla bla\", file=my_file) # different string is written to the file\n",
    "my_file.close()\n",
    "\n",
    "for i in open('hello.txt'):\n",
    "    print(i, end='') # hello is replaced by bla bla"
   ],
   "metadata": {
    "collapsed": false,
    "pycharm": {
     "name": "#%%\n"
    }
   }
  },
  {
   "cell_type": "markdown",
   "source": [
    "The `file=` parameter in the print function is often used to write messages to a log file. It is usefull to write to a log file in append mode:"
   ],
   "metadata": {
    "collapsed": false,
    "pycharm": {
     "name": "#%% md\n"
    }
   }
  },
  {
   "cell_type": "code",
   "execution_count": null,
   "outputs": [],
   "source": [
    "seq = \"gatc\"\n",
    "log = open(\"log.txt\", \"a\")\n",
    "print(\"sequence converted to:\", seq, file=log)\n",
    "log.close()"
   ],
   "metadata": {
    "collapsed": false,
    "pycharm": {
     "name": "#%%\n"
    }
   }
  },
  {
   "cell_type": "code",
   "execution_count": null,
   "outputs": [],
   "source": [
    "# Read the file:\n",
    "for line in open(\"log.txt\"):\n",
    "    print(line, end=\"\")"
   ],
   "metadata": {
    "collapsed": false,
    "pycharm": {
     "name": "#%%\n"
    }
   }
  },
  {
   "cell_type": "code",
   "execution_count": null,
   "outputs": [],
   "source": [
    "# Add a new log entry:\n",
    "seq = \"cccc\"\n",
    "log = open(\"log.txt\", \"a\")\n",
    "print(\"sequence converted to:\", seq, file=log)\n",
    "log.close()"
   ],
   "metadata": {
    "collapsed": false,
    "pycharm": {
     "name": "#%%\n"
    }
   }
  },
  {
   "cell_type": "code",
   "execution_count": null,
   "outputs": [],
   "source": [
    "# Read the file again:\n",
    "for line in open(\"log.txt\"):\n",
    "    print(line, end=\"\")"
   ],
   "metadata": {
    "collapsed": false,
    "pycharm": {
     "name": "#%%\n"
    }
   }
  },
  {
   "cell_type": "markdown",
   "source": [
    "## Write data using the file_object.write() method\n",
    "Alternatively to the print function, you can also write to a file using the `file_object.write()` method. Here is an example:"
   ],
   "metadata": {
    "collapsed": false,
    "pycharm": {
     "name": "#%% md\n"
    }
   }
  },
  {
   "cell_type": "code",
   "execution_count": null,
   "outputs": [],
   "source": [
    "sequences = [\"GAATC\", \"CAACC\", \"GAGGG\", \"TTTTT\", \"AAAA\"]\n",
    "seq_file_obj = open(\"seq.txt\", 'w')\n",
    "for seq in sequences:\n",
    "    seq_file_obj.write(seq)\n",
    "seq_file_obj.close()\n",
    "print(\"done\")"
   ],
   "metadata": {
    "collapsed": false,
    "pycharm": {
     "name": "#%%\n"
    }
   }
  },
  {
   "cell_type": "code",
   "execution_count": null,
   "outputs": [],
   "source": [
    "# And read the content of the file:\n",
    "for line in open(\"seq.txt\"):\n",
    "    print(line, end=\"\")"
   ],
   "metadata": {
    "collapsed": false,
    "pycharm": {
     "name": "#%%\n"
    }
   }
  },
  {
   "cell_type": "markdown",
   "source": [
    "Oops, thats not what we wanted. Of course we want a newline \"\\n\" after each sequence. The print function adds a newline by default. We can add one here as well:"
   ],
   "metadata": {
    "collapsed": false,
    "pycharm": {
     "name": "#%% md\n"
    }
   }
  },
  {
   "cell_type": "code",
   "execution_count": null,
   "outputs": [],
   "source": [
    "sequences = [\"GAATC\", \"CAACC\", \"GAGGG\", \"TTTTT\", \"AAAA\"]\n",
    "seq_file_obj = open(\"seq.txt\", 'w')\n",
    "for seq in sequences:\n",
    "    seq_file_obj.write(seq + \"\\n\")\n",
    "seq_file_obj.close()\n",
    "print(\"done\")"
   ],
   "metadata": {
    "collapsed": false,
    "pycharm": {
     "name": "#%%\n"
    }
   }
  },
  {
   "cell_type": "code",
   "execution_count": null,
   "outputs": [],
   "source": [
    "# Read the file:\n",
    "for line in open(\"seq.txt\"):\n",
    "    print(line, end=\"\")"
   ],
   "metadata": {
    "collapsed": false,
    "pycharm": {
     "name": "#%%\n"
    }
   }
  },
  {
   "cell_type": "markdown",
   "source": [
    "## Using with() for reading and writing files\n",
    "When we open a file for writing it is very important to explicitly close the file, forgetting to do so might cose you to lose data. Luckily, Python has a builtin mechanisme that will close the file automatically as soon as you are done.\n",
    "\n",
    "This is done with the `with()` statement. It is a content management function that changes its behavior based on where you invoke it. For now, we will just focus on the use case of reading and writing files.\n",
    "\n",
    "To read or write a file using the `with()` statement we place the `with()` in front of the `open()` command, and we give this statement a name using the `as` keyword. From then on, we use the name we just provided to do the reading or writing. As soon as we are done with the file. `with()` will close the file for us."
   ],
   "metadata": {
    "collapsed": false,
    "pycharm": {
     "name": "#%% md\n"
    }
   }
  },
  {
   "cell_type": "code",
   "execution_count": null,
   "outputs": [],
   "source": [
    "# file reading without with()\n",
    "file_reader = open('a_file.txt', r)\n",
    "for line in file_reader:\n",
    "    print(line)\n",
    "file_reader.close()\n",
    "\n",
    "# file reading using with()\n",
    "with open('a_file.txt', r) as file_reader:\n",
    "    for line in file_reader:\n",
    "        print(line)\n",
    "# no need to close this last open() file, with() will deal with the closing for us\n"
   ],
   "metadata": {
    "collapsed": false,
    "pycharm": {
     "name": "#%%\n"
    }
   }
  }
 ],
 "metadata": {
  "kernelspec": {
   "display_name": "Python 3",
   "language": "python",
   "name": "python3"
  },
  "language_info": {
   "codemirror_mode": {
    "name": "ipython",
    "version": 2
   },
   "file_extension": ".py",
   "mimetype": "text/x-python",
   "name": "python",
   "nbconvert_exporter": "python",
   "pygments_lexer": "ipython2",
   "version": "2.7.6"
  }
 },
 "nbformat": 4,
 "nbformat_minor": 0
}