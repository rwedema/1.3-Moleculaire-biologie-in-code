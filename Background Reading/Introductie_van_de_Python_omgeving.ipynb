{
 "cells": [
  {
   "cell_type": "markdown",
   "id": "demanding-immune",
   "metadata": {
    "pycharm": {
     "name": "#%% md\n"
    }
   },
   "source": [
    "# The Python environment\n",
    "\n",
    "Before you can start coding in Python on any computer, that computer needs to be able to 'speak the language'. You are going to have to install python, and teach your computer to recognize it. \n",
    "\n",
    "This tutorial is for anyone who wants to set up their own computer for programming. Besided the Python programming language there are some usefull tools that we make use of, these will also be explained in this chapter.\n",
    "\n",
    "Note: when working from the Hanze bio-informatics computers all the necessary Python programs are already installed for you and you can start programming in Python straight away."
   ]
  },
  {
   "cell_type": "markdown",
   "id": "obvious-threat",
   "metadata": {
    "pycharm": {
     "name": "#%% md\n"
    }
   },
   "source": [
    "## Installing Python on your computer\n",
    "\n",
    "On a computer that has not been used for Python programming before, we first need to install Python. Use one of the following link for your computer architecture to download the latest release (Python 3):\n",
    "Windows computers: https://www.python.org/downloads/windows/\n",
    "Mac computers: https://www.python.org/downloads/macos/\n",
    "Linux computers: most Linux distro's come with Python 3 pre-installed as the default\n",
    "\n",
    "Follow the installation instructions as prompted, HOWEVER, if at any point you encounter a checkbox asking you if you want to add Python to the PATH, check it!!\n",
    "\n",
    "Failing to do this will still install python on your system, but your computer won't be able to recognize or recall it when encountering python code. You will probably need to reinstall in. \n",
    "\n",
    "To check if this step was succesfull, it is important to check if python 3 can be started from a terminal. To do this open a terminal (or powershell, on windows) and type `python -V` to show you if it is installed and refering to the correct version. the version should be at least 3.8 or higher. \n",
    "\n"
   ]
  },
  {
   "cell_type": "markdown",
   "id": "spoken-vault",
   "metadata": {
    "pycharm": {
     "name": "#%% md\n"
    }
   },
   "source": [
    "## Jupyter Notebook\n",
    "\n",
    "The supporting background material and exercises are created inside Jupyter notebooks. To be able to view/modify and run these notebooks, you can do two things:\n",
    "\n",
    "Install [Jupyter](https://jupyter.org/install). Note that you first need to have Python installed correctly (previous step), before attempting the installation of Jupyter. \n",
    "\n",
    "Or you can download Visual Studio Code (an IDE, which is useful to have even if you don't use it for notebooks), and install the Jupyter extension within VSC. \n",
    "\n",
    "Jupyter is a web application that allows you to combine text, live code, equations and visualizations in Jupyter notebooks. It is very powerful for datascience as it allows to combine code with descriptions, figures, tables etc. all in one document. This presentation was actually made as a Jupyter notebook:\n",
    "\n",
    "![Jupyter notebook](figs/fig2.png)"
   ]
  },
  {
   "cell_type": "markdown",
   "id": "furnished-nickname",
   "metadata": {
    "pycharm": {
     "name": "#%% md\n"
    }
   },
   "source": [
    "## Other development tools\n",
    "\n",
    "While a notebook is good place to start your Python programming adventure. In the future you might want to look at other environments that can be used instead of Notebook (Notebooks have their place and are extremely usefull when creating documents that have code and text combined). When you start to write larger Python programs, other programs start to shine their light. In these programs, often called IDE's for Integrated Development Environments, you will find all kinds of different tools centralized into a single program to help you develop programs.\n",
    "\n",
    "Recomended IDE's are (also installed on the Linux machines @ bio-informatics):\n",
    "- [Jetbrains Pycharm](https://www.jetbrains.com/pycharm/download/#section=linux) (you can get the proffesional edition with your [Hanze email account](https://www.jetbrains.com/shop/eform/students))\n",
    "- [Microsoft Visual Code](https://code.visualstudio.com/download)\n"
   ]
  },
  {
   "cell_type": "markdown",
   "id": "impaired-stevens",
   "metadata": {
    "pycharm": {
     "name": "#%% md\n"
    }
   },
   "source": [
    "## Working from home and logging in remotely \n",
    "\n",
    "You can loggin at the Hanze bio-informatics computers and use the computer resources available. Here you will find a short tutorial describing how to do this on different platforms.\n",
    "\n",
    "**WINDOWS**  \n",
    "First, download and open MobaXterm (https://mobaxterm.mobatek.net/ download -> home edition -> Installer edition). Make sure you unpack the file first.\n",
    "In MobaXterm, click ‘Session’ and then ‘SSH’, you should end up on this screen:    \n",
    "\n",
    "![MobaXterm](figs/moba_intro.png)\n",
    "\n",
    "\n",
    "For **remote host** type `bioinf.nl`, Mark the box for specify username and use the same username you would use to log in on the BIN PCs. For the port, use **4235**. You will be taken to a terminal and prompted to fill in a password. This, again, is the same password you’d use to get onto the BIN computers. \n",
    "\n",
    "Once logged in, you will be taken to Mordor. You should see something like this:\n",
    "![Mordor](figs/mordor.png)\n",
    "\n",
    "\n",
    "To see which PCs are available for you to use, visit the website bioinf.nl/~Piet/status    \n",
    "This website will show you an overview of all BIN PCs, and should look something like this: \n",
    "![Status](figs/status.png)\n",
    "\n",
    "In this list you can see the PC’s names (Host), and whomever is logged in on that PC right now (Users logged in). If possible, pick a machine no one is working on right now. Most PC’s will be offline, this doesn’t matter. \n",
    "To move from Mordor onto a BIN PC, type `ssh pcname`, see the example below: \n",
    "![hop](figs/hop_ssh.png)\n",
    "\n",
    "Now, we are logged in on nuc404, from here, our files are accessible on the left side of the screen. You can navigate the folders in the menu on the left, and download any files from the BIN system to your own PCs by right-clicking them and selecting ‘download’. To move files from your own PC to the BIN system, simply drag & drop them.\n",
    "\n",
    "\n",
    "**LINUX/MAC**  \n",
    "A connection to the Bin network is made from the terminal using the ssh command:\n",
    "`ssh -p 4235 username@bioinf.nl`\n",
    "\n",
    "See the part under Windows about the extra connection you have to make from Mordor. Select a free pc and remember it’s name. Now type in the terminal:\n",
    "`ssh nameofthepc` -> example: `ssh nuc203`\n",
    "\n",
    "You now have a terminal open @ a Hanze Linux computer, waiting for commands from you. Such as starting an interactive Python console.\n",
    "\n",
    "To copy files we have to use the scp command:\n",
    "`scp -P 4235 CopyWhat CopyWhere`\n",
    "\n",
    "Example Hanze file to home pc/laptop\n",
    "`scp -P 4235 ronald@bioinf.nl:/homes/Ronald/Desktop/file.py .`\n",
    "The last dot in the previous command means, here in this location were we issued the command\n",
    "\n",
    "Example pc/laptop to Hanze\n",
    "`scp -P 4235 file.py ronald@bioinf.nl:/homes/Ronald/Desktop/file.py`\n",
    "\n"
   ]
  },
  {
   "cell_type": "code",
   "execution_count": null,
   "id": "exciting-expense",
   "metadata": {
    "pycharm": {
     "name": "#%%\n"
    }
   },
   "outputs": [],
   "source": []
  }
 ],
 "metadata": {
  "kernelspec": {
   "display_name": "Python 3 (ipykernel)",
   "language": "python",
   "name": "python3"
  },
  "language_info": {
   "codemirror_mode": {
    "name": "ipython",
    "version": 3
   },
   "file_extension": ".py",
   "mimetype": "text/x-python",
   "name": "python",
   "nbconvert_exporter": "python",
   "pygments_lexer": "ipython3",
   "version": "3.9.2"
  }
 },
 "nbformat": 4,
 "nbformat_minor": 5
}
