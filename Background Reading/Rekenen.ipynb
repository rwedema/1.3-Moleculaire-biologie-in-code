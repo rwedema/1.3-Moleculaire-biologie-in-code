{
 "cells": [
  {
   "cell_type": "markdown",
   "id": "announced-grass",
   "metadata": {
    "pycharm": {
     "name": "#%% md\n"
    }
   },
   "source": [
    "## Python as a calculator\n",
    "\n",
    "The most basic use of Python is using it as a calculator. Python (as most programming languages) understands the mathematical notation used for calculations. Operators are used to operate on the values of an operand and there are many types of operators that you will learn about.\n",
    "\n",
    "In this notebook you can read about the available mathematics operators and learn about the precedence they have (meaning order matters!)\n",
    "\n",
    "First have a look at the different mathematical operators that can be used. A table of the different operators is shown here below."
   ]
  },
  {
   "cell_type": "markdown",
   "id": "supported-shepherd",
   "metadata": {
    "pycharm": {
     "name": "#%% md\n"
    }
   },
   "source": [
    "## mathematic operators\n",
    "\n",
    "|Symbol|operator|example|result|\n",
    "|------|--------|-------|------|\n",
    "| ** | exponent| 3 ** 2 | 9 |\n",
    "| * | multiply | 3 * 2 | 6 |\n",
    "| / | division | 3 / 2 | 1.5 |\n",
    "| // | floor division | 3 // 2 | 1 |\n",
    "| + | addition | 3 + 2 | 5 |\n",
    "| - | subtraction | 3 - 2 | 1 |\n",
    "| % | modulus | 3 % 2 | 1 | \n"
   ]
  },
  {
   "cell_type": "markdown",
   "id": "f36ac8c6",
   "metadata": {
    "pycharm": {
     "name": "#%% md\n"
    }
   },
   "source": [
    "The operators have order in the calculation of the final answer and this is called operator precedence."
   ]
  },
  {
   "cell_type": "code",
   "execution_count": 1,
   "id": "d40469d1",
   "metadata": {
    "pycharm": {
     "name": "#%%\n"
    }
   },
   "outputs": [
    {
     "name": "stdout",
     "output_type": "stream",
     "text": [
      "-2\n"
     ]
    }
   ],
   "source": [
    "print(5 - 7)"
   ]
  },
  {
   "cell_type": "markdown",
   "id": "5919c9ec",
   "metadata": {
    "pycharm": {
     "name": "#%% md\n"
    }
   },
   "source": [
    "In the example above there is just one operator and the order is clear. However, you have to keep the order in which the operations take place in mind. From top (highest precedence) to bottom (lowest precendence).\n",
    "\n",
    "| () | parenthesis |\n",
    "| ** | exponent |\n",
    "| *, /,  //, %| multiplication, division, floor division, modulus |\n",
    "| +, -|, addition, subtraction |\n",
    "\n",
    "When operators have the same precedence like + and -, the operation is carried out from left to right. By placing the operation between parenthesis you can give it the highest precedence."
   ]
  },
  {
   "cell_type": "code",
   "execution_count": 6,
   "id": "b31b5e45",
   "metadata": {
    "pycharm": {
     "name": "#%%\n"
    }
   },
   "outputs": [
    {
     "name": "stdout",
     "output_type": "stream",
     "text": [
      "2\n",
      "12\n"
     ]
    }
   ],
   "source": [
    "print(10 - 4 * 2) # multiplication has higher order\n",
    "print((10 - 4) * 2) # change the order by using parenthesis"
   ]
  },
  {
   "cell_type": "code",
   "execution_count": 7,
   "id": "3b8ceba9",
   "metadata": {
    "pycharm": {
     "name": "#%%\n"
    }
   },
   "outputs": [
    {
     "name": "stdout",
     "output_type": "stream",
     "text": [
      "3\n",
      "0\n"
     ]
    }
   ],
   "source": [
    "print(5 * 2 // 3)\n",
    "print(5 * (2 // 3))"
   ]
  },
  {
   "cell_type": "code",
   "execution_count": 8,
   "id": "ac6d10e0",
   "metadata": {
    "pycharm": {
     "name": "#%%\n"
    }
   },
   "outputs": [
    {
     "name": "stdout",
     "output_type": "stream",
     "text": [
      "512\n",
      "64\n",
      "512\n"
     ]
    }
   ],
   "source": [
    "print(2 ** 3 ** 2)\n",
    "print((2 ** 3) ** 2)\n",
    "print(2 ** (3 ** 2))"
   ]
  },
  {
   "cell_type": "markdown",
   "id": "98d0981f",
   "metadata": {
    "pycharm": {
     "name": "#%% md\n"
    }
   },
   "source": [
    "In the previous examples we used the floor division operator `//` but did not explain what it does. The floor division will take the first argument and divide it by the second argument. The final result will be round to the nearest whole number.\n",
    "\n",
    "Another operator that you might not be familiar with is the modulus operator `%`. This operator divides the first argument by the second and will show the remainder of the division."
   ]
  },
  {
   "cell_type": "code",
   "execution_count": 5,
   "id": "a59199bd",
   "metadata": {
    "pycharm": {
     "name": "#%%\n"
    }
   },
   "outputs": [
    {
     "name": "stdout",
     "output_type": "stream",
     "text": [
      "2.3333333333333335\n",
      "2\n",
      "1\n",
      "3\n"
     ]
    }
   ],
   "source": [
    "# floor division example\n",
    "print(7 / 3)\n",
    "print(7 // 3)\n",
    "\n",
    "# modulo operator\n",
    "print(7 % 3) # returns 1, as 3 fits twice in 7 and you are left with 1\n",
    "print(7 % 4) # returns 3, as 4 fits once in 7 and you are left with 3\n"
   ]
  },
  {
   "cell_type": "code",
   "execution_count": null,
   "id": "f2eee4d8",
   "metadata": {
    "pycharm": {
     "name": "#%%\n"
    }
   },
   "outputs": [],
   "source": []
  }
 ],
 "metadata": {
  "kernelspec": {
   "display_name": "Python 3 (ipykernel)",
   "language": "python",
   "name": "python3"
  },
  "language_info": {
   "codemirror_mode": {
    "name": "ipython",
    "version": 3
   },
   "file_extension": ".py",
   "mimetype": "text/x-python",
   "name": "python",
   "nbconvert_exporter": "python",
   "pygments_lexer": "ipython3",
   "version": "3.11.5"
  }
 },
 "nbformat": 4,
 "nbformat_minor": 5
}
