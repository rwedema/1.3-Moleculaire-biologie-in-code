{
 "cells": [
  {
   "cell_type": "markdown",
   "source": [
    "## if and while\n",
    "Now that you know what conditional operators are and also have learned about logical operators, we are ready to use them. To do this we will revisit Flow Control and create conditional statements (remember, a statement resulting in True or False).\n",
    "\n",
    "### if\n",
    "Often during programming you want to determine if some code needs to be executed based on the state of same value. And only when the value meets some criteria the code should do it's work. To do this we can use the `if`, `elif` and `else` conditional statements.\n",
    "\n",
    "Think of conditional statements as branch points for your code to execute. Image if and else statements as railroad switches.\n",
    "![railroad](figs/railroad.jpeg)\n",
    "\n",
    "Source: https://en.wikipedia.org/wiki/Railroad_switch\n",
    "Each switch is analogous to an if/else statement.\n",
    "If/elif/else can be visualized as a railroad diverging in 3 directions at a particular switch.\n",
    "\n",
    "An example of `if` in the most basic form:"
   ],
   "metadata": {
    "collapsed": false,
    "pycharm": {
     "name": "#%% md\n"
    }
   }
  },
  {
   "cell_type": "code",
   "execution_count": 1,
   "outputs": [
    {
     "name": "stdout",
     "output_type": "stream",
     "text": [
      "You are an adult\n"
     ]
    }
   ],
   "source": [
    "age = 20\n",
    "if age >= 18:\n",
    "    print(\"You are an adult\") # code that follows a statement should be indented."
   ],
   "metadata": {
    "collapsed": false,
    "pycharm": {
     "name": "#%%\n"
    }
   }
  },
  {
   "cell_type": "markdown",
   "source": [
    "If works as a switch. Our code is diverging at the `if` statement. But you might be a bit confused as nothing is executed for the alternative route.\n",
    "\n",
    "You can use `else` here:"
   ],
   "metadata": {
    "collapsed": false,
    "pycharm": {
     "name": "#%% md\n"
    }
   }
  },
  {
   "cell_type": "code",
   "execution_count": 2,
   "outputs": [
    {
     "name": "stdout",
     "output_type": "stream",
     "text": [
      "You are an adult\n"
     ]
    }
   ],
   "source": [
    "age = 20\n",
    "if age >= 18:\n",
    "    print(\"You are an adult\")\n",
    "else:\n",
    "    print(\"You are not an adult\")"
   ],
   "metadata": {
    "collapsed": false,
    "pycharm": {
     "name": "#%%\n"
    }
   }
  },
  {
   "cell_type": "code",
   "execution_count": 3,
   "outputs": [
    {
     "name": "stdout",
     "output_type": "stream",
     "text": [
      "You are not an adult\n"
     ]
    }
   ],
   "source": [
    "age = 17\n",
    "if age >= 18:\n",
    "    print(\"You are an adult\")\n",
    "else:\n",
    "    print(\"You are not an adult\")"
   ],
   "metadata": {
    "collapsed": false,
    "pycharm": {
     "name": "#%%\n"
    }
   }
  },
  {
   "cell_type": "code",
   "execution_count": null,
   "outputs": [],
   "source": [
    "### elif\n",
    "You can use `elif` (else if) of you like a branchepoint consisting of more than 2 subroads:"
   ],
   "metadata": {
    "collapsed": false,
    "pycharm": {
     "name": "#%%\n"
    }
   }
  },
  {
   "cell_type": "code",
   "execution_count": 4,
   "outputs": [
    {
     "name": "stdout",
     "output_type": "stream",
     "text": [
      "Teen\n"
     ]
    }
   ],
   "source": [
    "age = 14\n",
    "if age < 2:\n",
    "    print(\"Infant\")\n",
    "elif age < 5:\n",
    "    print(\"Toddler\")\n",
    "elif age < 13:\n",
    "    print(\"Child\")\n",
    "elif age < 20:\n",
    "    print(\"Teen\")\n",
    "elif age < 40:\n",
    "    print(\"Adult\")\n",
    "elif age < 60:\n",
    "    print(\"Middle age adult\")\n",
    "else:\n",
    "    print(\"Senior adult\")"
   ],
   "metadata": {
    "collapsed": false,
    "pycharm": {
     "name": "#%%\n"
    }
   }
  },
  {
   "cell_type": "markdown",
   "source": [
    "The code above will run untill a condition is `True`. As soon as this is the case, the rest of the `elif` statements as well as the else statements are skipped.\n",
    "Compare the previous code with the following code:"
   ],
   "metadata": {
    "collapsed": false,
    "pycharm": {
     "name": "#%% md\n"
    }
   }
  },
  {
   "cell_type": "code",
   "execution_count": 5,
   "outputs": [
    {
     "name": "stdout",
     "output_type": "stream",
     "text": [
      "Teen\n",
      "Adult\n",
      "Middle age adult\n"
     ]
    }
   ],
   "source": [
    "age = 14\n",
    "if age < 2:\n",
    "    print(\"Infant\")\n",
    "if age < 5:\n",
    "    print(\"Toddler\")\n",
    "if age < 13:\n",
    "    print(\"Child\")\n",
    "if age < 20:\n",
    "    print(\"Teen\")\n",
    "if age < 40:\n",
    "    print(\"Adult\")\n",
    "if age < 60:\n",
    "    print(\"Middle age adult\")\n",
    "else:\n",
    "    print(\"Senior adult\")"
   ],
   "metadata": {
    "collapsed": false,
    "pycharm": {
     "name": "#%%\n"
    }
   }
  },
  {
   "cell_type": "markdown",
   "source": [
    "From the previous code it becomes clear that a block of if/elif/else code runs untill a condition is met True. As soon this is the case, the execution of the if/elif/else will be stopped.\n",
    "Now what if multiple conditions should be True or 1 of two conditions should be True?\n",
    "You can use `and` and `or` to accomplish this:\n",
    "\n"
   ],
   "metadata": {
    "collapsed": false,
    "pycharm": {
     "name": "#%% md\n"
    }
   }
  },
  {
   "cell_type": "code",
   "execution_count": 6,
   "outputs": [
    {
     "name": "stdout",
     "output_type": "stream",
     "text": [
      "teen\n"
     ]
    }
   ],
   "source": [
    "age = 14\n",
    "if age > 13 and age < 20:\n",
    "    print(\"teen\")\n",
    "else:\n",
    "    \"not a teen\""
   ],
   "metadata": {
    "collapsed": false,
    "pycharm": {
     "name": "#%%\n"
    }
   }
  },
  {
   "cell_type": "markdown",
   "source": [
    "Note that you can accomplish the same by nesting `if` expressions:"
   ],
   "metadata": {
    "collapsed": false,
    "pycharm": {
     "name": "#%% md\n"
    }
   }
  },
  {
   "cell_type": "code",
   "execution_count": 7,
   "outputs": [
    {
     "name": "stdout",
     "output_type": "stream",
     "text": [
      "teen\n"
     ]
    }
   ],
   "source": [
    "if age > 13:\n",
    "    if age < 20:\n",
    "        print(\"teen\")\n",
    "else:\n",
    "    print(\"not a teen\")"
   ],
   "metadata": {
    "collapsed": false,
    "pycharm": {
     "name": "#%%\n"
    }
   }
  },
  {
   "cell_type": "markdown",
   "source": [
    "Now an example for `or`:"
   ],
   "metadata": {
    "collapsed": false,
    "pycharm": {
     "name": "#%% md\n"
    }
   }
  },
  {
   "cell_type": "code",
   "execution_count": 8,
   "outputs": [
    {
     "name": "stdout",
     "output_type": "stream",
     "text": [
      "weekend\n"
     ]
    }
   ],
   "source": [
    "day = \"Saturday\"\n",
    "if day == \"Saturday\" or day == \"Sunday\":\n",
    "    print(\"weekend\")\n",
    "else:\n",
    "    print(\"not Weekend\")"
   ],
   "metadata": {
    "collapsed": false,
    "pycharm": {
     "name": "#%%\n"
    }
   }
  },
  {
   "cell_type": "markdown",
   "source": [
    "Note that you can accomplish the same using an `elif`:"
   ],
   "metadata": {
    "collapsed": false,
    "pycharm": {
     "name": "#%% md\n"
    }
   }
  },
  {
   "cell_type": "code",
   "execution_count": 9,
   "outputs": [
    {
     "name": "stdout",
     "output_type": "stream",
     "text": [
      "weekend\n"
     ]
    }
   ],
   "source": [
    "day = \"Saturday\"\n",
    "if day == \"Saturday\":\n",
    "    print(\"weekend\")\n",
    "elif day == \"Sunday\":\n",
    "    print(\"weekend\")\n",
    "else:\n",
    "    print(\"not Weekend\")"
   ],
   "metadata": {
    "collapsed": false,
    "pycharm": {
     "name": "#%%\n"
    }
   }
  },
  {
   "cell_type": "markdown",
   "source": [
    "We already covered the for loop in a previous lesson. A for loop is used for iterating over a collection (such as strings, lists, tuples, dictionaries, sets, range objects or file objects)."
   ],
   "metadata": {
    "collapsed": false,
    "pycharm": {
     "name": "#%% md\n"
    }
   }
  },
  {
   "cell_type": "code",
   "execution_count": 10,
   "outputs": [
    {
     "name": "stdout",
     "output_type": "stream",
     "text": [
      "milk\n",
      "coffee\n",
      "bananas\n"
     ]
    }
   ],
   "source": [
    "groceries = ['milk', 'coffee', 'bananas']\n",
    "for item in groceries:\n",
    "    print(item)"
   ],
   "metadata": {
    "collapsed": false,
    "pycharm": {
     "name": "#%%\n"
    }
   }
  },
  {
   "cell_type": "markdown",
   "source": [
    "### Break\n",
    "We did not cover the `break` statement yet. You can use `break` to exit a for loop:"
   ],
   "metadata": {
    "collapsed": false,
    "pycharm": {
     "name": "#%% md\n"
    }
   }
  },
  {
   "cell_type": "code",
   "execution_count": 12,
   "outputs": [
    {
     "name": "stdout",
     "output_type": "stream",
     "text": [
      "number 1\n",
      "number 4\n",
      "number 9\n",
      "Yes, found it 7\n"
     ]
    }
   ],
   "source": [
    "magic_number = 7\n",
    "nums = [1, 4, 9, 7, 5, 3]\n",
    "for num in nums:\n",
    "    if num == magic_number:\n",
    "        print(\"Yes, found it\", magic_number)\n",
    "        break\n",
    "    else:\n",
    "        print(\"number\", num)"
   ],
   "metadata": {
    "collapsed": false,
    "pycharm": {
     "name": "#%%\n"
    }
   }
  },
  {
   "cell_type": "markdown",
   "source": [
    "As you can see, the for loop stopped being executed as soon as the magic number was found."
   ],
   "metadata": {
    "collapsed": false,
    "pycharm": {
     "name": "#%% md\n"
    }
   }
  },
  {
   "cell_type": "markdown",
   "source": [
    "### Continue\n",
    "You can use `continue` to skip the rest of the code in a loop and continue to the next iteration:"
   ],
   "metadata": {
    "collapsed": false,
    "pycharm": {
     "name": "#%% md\n"
    }
   }
  },
  {
   "cell_type": "code",
   "execution_count": 13,
   "outputs": [
    {
     "name": "stdout",
     "output_type": "stream",
     "text": [
      "number 1\n",
      "number 4\n",
      "number 9\n",
      "number 5\n",
      "number 3\n"
     ]
    }
   ],
   "source": [
    "bad_number = 13\n",
    "nums = [1, 4, 9, 13, 5, 3]\n",
    "for num in nums:\n",
    "    if num == bad_number:\n",
    "        continue\n",
    "    else:\n",
    "        print(\"number\", num)"
   ],
   "metadata": {
    "collapsed": false,
    "pycharm": {
     "name": "#%%\n"
    }
   }
  },
  {
   "cell_type": "code",
   "execution_count": null,
   "outputs": [],
   "source": [
    "## else in for loops\n",
    "for loops also have an optional else clause:"
   ],
   "metadata": {
    "collapsed": false,
    "pycharm": {
     "name": "#%%\n"
    }
   }
  },
  {
   "cell_type": "code",
   "execution_count": 14,
   "outputs": [
    {
     "name": "stdout",
     "output_type": "stream",
     "text": [
      "item not found\n"
     ]
    }
   ],
   "source": [
    "item_to_find = \"butter\"\n",
    "items = ['bread', 'milk', 'coffee']\n",
    "for item in items:\n",
    "    if item == item_to_find:\n",
    "        print(\"found it\")\n",
    "else:\n",
    "    print(\"item not found\")"
   ],
   "metadata": {
    "collapsed": false,
    "pycharm": {
     "name": "#%%\n"
    }
   }
  },
  {
   "cell_type": "markdown",
   "source": [
    "## While loop\n",
    "A while loop runs a set of statements as long as a condition is true."
   ],
   "metadata": {
    "collapsed": false,
    "pycharm": {
     "name": "#%% md\n"
    }
   }
  },
  {
   "cell_type": "code",
   "execution_count": 15,
   "outputs": [
    {
     "name": "stdout",
     "output_type": "stream",
     "text": [
      "0\n",
      "1\n",
      "2\n",
      "3\n",
      "4\n",
      "5\n",
      "6\n"
     ]
    }
   ],
   "source": [
    "num = 0\n",
    "while num < 7:\n",
    "    print(num)\n",
    "    num += 1"
   ],
   "metadata": {
    "collapsed": false,
    "pycharm": {
     "name": "#%%\n"
    }
   }
  },
  {
   "cell_type": "markdown",
   "source": [
    "Note that you need to create the variable `num` before the `while` loop.\n",
    "If you do not create it, you will encounter a NameError.\n",
    "Also be aware that `while` loops are a bit risky because you can easily encounter an infinite loop.\n",
    "If you forget the `num += 1` expression in the previous example, you will not be able to exit the while loop.\n",
    "Num will always be 0 and never be larger than 6.\n",
    "It also matters where you put the `num += 1` expression.\n",
    "Putting it below the print statement will give a different result:"
   ],
   "metadata": {
    "collapsed": false,
    "pycharm": {
     "name": "#%% md\n"
    }
   }
  },
  {
   "cell_type": "code",
   "execution_count": 16,
   "outputs": [
    {
     "name": "stdout",
     "output_type": "stream",
     "text": [
      "1\n",
      "2\n",
      "3\n",
      "4\n",
      "5\n",
      "6\n",
      "7\n"
     ]
    }
   ],
   "source": [
    "num = 0\n",
    "while num < 7:\n",
    "    num += 1\n",
    "    print(num)"
   ],
   "metadata": {
    "collapsed": false,
    "pycharm": {
     "name": "#%%\n"
    }
   }
  },
  {
   "cell_type": "markdown",
   "source": [
    "Note that at the start of the last iteration `num` will be 6.\n",
    "It will be incremented by 1 and at the start of the next iteration, the expression `num < 7` will yield `False`."
   ],
   "metadata": {
    "collapsed": false,
    "pycharm": {
     "name": "#%% md\n"
    }
   }
  },
  {
   "cell_type": "markdown",
   "source": [
    "Like for loops, you can use `break` and `continue` for while loops too:"
   ],
   "metadata": {
    "collapsed": false,
    "pycharm": {
     "name": "#%% md\n"
    }
   }
  },
  {
   "cell_type": "code",
   "execution_count": null,
   "outputs": [],
   "source": [
    "num = 0\n",
    "while num < 7:\n",
    "    num += 1\n",
    "    if num == 4:\n",
    "        break\n",
    "    print(num)"
   ],
   "metadata": {
    "collapsed": false,
    "pycharm": {
     "name": "#%%\n"
    }
   }
  },
  {
   "cell_type": "code",
   "execution_count": null,
   "outputs": [],
   "source": [
    "num = 0\n",
    "while num < 7:\n",
    "    num += 1\n",
    "    if num == 4:\n",
    "        continue\n",
    "    print(num)\n",
    "\n",
    "#What will happen if you put the num += 1 statement at the line below continue but at the same indentation level as the if statement?\n",
    "#Do you understand this behaviour?"
   ],
   "metadata": {
    "collapsed": false,
    "pycharm": {
     "name": "#%%\n"
    }
   }
  },
  {
   "cell_type": "markdown",
   "source": [
    "Like the `for` loop, the `while` loop can also be combined with an `else`:"
   ],
   "metadata": {
    "collapsed": false,
    "pycharm": {
     "name": "#%% md\n"
    }
   }
  },
  {
   "cell_type": "code",
   "execution_count": 17,
   "outputs": [
    {
     "name": "stdout",
     "output_type": "stream",
     "text": [
      "item not found\n"
     ]
    }
   ],
   "source": [
    "item_to_find = \"butter\"\n",
    "items = ['bread', 'milk', 'coffee']\n",
    "while items:\n",
    "    if item[0] == item_to_find:\n",
    "        print(\"found it\")\n",
    "    items.pop(0) # remove first item of list\n",
    "else:\n",
    "    print(\"item not found\")"
   ],
   "metadata": {
    "collapsed": false,
    "pycharm": {
     "name": "#%%\n"
    }
   }
  },
  {
   "cell_type": "markdown",
   "source": [
    "In the code above, the expression `while items` might look a bit confusing. Remember that `while` will implicitly test if an expression is `True` or `False`. Items is a list. If a list is not empty than converting a list to a boolean will return true. If empty, it will return false:"
   ],
   "metadata": {
    "collapsed": false,
    "pycharm": {
     "name": "#%% md\n"
    }
   }
  },
  {
   "cell_type": "code",
   "execution_count": 18,
   "outputs": [
    {
     "name": "stdout",
     "output_type": "stream",
     "text": [
      "False\n",
      "True\n"
     ]
    }
   ],
   "source": [
    "my_list1 = []\n",
    "print(bool(my_list1))\n",
    "my_list2 = ['bread', 'milk', 'coffee']\n",
    "print(bool(my_list2))"
   ],
   "metadata": {
    "collapsed": false,
    "pycharm": {
     "name": "#%%\n"
    }
   }
  },
  {
   "cell_type": "markdown",
   "source": [
    "In the previous while loop, the while loop will run untill the list is empty.\n",
    "An empty list will return false.\n",
    "Likewise, you will often see the expression `while True` (especially in games).\n",
    "`while True` is essentially the same as `while True == True`.\n",
    "Since true is always true, this is used to initiate a deliberate infinite loop.\n",
    "The break statement will be used to break out of the while loop.\n",
    "We will deal with this behaviour at a future lesson."
   ],
   "metadata": {
    "collapsed": false,
    "pycharm": {
     "name": "#%% md\n"
    }
   }
  }
 ],
 "metadata": {
  "kernelspec": {
   "display_name": "Python 3",
   "language": "python",
   "name": "python3"
  },
  "language_info": {
   "codemirror_mode": {
    "name": "ipython",
    "version": 2
   },
   "file_extension": ".py",
   "mimetype": "text/x-python",
   "name": "python",
   "nbconvert_exporter": "python",
   "pygments_lexer": "ipython2",
   "version": "2.7.6"
  }
 },
 "nbformat": 4,
 "nbformat_minor": 0
}