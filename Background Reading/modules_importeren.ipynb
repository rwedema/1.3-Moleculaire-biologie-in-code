{
 "cells": [
  {
   "cell_type": "markdown",
   "metadata": {
    "collapsed": false,
    "pycharm": {
     "name": "#%% md\n"
    }
   },
   "source": [
    "# Importing modules\n",
    "Python comes with a set of standard, builtin functionality, like lists, dictionairies and loops. Basically, everything you need to write a basic program. \n",
    "But what if you want more? The functionality of Python can be extended by importing modules. \n",
    "\n",
    "Modules are extra pieces of code or data that can be added to python to give it more functionality. Some of these are already saved in the Python Standard Library, and only have to be called with an import statement. \n",
    "\n",
    "In this Notebook we will have a look at two modules that are frequently used: the `math` and `random` module.\n",
    "\n",
    "Importing modules in Python is easy. Use the keyword `import` followed with the name of the module that you want to import:"
   ]
  },
  {
   "cell_type": "code",
   "execution_count": null,
   "metadata": {
    "collapsed": false,
    "pycharm": {
     "name": "#%%\n"
    }
   },
   "outputs": [],
   "source": [
    "import math"
   ]
  },
  {
   "cell_type": "code",
   "execution_count": null,
   "metadata": {
    "collapsed": false,
    "pycharm": {
     "name": "#%%\n"
    }
   },
   "outputs": [],
   "source": [
    "If you want to know what modules are available. Use the `help()` function on modules."
   ]
  },
  {
   "cell_type": "code",
   "execution_count": null,
   "metadata": {
    "collapsed": false,
    "pycharm": {
     "name": "#%%\n"
    }
   },
   "outputs": [],
   "source": [
    "help(\"modules\") # lot of output is shown"
   ]
  },
  {
   "cell_type": "markdown",
   "metadata": {
    "collapsed": false,
    "pycharm": {
     "name": "#%% md\n"
    }
   },
   "source": [
    "Now how will Python know where to find modules?\n",
    "Python looks for modules in 3 steps:\n",
    "\n",
    "- step1: is to look in the current directory.\n",
    "- step2: if the requested module is not found, then Python searches in the directories which are in the shell variable `PYTHONPATH`. You can get this list by running `import sys; print(sys.path)`\n",
    "- step3: in the module is not found there, Python checks an installation-dependent list of directories that is configured at the time Python was installed\n",
    "- If the module is still not found, you will get a `ModuleNotFoundError`"
   ]
  },
  {
   "cell_type": "markdown",
   "metadata": {
    "collapsed": false,
    "pycharm": {
     "name": "#%% md\n"
    }
   },
   "source": [
    "As to why you want to use imports. First, you can re-use code. The `random` and `math` modules are often used. So it would be a waste of time (and error prone) to write them over and over again. In addition, instead of storing them in a many of different directories, it is cleaner to store them at a central place. Therefore, modules from the Python Standard Library are stored in a central space."
   ]
  },
  {
   "cell_type": "markdown",
   "metadata": {
    "collapsed": false,
    "pycharm": {
     "name": "#%% md\n"
    }
   },
   "source": [
    "But why do you want to import these modules if they are used so often? Why not load it when a Python interpreter runs? The answer is that Python want to keep the environment clean. Loading a lot of modules will pollute the environment and could potentially result in name clashes (same variable names that become overwritten). Importing modules also require time. Imports are usually (very near) the top of your script. Do not wrap them in functions as it would run the import many times."
   ]
  },
  {
   "cell_type": "code",
   "execution_count": 2,
   "metadata": {
    "collapsed": false,
    "pycharm": {
     "name": "#%%\n"
    }
   },
   "outputs": [
    {
     "name": "stdout",
     "output_type": "stream",
     "text": [
      "3\n",
      "13\n",
      "28\n"
     ]
    }
   ],
   "source": [
    "import math # the correct way\n",
    "\n",
    "def calc_area(radius):\n",
    "    return math.pi * radius ** 2\n",
    "\n",
    "for i in range(1, 4):\n",
    "    print(round(calc_area(i)))"
   ]
  },
  {
   "cell_type": "code",
   "execution_count": 5,
   "metadata": {
    "collapsed": false,
    "pycharm": {
     "name": "#%%\n"
    }
   },
   "outputs": [
    {
     "name": "stdout",
     "output_type": "stream",
     "text": [
      "3\n",
      "13\n",
      "28\n"
     ]
    }
   ],
   "source": [
    "def calc_area(radius):\n",
    "    import math # the wrong way. The module gets imported many times\n",
    "    return math.pi * radius ** 2\n",
    "\n",
    "for i in range(1, 4):\n",
    "    print(round(calc_area(i)))"
   ]
  },
  {
   "cell_type": "markdown",
   "metadata": {
    "collapsed": false,
    "pycharm": {
     "name": "#%% md\n"
    }
   },
   "source": [
    "As shown above, you can access pi by first specifying the module name, then a dot, then the variable name (or name of the function if it is a function)"
   ]
  },
  {
   "cell_type": "code",
   "execution_count": 6,
   "metadata": {
    "collapsed": false,
    "pycharm": {
     "name": "#%%\n"
    }
   },
   "outputs": [
    {
     "name": "stdout",
     "output_type": "stream",
     "text": [
      "3.141592653589793\n"
     ]
    }
   ],
   "source": [
    "import math\n",
    "print(math.pi)"
   ]
  },
  {
   "cell_type": "markdown",
   "metadata": {
    "collapsed": false,
    "pycharm": {
     "name": "#%% md\n"
    }
   },
   "source": [
    "By doing it like so, you will also load everything else that is inside the module. If you do not want this behaviour and just load a single variable or function, you can do this as follows:"
   ]
  },
  {
   "cell_type": "code",
   "execution_count": 1,
   "metadata": {
    "collapsed": false,
    "pycharm": {
     "name": "#%%\n"
    }
   },
   "outputs": [],
   "source": [
    "from math import pi"
   ]
  },
  {
   "cell_type": "markdown",
   "metadata": {
    "collapsed": false,
    "pycharm": {
     "name": "#%% md\n"
    }
   },
   "source": [
    "Now you will have direct access to the pi variable."
   ]
  },
  {
   "cell_type": "code",
   "execution_count": 2,
   "metadata": {
    "collapsed": false,
    "pycharm": {
     "name": "#%%\n"
    }
   },
   "outputs": [
    {
     "name": "stdout",
     "output_type": "stream",
     "text": [
      "3.141592653589793\n"
     ]
    }
   ],
   "source": [
    "print(pi)"
   ]
  },
  {
   "cell_type": "markdown",
   "metadata": {},
   "source": [
    "Besides the inbuild Modules you get for free with your python installation, there's also a plethora of online modules, written by either teams of professional software engineers, independent developers or companies, you can download and use. We call these 'Libraries'. \n",
    "\n",
    "Libraries need to be installed before they can be imported, and they tend to be larger and more complicated than Python's in-builds. Depending on who wrote them, they may be fairly user-friendly or extremely specialized and almost impossible to work with. \n",
    "\n",
    "Because of this, we won't expose you to these yet. However, next semester we are going to do some great things with Libraries. \n"
   ]
  }
 ],
 "metadata": {
  "kernelspec": {
   "display_name": "Python 3",
   "language": "python",
   "name": "python3"
  },
  "language_info": {
   "codemirror_mode": {
    "name": "ipython",
    "version": 2
   },
   "file_extension": ".py",
   "mimetype": "text/x-python",
   "name": "python",
   "nbconvert_exporter": "python",
   "pygments_lexer": "ipython2",
   "version": "2.7.6"
  }
 },
 "nbformat": 4,
 "nbformat_minor": 0
}
