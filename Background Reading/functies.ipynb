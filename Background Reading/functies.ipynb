{
 "cells": [
  {
   "cell_type": "markdown",
   "source": [
    "## functions\n",
    "When you want to repeat a set of calculations several times, you can copy-paste this code every time or place it inside a loop, so that the code block can be repeated.\n",
    "\n",
    "However, if you decide to change the calculation you would have to change to code all over your script. If you placed it inside a for loop, you would have to know on before the start of the loop how many times you would like to repeat this codeblock. This and many other issues, can be prevented by the use of functions.\n"
   ],
   "metadata": {
    "collapsed": false,
    "pycharm": {
     "name": "#%% md\n"
    }
   }
  },
  {
   "cell_type": "markdown",
   "source": [
    "### Why use functions\n",
    "A function is a block of code that has been given a name. Instead of copying yhe whole block of code again, we just call the name of this block of code. Sometimes we have to pass data to a function and sometimes the function returns data.\n",
    "\n",
    "Think of the functions you know already: `print()`, `len()`, `max()`, `min()`. What goes in and what is beeing returned from the function.\n",
    "\n",
    "When we create a function we say that we define a function. This is telling the computer that we have defined a function that can be used whenever we call its name. Just defining a function will not start the code inside, for the code to work we have to explicitly use the function name and include the parentheses.\n",
    "\n",
    "Data that can be passed to a function when calling the function are called its arguments.\n",
    "\n",
    "For example when we call the `len()` function on some string 'Hello', like so: `len('Hello')` we call the function and pass the `'Hello'` string as its argument.\n",
    "\n",
    "To create (define) a function we simply have to come up with a name that best describes the enclosed (indented) code, and we place the `def` keyword in front of the name, add parenthesis `()` and end the line with a semicolon `:` as such:"
   ],
   "metadata": {
    "collapsed": false,
    "pycharm": {
     "name": "#%% md\n"
    }
   }
  },
  {
   "cell_type": "code",
   "execution_count": 18,
   "outputs": [],
   "source": [
    "# here we define a function.\n",
    "def print_hello_world():\n",
    "    print('Hello world')\n",
    "\n",
    "# running this code block will not run the code inside the function\n",
    "# it will however create the function so that we can call its name and execute the code"
   ],
   "metadata": {
    "collapsed": false,
    "pycharm": {
     "name": "#%%\n"
    }
   }
  },
  {
   "cell_type": "code",
   "execution_count": 19,
   "outputs": [
    {
     "name": "stdout",
     "output_type": "stream",
     "text": [
      "Hello world\n"
     ]
    }
   ],
   "source": [
    "# Here we call the function\n",
    "print_hello_world()"
   ],
   "metadata": {
    "collapsed": false,
    "pycharm": {
     "name": "#%%\n"
    }
   }
  },
  {
   "cell_type": "markdown",
   "source": [
    "But what if we wanted to also include our name in the print?\n",
    "We could pass data to a function, so that it can be used inside. We would simply have to define some parameters inside the parenthesis of the function definition."
   ],
   "metadata": {
    "collapsed": false,
    "pycharm": {
     "name": "#%% md\n"
    }
   }
  },
  {
   "cell_type": "code",
   "execution_count": 20,
   "outputs": [
    {
     "name": "stdout",
     "output_type": "stream",
     "text": [
      "Hello world ronald is my name\n",
      "Hello world olivier is my name\n"
     ]
    }
   ],
   "source": [
    "def print_hello_world_with_parameters(name):\n",
    "    print('Hello world', name , 'is my name')\n",
    "\n",
    "my_name = 'ronald' # define a variable holding a name string\n",
    "print_hello_world_with_parameters(my_name) # pass the name string as an argument\n",
    "\n",
    "print_hello_world_with_parameters('olivier') # directly feeding a string as an argument"
   ],
   "metadata": {
    "collapsed": false,
    "pycharm": {
     "name": "#%%\n"
    }
   }
  },
  {
   "cell_type": "markdown",
   "source": [
    "> When calling a function the things placed inside the parenthesis are called arguments, When creating a function the things inside the parenthesis are called parameters"
   ],
   "metadata": {
    "collapsed": false,
    "pycharm": {
     "name": "#%% md\n"
    }
   }
  },
  {
   "cell_type": "markdown",
   "source": [
    "Ofcourse we are not limited to one parameter in the function definition, and we can have multiple."
   ],
   "metadata": {
    "collapsed": false,
    "pycharm": {
     "name": "#%% md\n"
    }
   }
  },
  {
   "cell_type": "code",
   "execution_count": 21,
   "outputs": [],
   "source": [
    "def calc_area(width, length):\n",
    "    area = width * length\n",
    "    return area"
   ],
   "metadata": {
    "collapsed": false,
    "pycharm": {
     "name": "#%%\n"
    }
   }
  },
  {
   "cell_type": "markdown",
   "source": [
    "In the code above we know it is a function because it has the keyword `def` in front. The first line is called the function header. The function has the name calc_area, and it needs two arguments: a value for the parameter `width` and a value for the parameter `length`. To get data outside a function we have to use the `return` keyword. In the example above the return, returns the value of the variable `area`."
   ],
   "metadata": {
    "collapsed": false,
    "pycharm": {
     "name": "#%% md\n"
    }
   }
  },
  {
   "cell_type": "markdown",
   "source": [
    "> If data is not returned it will be lost as soon the function is done!\n",
    "> Store the returned data using assignment (=) to a variable or process on the go\n"
   ],
   "metadata": {
    "collapsed": false,
    "pycharm": {
     "name": "#%% md\n"
    }
   }
  },
  {
   "cell_type": "code",
   "execution_count": 22,
   "outputs": [
    {
     "name": "stdout",
     "output_type": "stream",
     "text": [
      "20\n"
     ]
    }
   ],
   "source": [
    "# storing the output of a function that has a return is called catching\n",
    "fieldsize = calc_area(4, 5) # here we catch the output of the function\n",
    "print(fieldsize)"
   ],
   "metadata": {
    "collapsed": false,
    "pycharm": {
     "name": "#%%\n"
    }
   }
  },
  {
   "cell_type": "markdown",
   "source": [
    "In the previous example, two arguments are passed to the `calc_area` function. The integer 4 is pass to the parameter `width` and the integer 5 is passed to the parameter `length`. Since the parameters width and length are filled with the arguments 4 and 5 we can use them inside the function, like variables."
   ],
   "metadata": {
    "collapsed": false,
    "pycharm": {
     "name": "#%% md\n"
    }
   }
  },
  {
   "cell_type": "code",
   "execution_count": 23,
   "outputs": [
    {
     "name": "stdout",
     "output_type": "stream",
     "text": [
      "Width: 4\n",
      "length: 5\n"
     ]
    },
    {
     "data": {
      "text/plain": "20"
     },
     "execution_count": 23,
     "metadata": {},
     "output_type": "execute_result"
    }
   ],
   "source": [
    "def calc_area(width, length):\n",
    "    print('Width:',width)\n",
    "    print('length:',length)\n",
    "    area = width * length\n",
    "    return area\n",
    "\n",
    "calc_area(4, 5)"
   ],
   "metadata": {
    "collapsed": false,
    "pycharm": {
     "name": "#%%\n"
    }
   }
  },
  {
   "cell_type": "markdown",
   "source": [
    "You can also use variable names that point to other objects in a function call:"
   ],
   "metadata": {
    "collapsed": false,
    "pycharm": {
     "name": "#%% md\n"
    }
   }
  },
  {
   "cell_type": "code",
   "execution_count": 24,
   "outputs": [
    {
     "data": {
      "text/plain": "20"
     },
     "execution_count": 24,
     "metadata": {},
     "output_type": "execute_result"
    }
   ],
   "source": [
    "def calc_area(width, length):\n",
    "    area = width * length\n",
    "    return area\n",
    "\n",
    "w = 4\n",
    "l = 5\n",
    "calc_area(4, 5)"
   ],
   "metadata": {
    "collapsed": false,
    "pycharm": {
     "name": "#%%\n"
    }
   }
  },
  {
   "cell_type": "markdown",
   "source": [
    "Note that the names of the arguments and parameters do not need to match. These are positional arguments. Thus the parameters are assigned by position. You need to provide the arguments in the correct sequence. Imagine we want to calculate $2^3$. We can create a `calc_power` function:"
   ],
   "metadata": {
    "collapsed": false,
    "pycharm": {
     "name": "#%% md\n"
    }
   }
  },
  {
   "cell_type": "code",
   "execution_count": 25,
   "outputs": [
    {
     "name": "stdout",
     "output_type": "stream",
     "text": [
      "9\n",
      "8\n"
     ]
    }
   ],
   "source": [
    "def calc_power(b, n):\n",
    "    res = b**n\n",
    "    return res\n",
    "\n",
    "base = 2\n",
    "number = 3\n",
    "\n",
    "print(calc_power(number, base)) # not OK, number and base switched\n",
    "print(calc_power(base, number)) # OK"
   ],
   "metadata": {
    "collapsed": false,
    "pycharm": {
     "name": "#%%\n"
    }
   }
  },
  {
   "cell_type": "markdown",
   "source": [
    "## The return value of a function\n",
    "\n",
    "- Not only can you pass a value as an argument into a function, a function can also produce a value; the return value\n",
    "- The return statement is followed by an expression which is evaluated. This is either a simple value, a variable containing a value or an expression resulting in a value.\n",
    "- NB: All Python functions return a `None` object unless there is an explicit return statement."
   ],
   "metadata": {
    "collapsed": false,
    "pycharm": {
     "name": "#%% md\n"
    }
   }
  },
  {
   "cell_type": "code",
   "execution_count": 26,
   "outputs": [
    {
     "name": "stdout",
     "output_type": "stream",
     "text": [
      "Hello\n",
      "None\n"
     ]
    }
   ],
   "source": [
    "def do_not_return_anything():\n",
    "    print(\"Hello\")\n",
    "\n",
    "print(do_not_return_anything()) # will return None"
   ],
   "metadata": {
    "collapsed": false,
    "pycharm": {
     "name": "#%%\n"
    }
   }
  },
  {
   "cell_type": "markdown",
   "source": [
    "As mentioned earlier, if we call a function that returns a value we can catch this value in a variable by assigning the function call to a variable."
   ],
   "metadata": {
    "collapsed": false,
    "pycharm": {
     "name": "#%% md\n"
    }
   }
  },
  {
   "cell_type": "code",
   "execution_count": 27,
   "outputs": [
    {
     "name": "stdout",
     "output_type": "stream",
     "text": [
      "20\n"
     ]
    }
   ],
   "source": [
    "def calc_area(width, length):\n",
    "    area = width * length\n",
    "    return area\n",
    "\n",
    "fieldsize = calc_area(4, 5)\n",
    "print(fieldsize)"
   ],
   "metadata": {
    "collapsed": false,
    "pycharm": {
     "name": "#%%\n"
    }
   }
  },
  {
   "cell_type": "markdown",
   "source": [
    "We also can use the result directly in another function as an argument, like the print function."
   ],
   "metadata": {
    "collapsed": false,
    "pycharm": {
     "name": "#%% md\n"
    }
   }
  },
  {
   "cell_type": "code",
   "execution_count": 28,
   "outputs": [
    {
     "name": "stdout",
     "output_type": "stream",
     "text": [
      "20\n"
     ]
    }
   ],
   "source": [
    "def calc_area(width, length):\n",
    "    area = width * length\n",
    "    return area\n",
    "\n",
    "print(calc_area(4, 5))"
   ],
   "metadata": {
    "collapsed": false,
    "pycharm": {
     "name": "#%%\n"
    }
   }
  },
  {
   "cell_type": "markdown",
   "source": [
    "A return statement, once executed, immediately terminates execution of a function, even if it is not the last statement in the function.\n",
    "\n",
    "- If the function does not have a return statement it leaves the function after the last statement of the function and resumes at the point in the code the function was called."
   ],
   "metadata": {
    "collapsed": false,
    "pycharm": {
     "name": "#%% md\n"
    }
   }
  },
  {
   "cell_type": "code",
   "execution_count": 29,
   "outputs": [
    {
     "name": "stdout",
     "output_type": "stream",
     "text": [
      "only valid letters found\n"
     ]
    },
    {
     "data": {
      "text/plain": "True"
     },
     "execution_count": 29,
     "metadata": {},
     "output_type": "execute_result"
    }
   ],
   "source": [
    "def validate_dna(seq):\n",
    "    for base in seq:\n",
    "        if not base in \"ATCG\":\n",
    "            print(\"found invalid letter\", base)\n",
    "            return False\n",
    "    print(\"only valid letters found\")\n",
    "    return True\n",
    "\n",
    "seq1 = \"ATTTCCGG\"\n",
    "seq2 = \"ATQTCCGG\"\n",
    "\n",
    "validate_dna(seq1)"
   ],
   "metadata": {
    "collapsed": false,
    "pycharm": {
     "name": "#%%\n"
    }
   }
  },
  {
   "cell_type": "code",
   "execution_count": 30,
   "outputs": [
    {
     "name": "stdout",
     "output_type": "stream",
     "text": [
      "found invalid letter Q\n"
     ]
    },
    {
     "data": {
      "text/plain": "False"
     },
     "execution_count": 30,
     "metadata": {},
     "output_type": "execute_result"
    }
   ],
   "source": [
    "def validate_dna(seq):\n",
    "    for base in seq:\n",
    "        if not base in \"ATCG\":\n",
    "            print(\"found invalid letter\", base)\n",
    "            return False\n",
    "    print(\"only valid letters found\")\n",
    "    return True\n",
    "\n",
    "seq1 = \"ATTTCCGG\"\n",
    "seq2 = \"ATQTCCGG\"\n",
    "\n",
    "validate_dna(seq2)"
   ],
   "metadata": {
    "collapsed": false,
    "pycharm": {
     "name": "#%%\n"
    }
   }
  },
  {
   "cell_type": "markdown",
   "source": [
    "A return statement causes execution to leave the current function and resume at the point in the code immediately after where the function was called."
   ],
   "metadata": {
    "collapsed": false,
    "pycharm": {
     "name": "#%% md\n"
    }
   }
  },
  {
   "cell_type": "code",
   "execution_count": 31,
   "outputs": [
    {
     "name": "stdout",
     "output_type": "stream",
     "text": [
      "c\n",
      "a\n",
      "d\n"
     ]
    }
   ],
   "source": [
    "def test():\n",
    "    print(\"a\")\n",
    "    return\n",
    "    print(\"b\") # never gets executed because after return\n",
    "\n",
    "print(\"c\") # first executed line\n",
    "test() # now the function is called\n",
    "print(\"d\") # executed after the return statement"
   ],
   "metadata": {
    "collapsed": false,
    "pycharm": {
     "name": "#%%\n"
    }
   }
  },
  {
   "cell_type": "markdown",
   "source": [
    "If the function does not have a return statement it leaves the function after the last statement of the function and resumes at the point in thecode the function was called."
   ],
   "metadata": {
    "collapsed": false,
    "pycharm": {
     "name": "#%% md\n"
    }
   }
  },
  {
   "cell_type": "code",
   "execution_count": 32,
   "outputs": [
    {
     "name": "stdout",
     "output_type": "stream",
     "text": [
      "c\n",
      "a\n",
      "b\n",
      "d\n"
     ]
    }
   ],
   "source": [
    "def test():\n",
    "    print(\"a\")\n",
    "    print(\"b\")\n",
    "\n",
    "print(\"c\") # first executed line\n",
    "test() # now the function is called\n",
    "print(\"d\") # executed after the return statement"
   ],
   "metadata": {
    "collapsed": false,
    "pycharm": {
     "name": "#%%\n"
    }
   }
  },
  {
   "cell_type": "markdown",
   "source": [
    "> Each function ends with an implicit `return None` statement"
   ],
   "metadata": {
    "collapsed": false,
    "pycharm": {
     "name": "#%% md\n"
    }
   }
  },
  {
   "cell_type": "markdown",
   "source": [
    "Functions can only return a single variable. If you want to return more than one value you've got to wrap them inside a:\n",
    "- list\n",
    "- tuple\n",
    "- dictionary\n",
    "- set\n",
    "- object"
   ],
   "metadata": {
    "collapsed": false,
    "pycharm": {
     "name": "#%% md\n"
    }
   }
  },
  {
   "cell_type": "code",
   "execution_count": 33,
   "outputs": [
    {
     "data": {
      "text/plain": "(1.0, -4.0)"
     },
     "execution_count": 33,
     "metadata": {},
     "output_type": "execute_result"
    }
   ],
   "source": [
    "def abc_formula(a, b, c):\n",
    "    D = b**2 - 4 * a * c\n",
    "    x1 = (-b + D**0.5) / (2 * a)\n",
    "    x2 = (-b - D**0.5) / (2 * a)\n",
    "    return (x1, x2)\n",
    "\n",
    "a = 1\n",
    "b = 3\n",
    "c = -4\n",
    "abc_formula(a, b, c)"
   ],
   "metadata": {
    "collapsed": false,
    "pycharm": {
     "name": "#%%\n"
    }
   }
  },
  {
   "cell_type": "markdown",
   "source": [
    "Note that the coordinates of obtained by the abc-formula in the return statement are wrapped in a tuple. If you do not add the parentheses, Python will wrap it in a tuple as well:"
   ],
   "metadata": {
    "collapsed": false,
    "pycharm": {
     "name": "#%% md\n"
    }
   }
  },
  {
   "cell_type": "code",
   "execution_count": 34,
   "outputs": [
    {
     "name": "stdout",
     "output_type": "stream",
     "text": [
      "(1, 2, 3)\n",
      "<class 'tuple'>\n"
     ]
    }
   ],
   "source": [
    "def return_multiple_values():\n",
    "    return 1, 2, 3 # will wrap in a tuple\n",
    "\n",
    "result = return_multiple_values()\n",
    "print(result)\n",
    "print(type(result))"
   ],
   "metadata": {
    "collapsed": false,
    "pycharm": {
     "name": "#%%\n"
    }
   }
  },
  {
   "cell_type": "markdown",
   "source": [
    "Using functions is a good way to organize your code. With the keyword `def` we define a function. It is not yet called, just defined.\n",
    "The function code is called (executed) if we call it by its function name.\n",
    "You can not call a function before it is defined!"
   ],
   "metadata": {
    "collapsed": false,
    "pycharm": {
     "name": "#%% md\n"
    }
   }
  },
  {
   "cell_type": "code",
   "execution_count": 40,
   "outputs": [
    {
     "data": {
      "text/plain": "4.47213595499958"
     },
     "execution_count": 40,
     "metadata": {},
     "output_type": "execute_result"
    }
   ],
   "source": [
    "# calc_pythagoras(2, 4) # results in NameError\n",
    "\n",
    "def calc_pythagoras(a, b):\n",
    "    c = (a**2 + b**2)**0.5\n",
    "    return c\n",
    "\n",
    "calc_pythagoras(2, 4) # now it is ok to call the function because it is defined."
   ],
   "metadata": {
    "collapsed": false,
    "pycharm": {
     "name": "#%%\n"
    }
   }
  },
  {
   "cell_type": "markdown",
   "source": [
    "When creating a new program, you may want to define empty functions that can be filled in later. However, you are not allowed to have function without any code inside it. To tell Python that you are fine with this empty function definition you can use the `pass` keyword as replacement (for now) for the codeblock"
   ],
   "metadata": {
    "collapsed": false,
    "pycharm": {
     "name": "#%% md\n"
    }
   }
  },
  {
   "cell_type": "code",
   "execution_count": 36,
   "outputs": [],
   "source": [
    "def calc_pythagoras(a, b):\n",
    "    pass # pass can be handy if you want to define the function first, but add the actual content at a later stage."
   ],
   "metadata": {
    "collapsed": false,
    "pycharm": {
     "name": "#%%\n"
    }
   }
  },
  {
   "cell_type": "markdown",
   "source": [
    "## default arguments\n",
    "We can give parameters default values. This is convenient when the computation normally uses a certain value, but you would like to be able to also provide a different value.\n",
    "\n",
    "If you call the function and provide a value for the argument, then this value will be used. However, not providing a value for an argument will fall back to the default value."
   ],
   "metadata": {
    "collapsed": false,
    "pycharm": {
     "name": "#%% md\n"
    }
   }
  },
  {
   "cell_type": "code",
   "execution_count": 37,
   "outputs": [
    {
     "name": "stdout",
     "output_type": "stream",
     "text": [
      "hello ronald\n",
      "Hi ronald\n"
     ]
    }
   ],
   "source": [
    "def say_something(name, message='Hi'):\n",
    "    print(message, name)\n",
    "\n",
    "say_something('ronald', 'hello')\n",
    "say_something('ronald')"
   ],
   "metadata": {
    "collapsed": false,
    "pycharm": {
     "name": "#%%\n"
    }
   }
  },
  {
   "cell_type": "markdown",
   "source": [
    "To be able to use default values, you have to define them after other variable, otherwise you will get an SyntaxError."
   ],
   "metadata": {
    "collapsed": false,
    "pycharm": {
     "name": "#%% md\n"
    }
   }
  },
  {
   "cell_type": "code",
   "execution_count": 38,
   "outputs": [
    {
     "ename": "SyntaxError",
     "evalue": "non-default argument follows default argument (1046765206.py, line 1)",
     "output_type": "error",
     "traceback": [
      "\u001B[0;36m  File \u001B[0;32m\"/var/folders/wz/y__hb3n94lj39qh11bpr74fm0000gn/T/ipykernel_25404/1046765206.py\"\u001B[0;36m, line \u001B[0;32m1\u001B[0m\n\u001B[0;31m    def say_something(message='Hi', name):\u001B[0m\n\u001B[0m                                        ^\u001B[0m\n\u001B[0;31mSyntaxError\u001B[0m\u001B[0;31m:\u001B[0m non-default argument follows default argument\n"
     ]
    }
   ],
   "source": [
    "def say_something(message='Hi', name):\n",
    "    print(message, name)"
   ],
   "metadata": {
    "collapsed": false,
    "pycharm": {
     "name": "#%%\n"
    }
   }
  },
  {
   "cell_type": "markdown",
   "source": [
    "When you have multiple default arguments, you can switch the order in calling if you use the named arguments."
   ],
   "metadata": {
    "collapsed": false,
    "pycharm": {
     "name": "#%% md\n"
    }
   }
  },
  {
   "cell_type": "code",
   "execution_count": 39,
   "outputs": [
    {
     "name": "stdout",
     "output_type": "stream",
     "text": [
      "Hello Olivier\n"
     ]
    }
   ],
   "source": [
    "def say_something(name = 'ronald', message = 'Hi'):\n",
    "    print(message, name)\n",
    "\n",
    "say_something(message = 'Hello', name = 'Olivier')"
   ],
   "metadata": {
    "collapsed": false,
    "pycharm": {
     "name": "#%%\n"
    }
   }
  },
  {
   "cell_type": "markdown",
   "source": [
    "## Scoping rules\n",
    "So far, you have seen that a function can accept arguments.\n",
    "These arguments are passed to parameters which can be used as variables that live in the function as long as it runs.\n",
    "These variables are scoped (meaning a place where they 'live'), and you will not have access to it from outside the function:\n"
   ],
   "metadata": {
    "collapsed": false,
    "pycharm": {
     "name": "#%% md\n"
    }
   }
  },
  {
   "cell_type": "code",
   "execution_count": 41,
   "outputs": [
    {
     "name": "stdout",
     "output_type": "stream",
     "text": [
      "inside ATC\n",
      "CTA\n"
     ]
    }
   ],
   "source": [
    "def reverse(seq):\n",
    "    rev = seq[::-1]\n",
    "    print(\"inside\", seq)\n",
    "    return rev\n",
    "\n",
    "rev_dna = reverse(\"ATC\")\n",
    "print(rev_dna)\n",
    "#print(seq) # results in NameError"
   ],
   "metadata": {
    "collapsed": false,
    "pycharm": {
     "name": "#%%\n"
    }
   }
  },
  {
   "cell_type": "markdown",
   "source": [
    "Before you started writing functions, all code was written at the top-level of a python script(module), so the names either\n",
    "- Lived in the module itself, or were built-ins that Python predefines (e.g., open).\n",
    "- Functions provide a nested namespace (sometimes called a scope), which localizes the names they use, such that names inside the function won’t clash with those outside (in a module or other function). We usually say that functions def in a local scope, and modules define a global scope."
   ],
   "metadata": {
    "collapsed": false,
    "pycharm": {
     "name": "#%% md\n"
    }
   }
  },
  {
   "cell_type": "markdown",
   "source": [
    "- Each module (think of a Python script for now) is a global scope, a namespace where variables created (assigned) at the top level of a module file live\n",
    "- Every time you call a function, you create a new local scope, a namespace where variables names created inside the function usually live, but they do not exist outside the local space"
   ],
   "metadata": {
    "collapsed": false,
    "pycharm": {
     "name": "#%% md\n"
    }
   }
  },
  {
   "cell_type": "code",
   "execution_count": 42,
   "outputs": [
    {
     "name": "stdout",
     "output_type": "stream",
     "text": [
      "inside Jan\n",
      "outside Truus\n"
     ]
    }
   ],
   "source": [
    "name = \"Truus\"\n",
    "\n",
    "def show_scoping():\n",
    "    name = \"Jan\"\n",
    "    print(\"inside\", name)\n",
    "\n",
    "show_scoping()\n",
    "print(\"outside\", name)"
   ],
   "metadata": {
    "collapsed": false,
    "pycharm": {
     "name": "#%%\n"
    }
   }
  },
  {
   "cell_type": "markdown",
   "source": [
    "- When you use an unqualified name inside a function, Python searches three scopes—the local (L), then the global (G), and then the built-in (B)—and stops at the first place the name is found.\n",
    "- When you assign a name in a function (instead of just referring to it in an expression), Python always creates or changes the name in the local scope, unless it’s declared to be global in that function.\n",
    "- When outside a function (i.e., at the top-level of a module or at the interactive prompt), the scope is global."
   ],
   "metadata": {
    "collapsed": false,
    "pycharm": {
     "name": "#%% md\n"
    }
   }
  },
  {
   "cell_type": "markdown",
   "source": [
    "## Mutable versus unmutable objects and scoping\n",
    "As shown before variables inside functions are scoped and can not be accessed from outside the function.\n",
    "This prevents name clashes. But what about the other way around?\n",
    "Are variables in the global scope accessible from within a function without passing them as arguments?"
   ],
   "metadata": {
    "collapsed": false,
    "pycharm": {
     "name": "#%% md\n"
    }
   }
  },
  {
   "cell_type": "code",
   "execution_count": 43,
   "outputs": [
    {
     "name": "stdout",
     "output_type": "stream",
     "text": [
      "Truus\n",
      "1\n",
      "[1, 2, 3]\n"
     ]
    }
   ],
   "source": [
    "dna = \"gat\"\n",
    "num = 1\n",
    "nums = [1, 2, 3]\n",
    "\n",
    "def my_fun():\n",
    "    print(name)\n",
    "    print(num)\n",
    "    print(nums)\n",
    "\n",
    "my_fun()"
   ],
   "metadata": {
    "collapsed": false,
    "pycharm": {
     "name": "#%%\n"
    }
   }
  },
  {
   "cell_type": "markdown",
   "source": [
    "The answer is yes. Global variables are accessible within a function. But can they be manipulated?"
   ],
   "metadata": {
    "collapsed": false,
    "pycharm": {
     "name": "#%% md\n"
    }
   }
  },
  {
   "cell_type": "code",
   "execution_count": 44,
   "outputs": [
    {
     "name": "stdout",
     "output_type": "stream",
     "text": [
      "[1, 2, 3, 4]\n"
     ]
    }
   ],
   "source": [
    "name = \"Piet\"\n",
    "num = 1\n",
    "nums = [1, 2, 3]\n",
    "\n",
    "def my_fun():\n",
    "    # name += \"c\" # UnboundLocalError: local variable 'name' referenced before assignment\n",
    "    # num += 1 # UnboundLocalError: local variable 'num' referenced before assignment\n",
    "    nums.append(4) # legal because lists are mutable\n",
    "\n",
    "my_fun()\n",
    "print(nums)"
   ],
   "metadata": {
    "collapsed": false,
    "pycharm": {
     "name": "#%%\n"
    }
   }
  },
  {
   "cell_type": "markdown",
   "source": [
    "As you can see from the example, global variables are accessible in a function but only mutable objects do not give an UnboundLocalError. Immutable objects must be passed as arguments:"
   ],
   "metadata": {
    "collapsed": false,
    "pycharm": {
     "name": "#%% md\n"
    }
   }
  },
  {
   "cell_type": "code",
   "execution_count": 45,
   "outputs": [
    {
     "name": "stdout",
     "output_type": "stream",
     "text": [
      "gatc 2 [1, 2, 3, 4]\n"
     ]
    }
   ],
   "source": [
    "name = \"gat\"\n",
    "num = 1\n",
    "nums = [1, 2, 3]\n",
    "\n",
    "def my_fun(name, num, nums):\n",
    "    name += \"c\"\n",
    "    num += 1\n",
    "    nums.append(4)\n",
    "    print(name, num, nums)\n",
    "\n",
    "\n",
    "my_fun(name, num, nums)"
   ],
   "metadata": {
    "collapsed": false,
    "pycharm": {
     "name": "#%%\n"
    }
   }
  },
  {
   "cell_type": "markdown",
   "source": [
    "> Even though you can manipulate global mutable objects like lists without passing them as arguments, you are **strongly** adviced to pass them as arguments!"
   ],
   "metadata": {
    "collapsed": false,
    "pycharm": {
     "name": "#%% md\n"
    }
   }
  },
  {
   "cell_type": "code",
   "execution_count": 46,
   "outputs": [
    {
     "name": "stdout",
     "output_type": "stream",
     "text": [
      "[1, 2, 3, 4]\n"
     ]
    }
   ],
   "source": [
    "# NOT ADVICED\n",
    "x = [1, 2, 3]\n",
    "\n",
    "def my_fun():\n",
    "    x.append(4)\n",
    "\n",
    "my_fun()\n",
    "print(x)"
   ],
   "metadata": {
    "collapsed": false,
    "pycharm": {
     "name": "#%%\n"
    }
   }
  },
  {
   "cell_type": "code",
   "execution_count": 47,
   "outputs": [
    {
     "name": "stdout",
     "output_type": "stream",
     "text": [
      "[1, 2, 3, 4]\n"
     ]
    }
   ],
   "source": [
    "# The right way\n",
    "x = [1, 2, 3]\n",
    "\n",
    "def my_fun(x):\n",
    "    x.append(4)\n",
    "    return x\n",
    "\n",
    "my_fun(x)\n",
    "print(x)"
   ],
   "metadata": {
    "collapsed": false,
    "pycharm": {
     "name": "#%%\n"
    }
   }
  },
  {
   "cell_type": "markdown",
   "source": [
    "## Functions can call functions\n",
    "As mentioned before, you can call a function only after it has been defined:"
   ],
   "metadata": {
    "collapsed": false,
    "pycharm": {
     "name": "#%% md\n"
    }
   }
  },
  {
   "cell_type": "code",
   "execution_count": null,
   "outputs": [],
   "source": [
    "#say_hello() # NameError: name 'say_hello' is not defined\n",
    "\n",
    "def say_hello():\n",
    "    print(\"hello\")\n",
    "\n",
    "say_hello()"
   ],
   "metadata": {
    "collapsed": false,
    "pycharm": {
     "name": "#%%\n"
    }
   }
  },
  {
   "cell_type": "markdown",
   "source": [
    "But what about functions that call functions? Is the sequence important?"
   ],
   "metadata": {
    "collapsed": false,
    "pycharm": {
     "name": "#%% md\n"
    }
   }
  },
  {
   "cell_type": "code",
   "execution_count": 48,
   "outputs": [
    {
     "name": "stdout",
     "output_type": "stream",
     "text": [
      "2\n",
      "3\n",
      "1\n"
     ]
    }
   ],
   "source": [
    "def fun1():\n",
    "    print(1)\n",
    "\n",
    "def fun2():\n",
    "    print(2)\n",
    "    fun3()\n",
    "\n",
    "def fun3():\n",
    "    print(3)\n",
    "    fun1()\n",
    "\n",
    "fun2()"
   ],
   "metadata": {
    "collapsed": false,
    "pycharm": {
     "name": "#%%\n"
    }
   }
  },
  {
   "cell_type": "markdown",
   "source": [
    "Note that functions can call other functions and the sequence does not matter. Fun3 is called from within fun2 even though fun3 is declared below fun2."
   ],
   "metadata": {
    "collapsed": false,
    "pycharm": {
     "name": "#%% md\n"
    }
   }
  },
  {
   "cell_type": "markdown",
   "source": [
    "Beware that functions can call eachother in a circular function call. This can cause a recursion error:"
   ],
   "metadata": {
    "collapsed": false,
    "pycharm": {
     "name": "#%% md\n"
    }
   }
  },
  {
   "cell_type": "code",
   "execution_count": 48,
   "outputs": [],
   "source": [
    "def ping():\n",
    "    print(\"ping\")\n",
    "    pong()\n",
    "\n",
    "\n",
    "def pong():\n",
    "    print(\"pong\")\n",
    "    ping()\n",
    "\n",
    "#ping() #This will cause a recursion loop"
   ],
   "metadata": {
    "collapsed": false,
    "pycharm": {
     "name": "#%%\n"
    }
   }
  },
  {
   "cell_type": "markdown",
   "source": [
    "Recursion can be handy. The next example is beyond the scope but have a brief look at it. Do you understand what happens?"
   ],
   "metadata": {
    "collapsed": false,
    "pycharm": {
     "name": "#%% md\n"
    }
   }
  },
  {
   "cell_type": "code",
   "execution_count": 49,
   "outputs": [
    {
     "name": "stdout",
     "output_type": "stream",
     "text": [
      "24\n"
     ]
    }
   ],
   "source": [
    "# Brain heater. do you understand this?\n",
    "# n! voorbeeld 4! = 4 * 3 * 2 * 1 = 24\n",
    "\n",
    "def calc_factorial(n):\n",
    "    if n == 1:\n",
    "        return 1\n",
    "    return n * calc_factorial(n - 1) #function called from within a function\n",
    "\n",
    "print(calc_factorial(4))"
   ],
   "metadata": {
    "collapsed": false,
    "pycharm": {
     "name": "#%%\n"
    }
   }
  }
 ],
 "metadata": {
  "kernelspec": {
   "display_name": "Python 3",
   "language": "python",
   "name": "python3"
  },
  "language_info": {
   "codemirror_mode": {
    "name": "ipython",
    "version": 2
   },
   "file_extension": ".py",
   "mimetype": "text/x-python",
   "name": "python",
   "nbconvert_exporter": "python",
   "pygments_lexer": "ipython2",
   "version": "2.7.6"
  }
 },
 "nbformat": 4,
 "nbformat_minor": 0
}