{
 "cells": [
  {
   "attachments": {},
   "cell_type": "markdown",
   "metadata": {},
   "source": [
    "# PEP8\n",
    "\n",
    "When programming, it's important to make your code work. It needs to do what it is supposed to do when executed, without throwing errors or frying your PC. But, once you've accomplished that, there's another very important step we need to take to deliver good code, namely to make your code readable. \n",
    "\n",
    "For example, compare these two functions:"
   ]
  },
  {
   "cell_type": "code",
   "execution_count": 2,
   "metadata": {
    "collapsed": true,
    "pycharm": {
     "name": "#%%\n"
    }
   },
   "outputs": [
    {
     "data": {
      "text/plain": [
       "'After 10 seconds of falling your velocity will be 98.10000000000001 meters per second'"
      ]
     },
     "execution_count": 2,
     "metadata": {},
     "output_type": "execute_result"
    }
   ],
   "source": [
    "def calculate_freefall_velocity(time_in_seconds): \n",
    "    \"\"\"Calculates the velocity of a falling object after an amount of time (in seconds)\"\"\" \n",
    "    gravity_constant = 9.81               # Acceleration in Earth's gravity in m/s/s (meter per second per second)\n",
    "    velocity = gravity_constant * time_in_seconds\n",
    "    return(f\"After {time_in_seconds} seconds of falling your velocity will be {velocity} meters per second\")\n",
    "\n",
    "calculate_freefall_velocity(10)"
   ]
  },
  {
   "cell_type": "code",
   "execution_count": 6,
   "metadata": {},
   "outputs": [
    {
     "data": {
      "text/plain": [
       "47.07"
      ]
     },
     "execution_count": 6,
     "metadata": {},
     "output_type": "execute_result"
    }
   ],
   "source": [
    "def myFunction(V, deltaT):\n",
    "    W = 4.184\n",
    "    Kjs = (V*W*deltaT)/1000\n",
    "    return(Kjs)\n",
    " \n",
    "myFunction(150, 75)\n"
   ]
  },
  {
   "attachments": {},
   "cell_type": "markdown",
   "metadata": {},
   "source": [
    "So the top function looks bulky, and has more comments than actual, functional code. But reading it you will be able to figure out what's going on. We're calculating the velocity of falling objects. Now the bottom function is smaller and shorter. Often in programming, less is more, but despite this being a perfectly working function that does return the right answer, it's hard to figure out what this function does simply by looking at it. \n",
    "\n",
    "Now, if you wrote a function like this, obviously you would know what it is supposed to do and what the function is for. At least, now you do, you just wrote it. \n",
    "\n",
    "But what about in a week? In a month? Imaging this wasn't just a rogue function in the void, but an important support function inside a larger program. Perhaps thousands of lines of code depend on wether this function does its job or not. \n",
    "\n",
    "Say you worked for a large company, and a function like this is the backbone of a massive piece of software you wrote and a few hundred people depend on. Now, some update rolls around, suddenly, somewhere in the code there is a bug. Thus, you have to look back, and read through your code from years ago to figure out where things go awry. \n",
    "\n",
    "At that point in time, we really hope you write code like the first example, not the second. \n",
    "\n"
   ]
  },
  {
   "attachments": {},
   "cell_type": "markdown",
   "metadata": {},
   "source": [
    "Here, the same function is shown again, but with proper commenting:"
   ]
  },
  {
   "cell_type": "code",
   "execution_count": 1,
   "metadata": {},
   "outputs": [
    {
     "data": {
      "text/plain": [
       "\"To heat 150 ml of water 75 degrees you'll need 47.07 kilojoules\""
      ]
     },
     "execution_count": 1,
     "metadata": {},
     "output_type": "execute_result"
    }
   ],
   "source": [
    "def heat_water(volume_in_ml, change_in_temperature):\n",
    "    heat_capacity_water = 4.184     # Joules per gram per degrees celcius. \n",
    "    joules_needed = (volume_in_ml*heat_capacity_water*change_in_temperature)/1000\n",
    "    return (f\"To heat {volume_in_ml} ml of water {change_in_temperature} degrees you'll need {joules_needed} kilojoules\")\n",
    "\n",
    "heat_water(150, 75)"
   ]
  },
  {
   "attachments": {},
   "cell_type": "markdown",
   "metadata": {},
   "source": [
    "Turns out it made sense after all!\n",
    "\n",
    "Now, there is another very important reason to make code readable. You rarely work alone as a programmer. Even if you work alone in your day-to-day you often work with code written by others, and you in turn write code for other people. Nothing is more frustrating than having to work with a piece of code that is not or poorly documented. Don't be that person! Keep your future self and your potential colleagues in mind and make your code robust, easy to follow and idiot-proof! \n",
    "\n",
    "\n"
   ]
  },
  {
   "attachments": {},
   "cell_type": "markdown",
   "metadata": {},
   "source": [
    "But how can we make sure our code is neat and understandable?\n",
    "\n",
    "The solution is PEP8. This is a set of rules agreed on by python programmers that describes how code should look and how it should be documented, in order to keep things consistent across Python's entire (sizeable) userbase. The full set of rules can be found here: https://peps.python.org/pep-0008/#introduction\n",
    "\n",
    "Now this is a lot, so here's a few of the most important rules listed: \n",
    "- Lines should not be longer than 79 characters \n",
    "- Global variables should he in all caps with underscores: EXAMPLE_GLOBAL_VARIABLE\n",
    "- Function and variable names should be in snake_case\n",
    "- Class names (you haven't learned about these yet, they'll come later) should be in CamelCase\n",
    "- Block comments should be put below every function declaration, in the function's namespace\n",
    "- Larger block comments should be at the top of every script, denoting not only the script's function but also author, version and date\n"
   ]
  },
  {
   "attachments": {},
   "cell_type": "markdown",
   "metadata": {},
   "source": [
    "Here's an example of a script following the PEP8 rules:"
   ]
  },
  {
   "cell_type": "code",
   "execution_count": 3,
   "metadata": {},
   "outputs": [],
   "source": [
    "\"\"\"\n",
    "Loes' PEP8 example script \n",
    "\n",
    "Author: Loes Oldhoff\n",
    "Date: 8-9-2023\n",
    "Version: 1\n",
    "\n",
    "This is a multi-line docsting. As the name implies, it spans multiple lines. It starts with triple quotes and only ends on the next triple quotes\n",
    "\"\"\"\n",
    "import random\n",
    "\n",
    "def roll_die(): \n",
    "    \"\"\"Simulates a 6-sided die\"\"\"\n",
    "    return(random.randint(1, 6))\n",
    "\n",
    "def roll_wierd_die(sides):\n",
    "    \"\"\"For all your weird, non-euclidian dice\"\"\"\n",
    "    return(random.randint(1, sides))\n",
    "\n",
    "def roll_many_dice(): \n",
    "    \"\"\"Rolls multiple die of a chosen kind\"\"\"\n",
    "    what_to_roll = input(\"What dice would you like to roll? example: 2d20, 8d6\")\n",
    "    amount, sides = what_to_roll.split('d')\n",
    "    for i in range(amount):\n",
    "        print(roll_wierd_die(sides))\n",
    "\n",
    "roll_many_dice()"
   ]
  },
  {
   "cell_type": "code",
   "execution_count": 1,
   "metadata": {},
   "outputs": [],
   "source": []
  }
 ],
 "metadata": {
  "kernelspec": {
   "display_name": "Python 3",
   "language": "python",
   "name": "python3"
  },
  "language_info": {
   "codemirror_mode": {
    "name": "ipython",
    "version": 3
   },
   "file_extension": ".py",
   "mimetype": "text/x-python",
   "name": "python",
   "nbconvert_exporter": "python",
   "pygments_lexer": "ipython3",
   "version": "3.9.13"
  }
 },
 "nbformat": 4,
 "nbformat_minor": 0
}
