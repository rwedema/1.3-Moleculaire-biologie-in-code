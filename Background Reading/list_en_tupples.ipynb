{
 "cells": [
  {
   "cell_type": "markdown",
   "metadata": {
    "collapsed": true,
    "pycharm": {
     "name": "#%% md\n"
    }
   },
   "source": [
    "## Lists and Tuples\n",
    "There are several datatypes in Python that allow you to store many (different) objects. In this Notebook we will introduce the `List` and `Tuple` datatype, and you will learn how to create and use them. Both are ordered collections of other objects (character string, numbers, or any other Python object). They are quite simular to strings in many ways, but with one important exception: they are mutable (meaning they can be changed).\n",
    "\n",
    "Lists are created using square brackets `[]`\n",
    "The elements you want to store are placed between the `[]`, seperated by a comma `,`"
   ]
  },
  {
   "cell_type": "code",
   "execution_count": 14,
   "outputs": [
    {
     "name": "stdout",
     "output_type": "stream",
     "text": [
      "[]\n",
      "['atg', 'agg', 'ttt']\n"
     ]
    }
   ],
   "source": [
    "# here we create an empty list (not containing any other objects)\n",
    "my_empty_list = []\n",
    "\n",
    "# here we create a list containing 3 codons\n",
    "sequences = ['atg', 'agg', 'ttt']\n",
    "\n",
    "print(my_empty_list)\n",
    "print(sequences)"
   ],
   "metadata": {
    "collapsed": false,
    "pycharm": {
     "name": "#%%\n"
    }
   }
  },
  {
   "cell_type": "markdown",
   "source": [
    "We can add to existing list in two different ways. The first is using one of the methods associated with the `list` object.\n",
    "\n",
    "Can you find which of the List methods allows you to add another element to the list? Try to use `dir(list)` or `help(list)` to show the methods available for a list. For now ignore the `__method__` names.\n",
    "\n",
    "The first method that you could use to add (append) an object to a list is the `append()` method. This method appends the object to the end of the existing list, thus growing the list by +1.\n",
    "\n"
   ],
   "metadata": {
    "collapsed": false,
    "pycharm": {
     "name": "#%% md\n"
    }
   }
  },
  {
   "cell_type": "code",
   "execution_count": 15,
   "outputs": [
    {
     "name": "stdout",
     "output_type": "stream",
     "text": [
      "['ATG', 'TAG', 'TAA']\n",
      "['ATG', 'TAG', 'TAA', 'GGG']\n"
     ]
    }
   ],
   "source": [
    "# first we create a list that already has some content\n",
    "codons = ['ATG', 'TAG', 'TAA']\n",
    "print(codons)\n",
    "\n",
    "# next we add or new object to the end of the list\n",
    "codons.append('GGG')\n",
    "print(codons)"
   ],
   "metadata": {
    "collapsed": false,
    "pycharm": {
     "name": "#%%\n"
    }
   }
  },
  {
   "cell_type": "markdown",
   "source": [
    "Another way to add to a list is to take another list and use the concatenation operator `+` using both. Doing so will add all elements from the list of on the right-hand side of the operator to the list on the left-hand side as is shown in the example below. To save the result of this operation we have to assign (use the assignment operator `=`) it to a variable."
   ],
   "metadata": {
    "collapsed": false,
    "pycharm": {
     "name": "#%% md\n"
    }
   }
  },
  {
   "cell_type": "code",
   "execution_count": 16,
   "outputs": [
    {
     "name": "stdout",
     "output_type": "stream",
     "text": [
      "list one: [1, 2, 3]\n",
      "list two: ['a', 'b', 'c']\n",
      "list three: [1, 2, 3, 'a', 'b', 'c']\n"
     ]
    }
   ],
   "source": [
    "# create two lists that we will use to add them together\n",
    "list_one = [1, 2, 3]\n",
    "list_two = ['a', 'b', 'c']\n",
    "\n",
    "print('list one:', list_one)\n",
    "print('list two:', list_two)\n",
    "\n",
    "# add the output of the concatenation to a new variable (we could ofcourse also overwrite one of the originals\n",
    "list_three = list_one + list_two\n",
    "print('list three:', list_three)"
   ],
   "metadata": {
    "collapsed": false,
    "pycharm": {
     "name": "#%%\n"
    }
   }
  },
  {
   "cell_type": "markdown",
   "source": [
    "List are not limited to holding one datatype, but can hold any number of different datatypes. In the example above it holds numbers and characters."
   ],
   "metadata": {
    "collapsed": false,
    "pycharm": {
     "name": "#%% md\n"
    }
   }
  },
  {
   "cell_type": "markdown",
   "source": [
    "Can you find the list method that will delete a given value?"
   ],
   "metadata": {
    "collapsed": false,
    "pycharm": {
     "name": "#%% md\n"
    }
   }
  },
  {
   "cell_type": "code",
   "execution_count": 17,
   "outputs": [
    {
     "name": "stdout",
     "output_type": "stream",
     "text": [
      "before removing: ['atg', 'agg', 'ttt', 'ccc', 'ggg']\n",
      "after removing: ['atg', 'agg', 'ttt', 'ggg']\n"
     ]
    }
   ],
   "source": [
    "total_sequences = ['atg', 'agg', 'ttt', 'ccc', 'ggg']\n",
    "print('before removing:', total_sequences)\n",
    "\n",
    "total_sequences.remove('ccc')\n",
    "print('after removing:', total_sequences)"
   ],
   "metadata": {
    "collapsed": false,
    "pycharm": {
     "name": "#%%\n"
    }
   }
  },
  {
   "cell_type": "markdown",
   "source": [
    "**NOTE: copying a list using assignment will not copy the content and will give  results confusing new Python programmers!**"
   ],
   "metadata": {
    "collapsed": false,
    "pycharm": {
     "name": "#%% md\n"
    }
   }
  },
  {
   "cell_type": "code",
   "execution_count": 18,
   "outputs": [
    {
     "name": "stdout",
     "output_type": "stream",
     "text": [
      "list 1: [1, 2, 3]\n",
      "list_2: [1, 2, 3]\n",
      "list_2: [1, 2, 3, 4]\n",
      "list_1: [1, 2, 3, 4]\n"
     ]
    }
   ],
   "source": [
    "list_1 = [1, 2, 3]\n",
    "list_2 = list_1\n",
    "print('list 1:', list_1)\n",
    "print('list_2:', list_2)\n",
    "\n",
    "list_2.append(4) # add 4 to the end of list_2\n",
    "print('list_2:', list_2)\n",
    "\n",
    "# what do you think will be the content of list_1?\n",
    "print('list_1:', list_1)"
   ],
   "metadata": {
    "collapsed": false,
    "pycharm": {
     "name": "#%%\n"
    }
   }
  },
  {
   "cell_type": "markdown",
   "source": [
    "So what has happened in the previous example?\n",
    "\n",
    "Using the assignment operator (`=`) did not make a copy of the values in the list, but copied a link to where in memory that list was. Both `list_1` and `list_2` now pointed to the same location in memory and any changes to one list will also affect the other because we are changing the content in the location both variables are now pointing to.\n",
    "\n",
    "To create a copy of a list, we have to use the `copy()` method of the list object."
   ],
   "metadata": {
    "collapsed": false,
    "pycharm": {
     "name": "#%% md\n"
    }
   }
  },
  {
   "cell_type": "code",
   "execution_count": 19,
   "outputs": [
    {
     "name": "stdout",
     "output_type": "stream",
     "text": [
      "list 1: [1, 2, 3]\n",
      "list 2: [1, 2, 3]\n",
      "list 1: [1, 2, 3]\n",
      "list 2: [1, 2, 3, 4]\n"
     ]
    }
   ],
   "source": [
    "list_1 = [1, 2, 3]\n",
    "list_2 = list_1.copy()\n",
    "print('list 1:', list_1)\n",
    "print('list 2:', list_2)\n",
    "\n",
    "list_2.append(4)\n",
    "print('list 1:', list_1)\n",
    "print('list 2:', list_2)"
   ],
   "metadata": {
    "collapsed": false,
    "pycharm": {
     "name": "#%%\n"
    }
   }
  },
  {
   "cell_type": "markdown",
   "source": [
    "Next to adding to a `list` using the `append()` method, there are more useful list methods. Again, you can get an overview using `dir(list)` and help using `help(list)`\n",
    "\n",
    "For example the `list.count()` method is useful when you want to count how many times a particular value occurs in the list"
   ],
   "metadata": {
    "collapsed": false,
    "pycharm": {
     "name": "#%% md\n"
    }
   }
  },
  {
   "cell_type": "code",
   "execution_count": 20,
   "outputs": [
    {
     "name": "stdout",
     "output_type": "stream",
     "text": [
      "6\n"
     ]
    }
   ],
   "source": [
    "list_with_duplicates = [1, 2, 2, 4, 5, 2, 6, 7, 9, 2, 2, 5, 2, 8]\n",
    "print(list_with_duplicates.count(2)) # count how many 2's there are"
   ],
   "metadata": {
    "collapsed": false,
    "pycharm": {
     "name": "#%%\n"
    }
   }
  },
  {
   "cell_type": "markdown",
   "source": [
    "## Some useful functions for collection datatypes\n",
    "In the `string_methoden` Notebook we saw that you can use the `len()` function on strings to get the length of the string. We also said that this will work on other collections. As list and tuples are also collection datatypes the len() function will also work here. There are other functions like `len()` that will also work on collections: `min()`, `max()` and `sum()`. These will give you the minimum, maximum or the sum of the values in the collection.\n"
   ],
   "metadata": {
    "collapsed": false,
    "pycharm": {
     "name": "#%% md\n"
    }
   }
  },
  {
   "cell_type": "code",
   "execution_count": 21,
   "outputs": [
    {
     "name": "stdout",
     "output_type": "stream",
     "text": [
      "The length of the list is: 5\n",
      "The minimum value of the list is: 1\n",
      "The maximum value of the list is: 5\n",
      "The summation of all values in the list is: 15\n"
     ]
    }
   ],
   "source": [
    "list_containing_5_elements = [1, 2, 3, 4, 5]\n",
    "print('The length of the list is:', len(list_containing_5_elements))\n",
    "print('The minimum value of the list is:', min(list_containing_5_elements))\n",
    "print('The maximum value of the list is:', max(list_containing_5_elements))\n",
    "print('The summation of all values in the list is:', sum(list_containing_5_elements))"
   ],
   "metadata": {
    "collapsed": false,
    "pycharm": {
     "name": "#%%\n"
    }
   }
  },
  {
   "cell_type": "markdown",
   "source": [
    "The `min()`, `max()` and `sum()` functions only work if the collection consists of numbers only. If the collection contains anything other than ints, Python will show (raise) you a `TypeError` ."
   ],
   "metadata": {
    "collapsed": false,
    "pycharm": {
     "name": "#%% md\n"
    }
   }
  },
  {
   "cell_type": "code",
   "execution_count": 22,
   "outputs": [
    {
     "ename": "TypeError",
     "evalue": "'<' not supported between instances of 'str' and 'int'",
     "output_type": "error",
     "traceback": [
      "\u001B[0;31m---------------------------------------------------------------------------\u001B[0m",
      "\u001B[0;31mTypeError\u001B[0m                                 Traceback (most recent call last)",
      "\u001B[0;32m/var/folders/wz/y__hb3n94lj39qh11bpr74fm0000gn/T/ipykernel_9014/3343324933.py\u001B[0m in \u001B[0;36m<module>\u001B[0;34m\u001B[0m\n\u001B[1;32m      1\u001B[0m \u001B[0mlist_number_six\u001B[0m \u001B[0;34m=\u001B[0m \u001B[0;34m[\u001B[0m\u001B[0;36m1\u001B[0m\u001B[0;34m,\u001B[0m \u001B[0;36m2\u001B[0m\u001B[0;34m,\u001B[0m \u001B[0;36m2\u001B[0m\u001B[0;34m,\u001B[0m \u001B[0;34m'a'\u001B[0m\u001B[0;34m,\u001B[0m \u001B[0;36m6\u001B[0m\u001B[0;34m]\u001B[0m\u001B[0;34m\u001B[0m\u001B[0;34m\u001B[0m\u001B[0m\n\u001B[0;32m----> 2\u001B[0;31m \u001B[0mprint\u001B[0m\u001B[0;34m(\u001B[0m\u001B[0mmin\u001B[0m\u001B[0;34m(\u001B[0m\u001B[0mlist_number_six\u001B[0m\u001B[0;34m)\u001B[0m\u001B[0;34m)\u001B[0m\u001B[0;34m\u001B[0m\u001B[0;34m\u001B[0m\u001B[0m\n\u001B[0m",
      "\u001B[0;31mTypeError\u001B[0m: '<' not supported between instances of 'str' and 'int'"
     ]
    }
   ],
   "source": [
    "list_number_six = [1, 2, 2, 'a', 6]\n",
    "print(min(list_number_six))"
   ],
   "metadata": {
    "collapsed": false,
    "pycharm": {
     "name": "#%%\n"
    }
   }
  },
  {
   "cell_type": "markdown",
   "source": [
    "## Nested Lists\n",
    "Because list can hold any other datatype, they can also hold the list datatype. By doing so you, you can create nested lists or matrices (lists within lists). These are also called multi-dimensional lists"
   ],
   "metadata": {
    "collapsed": false,
    "pycharm": {
     "name": "#%% md\n"
    }
   }
  },
  {
   "cell_type": "code",
   "execution_count": null,
   "outputs": [],
   "source": [
    "my_table = [[1, 2, 3], [4, 5, 6], [7, 8, 9]]\n",
    "\n",
    "# to show that it can represent a table:\n",
    "\n",
    "my_table =  [[1, 2, 3],\n",
    "             [4, 5, 6],\n",
    "             [7, 8, 9]]\n",
    "\n",
    "print(my_table)"
   ],
   "metadata": {
    "collapsed": false,
    "pycharm": {
     "name": "#%%\n"
    }
   }
  },
  {
   "cell_type": "markdown",
   "source": [
    "We will save how to access values from the table or any collection to the indexing_en_slicing Notebook"
   ],
   "metadata": {
    "collapsed": false,
    "pycharm": {
     "name": "#%% md\n"
    }
   }
  },
  {
   "cell_type": "markdown",
   "source": [
    "# Tuples\n",
    "Tuples are like lists, but they are immutable. Hence, they contain fewer methods compared to lists (like `update()`, `remove()`, etc.)\n",
    "\n",
    "Tuples are created using parentheses `()` instead of square brackets `[]`"
   ],
   "metadata": {
    "collapsed": false,
    "pycharm": {
     "name": "#%% md\n"
    }
   }
  },
  {
   "cell_type": "code",
   "execution_count": null,
   "outputs": [],
   "source": [
    "bases = ('A', 'T', 'C', 'G')\n",
    "print(bases)\n",
    "\n",
    "# special case is when you want to create a tuple with one element\n",
    "tuple_holding_one = ('bla',) # note the single comma at the end?\n",
    "\n",
    "# to show you what would have happened if we omitted the comma\n",
    "another_tuple_holding_one = ('bla')\n",
    "\n",
    "# we can check the type of the variables using the type() function\n",
    "print(type(tuple_holding_one)) # shows class tuple\n",
    "print(type(another_tuple_holding_one)) # not a tuple! a string\n"
   ],
   "metadata": {
    "collapsed": false,
    "pycharm": {
     "name": "#%%\n"
    }
   }
  },
  {
   "cell_type": "markdown",
   "source": [
    "Many people starting Python programming have a bit of trouble with understanding why tuples exist when list can do the same and even more. It all has to do with the immutable nature of the tuple.\n",
    "\n",
    "A use case might be for example: Keeping data integrity. There are only 20 different aminoacids in humans, no more no less. Storing them in a tuple is a good idea. If you work with many people in a project, you will be sure that nobody will be able to change it.\n",
    "\n"
   ],
   "metadata": {
    "collapsed": false,
    "pycharm": {
     "name": "#%% md\n"
    }
   }
  }
 ],
 "metadata": {
  "kernelspec": {
   "display_name": "Python 3",
   "language": "python",
   "name": "python3"
  },
  "language_info": {
   "codemirror_mode": {
    "name": "ipython",
    "version": 2
   },
   "file_extension": ".py",
   "mimetype": "text/x-python",
   "name": "python",
   "nbconvert_exporter": "python",
   "pygments_lexer": "ipython2",
   "version": "2.7.6"
  }
 },
 "nbformat": 4,
 "nbformat_minor": 0
}