{
 "cells": [
  {
   "cell_type": "markdown",
   "source": [
    "<img src=\"https://static1.squarespace.com/static/609509792278787105a2228b/t/60b5fbfad7e69c46077230a9/1622539258496/Hanze_Cirkel.png\" style=\"float:right; padding:10px;\" width=\"15%\" height=\"15%\" />\n",
    "\n",
    "# Moleculaire biologie in code (MOLBIOINCODE)\n",
    "\n",
    "## Voorbereidende opdrachten Fase 1\n",
    "\n",
    "Welkom bij de eerste stap met het kennismaken met de Python programmeertaal. In dit notebook kun je een veeltal aan oefenopdrachten vinden die je voorbereiden op het maken van de drie verplichte tussenopdrachten uit fase 1. De verplichte opdrachten kun je in een apart notebook vinden.\n",
    "\n",
    "Je kunt de oefenopdrachten hieronder op twee manieren uitvoeren.\n",
    "\n",
    "1. Je kunt je oplossing in dit notebook invoeren door je code in te typen in de code-cel die je aantreft onder de omschrijving van elke opdracht. Je kunt zo'n code-cel uitvoeren door erin te gaan staan en op `<CTRL>+<ENTER>` te drukken (of `<SHIFT>+<ENTER>` om meteen door te gaan naar de volgende cel). De uitvoer van je code wordt onder de cel getoond.\n",
    "\n",
    "2. Je kunt met een code-editor naar keuze in dezelfde folder als dit notebook een script-bestand aanmaken met een naam als `opdracht_1.1.1.py`. Je kunt dit rechtstreeks vanuit je code-editor uitvoeren, of door in een terminal te typen `python3 opdracht_1.1.1.py`, of door in de code-cel onder de opdrachtomschrijving te typen `%run opdracht_1.1.1.py`.\n",
    "\n",
    "<div class=\"alert alert-info\">\n",
    "    \n",
    "**Merk op:** De inhoud van variabelen wordt onthouden en blijft bewaard als je achtereenvolgens cellen in dit notebook runt, totdat je het notebook afsluit en weer opnieuw opent. Wanneer je een script in de editor of terminal uitvoert begin je altijd met een leeg geheugen.\n",
    "    \n",
    "</div>"
   ],
   "metadata": {
    "collapsed": false,
    "pycharm": {
     "name": "#%% md\n"
    }
   }
  },
  {
   "cell_type": "markdown",
   "source": [
    "### Inhoud\n",
    "\n",
    "Hieronder is aangegeven welke onderwerpen per tussenopdracht aan bod komen. Je kunt op een onderwerp klikken om naar een serie voorbereidende opdrachten te worden geleid die in niveau oplopen. We raden je aan om bij elk onderwerp tot minimaal niveau 2 te komen.\n",
    "\n",
    "- Tussenopdracht 1:\n",
    "    1. [int/float/string](#1.1.-int/float/string)\n",
    "    2. [rekenen](#1.2.-Rekenen)\n",
    "    3. [string en methoden: upper, find replace](#1.3.-String-en-methoden:-.upper(),-.find(),-.replace())\n",
    "- Tussenopdracht 2:\n",
    "    1. [lijsten en tuples](#2.1.-Lijsten-en-tuples)\n",
    "    2. [indexing en slicing](#2.2.-Indexing-en-Slicing)\n",
    "    3. [for-loop](#2.3.-For-loop)\n",
    "    4. [range](#2.4.-Range)\n",
    "    5. [booleans, comparison operatoren en conditional operatoren](#2.5.-Booleans,-comparison-operators-en-conditional-operators)\n",
    "    6. [if](#2.6.-If)\n",
    "    7. [while](#2.7.-While)\n",
    "- Tussenopdracht 3:\n",
    "    1. [dict](#3.1.-Dict)\n",
    "    2. [set](#3.2.-Set)\n",
    "    3. [in operator](#3.3.-In-operator)\n",
    "    4. [functies](#3.4.-Functies)\n",
    "    5. [input en output (IO)](#3.5.-Input-en-Output-(IO))"
   ],
   "metadata": {
    "collapsed": false,
    "pycharm": {
     "name": "#%% md\n"
    }
   }
  },
  {
   "cell_type": "markdown",
   "source": [
    "***\n",
    "\n",
    "<i><small>Terug naar de [inhoud](#Inhoud).</small><i>\n",
    "\n",
    "## 1.1. int/float/string"
   ],
   "metadata": {
    "collapsed": false,
    "pycharm": {
     "name": "#%% md\n"
    }
   }
  },
  {
   "cell_type": "markdown",
   "source": [
    "### Opdracht 1.1.1\n",
    "\n",
    "*Niveau: 1*\n",
    "\n",
    "Definieer twee variabelen `my_first_name` en `my_last_name` en vul deze met je eigen voor- en achternaam. Print de inhoud van deze variabelen onder elkaar op het scherm.\n",
    "\n",
    "Zoek met behulp van `help(print)` op hoe je meerdere stukjes tekst aan print kunt meegeven en print daarna de string `'Hoi'` gevolgd door de inhoud van `my_first_name`.\n",
    "\n",
    "Print nu naar het scherm de string `Hello world, my name is: ` gevolgd door je volledige naam zoals die opgeslagen zit in `my_first_name` en `my_last_name`.\n",
    "\n",
    "Tenslotte: kun je hetzelfde nog een keer doen, maar nu met underscores (\"_\") tussen de onderdelen? Maak hiervoor weer gebruik van de `help()` functie en zoek of je een scheidingsteken kunt gebruiken."
   ],
   "metadata": {
    "collapsed": false,
    "pycharm": {
     "name": "#%% md\n"
    }
   }
  },
  {
   "cell_type": "code",
   "execution_count": null,
   "outputs": [],
   "source": [],
   "metadata": {
    "collapsed": false,
    "pycharm": {
     "name": "#%%\n"
    }
   }
  },
  {
   "cell_type": "markdown",
   "source": [
    "### Opdracht 1.1.2\n",
    "\n",
    "*Niveau: 1*\n",
    "\n",
    "Definieer drie integer variabelen `x`, `y` en `z` met zelf gekozen positieve en negatieve gehele getallen.\n",
    "\n",
    "Verzin daarna zelf drie variabele namen gevuld met de floating-point kommagetallen `1.0`, `3.14`, en `1.82e307`.\n",
    "\n",
    "Print het type voor de 6 bovenstaande variabelen samen met de tekst: `\"The type of <variabele> is <type>\"`. Het deel tussen `<>` moet door jouw programma worden bepaald. Zo zou je bv voor de eerste variabele moeten printen:\n",
    "\n",
    "```\n",
    "The type of 42 is <class 'int'>\n",
    "```\n",
    "\n",
    "als de waarde van `x` 42 was.\n",
    "\n",
    "Kun je het programma nu zo aanpassen dat je de stukjes tekst ook opslaat in variabelen en deze in je print statement gebruikt, i.p.v. de tekst telkens uitschrijven? (Je zou zelfs alle zes de tekstregels in één nieuwe variabele kunnen opslaan, en daar de inhoud van tonen.) Probeer dat hieronder uit."
   ],
   "metadata": {
    "collapsed": false,
    "pycharm": {
     "name": "#%% md\n"
    }
   }
  },
  {
   "cell_type": "code",
   "execution_count": null,
   "outputs": [],
   "source": [],
   "metadata": {
    "collapsed": false,
    "pycharm": {
     "name": "#%%\n"
    }
   }
  },
  {
   "cell_type": "markdown",
   "source": [
    "### Opdracht 1.1.3\n",
    "\n",
    "*Niveau: 2*\n",
    "\n",
    "Schrijf een programma dat de onderstaande ASCII-art weergeeft:\n",
    "\n",
    "```\n",
    " __\n",
    "|  \\   |\\ |    /\\\n",
    "|__/   | \\|   /--\\\n",
    "```\n",
    "\n",
    "Tip: om een \"\\\" te printen moet je het karakter eerst escapen met een \"\\\", dus \"\\\\\"."
   ],
   "metadata": {
    "collapsed": false,
    "pycharm": {
     "name": "#%% md\n"
    }
   }
  },
  {
   "cell_type": "code",
   "execution_count": null,
   "outputs": [],
   "source": [],
   "metadata": {
    "collapsed": false,
    "pycharm": {
     "name": "#%%\n"
    }
   }
  },
  {
   "cell_type": "markdown",
   "source": [
    "### Opdracht 1.1.4\n",
    "\n",
    "*Niveau: 2*\n",
    "\n",
    "Zet de volgende variabelen om naar het type wat er boven staat en sla deze op in een nieuwe variabele. Print telkens de waarde plus het type.\n",
    "\n",
    "**Integer**\n",
    "\n",
    "`x = 1`\n",
    "\n",
    "`y = 5.5`\n",
    "\n",
    "`z = '3'`\n",
    "\n",
    "`w = 'four'`\n",
    "\n",
    "**Float**\n",
    "\n",
    "`a = 1`\n",
    "\n",
    "`b = 5.6`\n",
    "\n",
    "`c = -300`\n",
    "\n",
    "`d = '3'`\n",
    "\n",
    "`e = '3.14'`\n",
    "\n",
    "`f = 'vijf'`\n",
    "\n",
    "**String**\n",
    "\n",
    "`g = 1.2e10`\n",
    "\n",
    "`h = 2`\n",
    "\n",
    "`i = '3'`\n",
    "\n",
    "Wat gebeurt er als je een float zoals het getal $\\pi$ tot 4 cijfers achter de komma opslaat, deze cast naar een `int`, en daarna weer terug naar een `float`? Print het resultaat van de laatste stap naar het scherm en verklaar je antwoord."
   ],
   "metadata": {
    "collapsed": false,
    "pycharm": {
     "name": "#%% md\n"
    }
   }
  },
  {
   "cell_type": "code",
   "execution_count": null,
   "outputs": [],
   "source": [],
   "metadata": {
    "collapsed": false,
    "pycharm": {
     "name": "#%%\n"
    }
   }
  },
  {
   "cell_type": "markdown",
   "source": [
    "### Opdracht 1.1.5\n",
    "\n",
    "*Niveau: 3*\n",
    "\n",
    "Kun je vinden wat de maximale waarde is die je kunt opslaan in een `int`, `string` of `float`? Hiervoor kun je internet gebruiken of de `sys` library.\n",
    "\n",
    "Om de maximale lengte van een string te krijgen in bytes kun je `sys.maxsize` gebruiken. Print deze hieronder.\n",
    "\n",
    "Wat is de implicatie van deze grootte? Hoeveel tekens passen er in 1 string? Hoeveel ruimte zou een humaan genoom innemen? Hoeveel humane genomen zou je kunnen opslaan?\n",
    "\n",
    "Wat is de grootst mogelijke float waarde, en wat is de kleinst mogelijke? Hiervoor kun je `sys.float_info.max` en `sys.float_info.min` opzoeken. Print ook deze hieronder. Wat gebeurt er als je een getal opslaat dat groter/kleiner is dan de max/min?\n",
    "\n",
    "Wat is het type van dat nog grotere/kleinere getal?"
   ],
   "metadata": {
    "collapsed": false,
    "pycharm": {
     "name": "#%% md\n"
    }
   }
  },
  {
   "cell_type": "code",
   "execution_count": null,
   "outputs": [],
   "source": [],
   "metadata": {
    "collapsed": false,
    "pycharm": {
     "name": "#%%\n"
    }
   }
  },
  {
   "cell_type": "markdown",
   "source": [
    "***\n",
    "\n",
    "<i><small>Terug naar de [inhoud](#Inhoud).</small><i>\n",
    "\n",
    "## 1.2. Rekenen"
   ],
   "metadata": {
    "collapsed": false,
    "pycharm": {
     "name": "#%% md\n"
    }
   }
  },
  {
   "cell_type": "markdown",
   "source": [
    "### Opdracht 1.2.1\n",
    "\n",
    "*Niveau: 1*\n",
    "\n",
    "Gegeven een getal dat door de gebruiker wordt gegeven, print de structuurformule van het bijbehorende alkaan (horizontaal). Bijvoorbeeld:\n",
    "\n",
    "```\n",
    "> N? 3\n",
    "\n",
    "    H   H   H\n",
    "    |   |   |\n",
    "H – C – C – C – H\n",
    "    |   |   |\n",
    "    H   H   H\n",
    "```"
   ],
   "metadata": {
    "collapsed": false,
    "pycharm": {
     "name": "#%% md\n"
    }
   }
  },
  {
   "cell_type": "code",
   "execution_count": null,
   "outputs": [],
   "source": [],
   "metadata": {
    "collapsed": false,
    "pycharm": {
     "name": "#%%\n"
    }
   }
  },
  {
   "cell_type": "markdown",
   "source": [
    "### Opdracht 1.2.2\n",
    "\n",
    "*Niveau: 2*\n",
    "\n",
    "Definieer een variabele `x` en sla daarin de uitkomst van 0.1 * 10 op. Definieer een tweede variabele `y` en tel daar tien keer 0.1 bij elkaar op tot je 1 krijgt. Doe dit zonder gebruik te maken van multiplicatie, maar gebruik hier additie.\n",
    "\n",
    "Trek deze twee waarden van elkaar af. Denk na over het antwoord voordat je het uitprint.\n",
    "\n",
    "Kun je ontdekken waarom je het antwoord krijgt dat je geprint hebt? (Zie ook de [python tutorial](https://docs.python.org/3/tutorial/floatingpoint.html).)"
   ],
   "metadata": {
    "collapsed": false,
    "pycharm": {
     "name": "#%% md\n"
    }
   }
  },
  {
   "cell_type": "code",
   "execution_count": null,
   "outputs": [],
   "source": [],
   "metadata": {
    "collapsed": false,
    "pycharm": {
     "name": "#%%\n"
    }
   }
  },
  {
   "cell_type": "markdown",
   "source": [
    "### Opdracht 1.2.3\n",
    "\n",
    "*Niveau: 3*\n",
    "\n",
    "Maak de onderstaande berekening kloppend door gebruik te maken van de [operator voorrang regels](https://docs.python.org/3/reference/expressions.html#operator-precedence) of krijg hulp door de `help()` te gebruiken op één van de operatoren. Maak de vergelijking kloppend door ronde haakjes toe te voegen. Print het antwoord naar het scherm om het te controleren.\n",
    "\n",
    "```\n",
    "10 - 7 // 2 * 3 + 1 = 2\n",
    "45 % 10 / 2 = 1\n",
    "27 * 2 + 46 ** 0.5 = 10\n",
    "5 * 2 // 3 = 3\n",
    "5 * 2 // 3 = 0\n",
    "6 + 4 * 2 - 10 // 2 - 4 * 2 = -3\n",
    "2 ** 3 ** 2 = 512\n",
    "2 ** 3 ** 2 = 64\n",
    "5 + 3 * 2 ** 2 = 32\n",
    "```\n",
    "\n",
    "Verklaar de onderstaande vergelijkingen. Snap je hoe de operator werkt?\n",
    "\n",
    "```python\n",
    "print(10 // 3)\n",
    "print(10 // -3)\n",
    "print(9 // 2)\n",
    "print(9 // -2)\n",
    "print(7 % 4)\n",
    "print(7 % -4)\n",
    "```\n",
    "\n",
    "Schrijf de vergelijking hieronder uit in de losse stappen.\n",
    "\n",
    "```python\n",
    "a = 7\n",
    "b = -4\n",
    "remainder = a - (b * (a // b))\n",
    "```"
   ],
   "metadata": {
    "collapsed": false,
    "pycharm": {
     "name": "#%% md\n"
    }
   }
  },
  {
   "cell_type": "code",
   "execution_count": null,
   "outputs": [],
   "source": [],
   "metadata": {
    "collapsed": false,
    "pycharm": {
     "name": "#%%\n"
    }
   }
  },
  {
   "cell_type": "markdown",
   "source": [
    "***\n",
    "\n",
    "<i><small>Terug naar de [inhoud](#Inhoud).</small><i>\n",
    "\n",
    "## 1.3. String en methoden: .upper(), .find(), .replace()"
   ],
   "metadata": {
    "collapsed": false,
    "pycharm": {
     "name": "#%% md\n"
    }
   }
  },
  {
   "cell_type": "markdown",
   "source": [
    "### Opdracht 1.3.1\n",
    "\n",
    "*Niveau: 1*\n",
    "\n",
    "Maak een programma dat DNA vertaald naar RNA (T -> U). Definieer een variabele waarin je zelf een DNA sequentie opslaat (DNA bevat alleen A, C, T, G). Gebruik je juiste string methode om elke T in de DNA sequentie te vervangen door een U.\n",
    "\n",
    "Tip: gebruik `dir(str)` om alle methoden te bekijken die een string heeft. Met `help(str)` krijg je meer informatie over het gebruik van elke methode. Je kunt specifieker help krijgen door `help(str.method)` te doen, vervang uiteraard de method door de naam van de methode waarin je geïnteresseerd bent."
   ],
   "metadata": {
    "collapsed": false,
    "pycharm": {
     "name": "#%% md\n"
    }
   }
  },
  {
   "cell_type": "code",
   "execution_count": null,
   "outputs": [],
   "source": [],
   "metadata": {
    "collapsed": false,
    "pycharm": {
     "name": "#%%\n"
    }
   }
  },
  {
   "cell_type": "markdown",
   "source": [
    "### Opdracht 1.3.2\n",
    "\n",
    "*Niveau: 1*\n",
    "\n",
    "Verwijder de spaties uit de onderstaande string en print de sequentie met alleen maar hoofdletters.\n",
    "\n",
    "```python\n",
    "dna = 'gggtgcgacg attcattgtt ttcggacaag tggataggca accactaccg gtggattgtc'\n",
    "```\n",
    "\n",
    "Tip: gebruik `dir(str)` om alle methoden te bekijken die een string heeft. Met `help(str)` krijg je meer informatie over het gebruik van elke methode."
   ],
   "metadata": {
    "collapsed": false,
    "pycharm": {
     "name": "#%% md\n"
    }
   }
  },
  {
   "cell_type": "code",
   "execution_count": null,
   "outputs": [],
   "source": [],
   "metadata": {
    "collapsed": false,
    "pycharm": {
     "name": "#%%\n"
    }
   }
  },
  {
   "cell_type": "markdown",
   "source": [
    "### Opdracht 1.3.3\n",
    "\n",
    "*Niveau: 1*\n",
    "\n",
    "Schrijf een programma dat het GC-ratio van een sequentie berekent. Bijvoorbeeld:\n",
    "\n",
    "```\n",
    "> Sequentie? ACCTTG\n",
    "\n",
    "50.0 %\n",
    "```"
   ],
   "metadata": {
    "collapsed": false,
    "pycharm": {
     "name": "#%% md\n"
    }
   }
  },
  {
   "cell_type": "code",
   "execution_count": null,
   "outputs": [],
   "source": [],
   "metadata": {
    "collapsed": false,
    "pycharm": {
     "name": "#%%\n"
    }
   }
  },
  {
   "cell_type": "markdown",
   "source": [
    "### Opdracht 1.3.4\n",
    "\n",
    "*Niveau: 2*\n",
    "\n",
    "Maak een programma dat de relatieve voorkomens van de nucleotiden print. Verwachte output is: `20 18 29 25`."
   ],
   "metadata": {
    "collapsed": false,
    "pycharm": {
     "name": "#%% md\n"
    }
   }
  },
  {
   "cell_type": "code",
   "execution_count": null,
   "outputs": [],
   "source": [],
   "metadata": {
    "collapsed": false,
    "pycharm": {
     "name": "#%%\n"
    }
   }
  },
  {
   "cell_type": "markdown",
   "source": [
    "### Opdracht 1.3.5\n",
    "\n",
    "*Niveau: 3*\n",
    "\n",
    "Zoek een string methode die je instaat stelt om een string te formatten.\n",
    "\n",
    "In opdracht 1.1.1 heb je strings samengevoegd in een print statement. Kun je de uitkomst reproduceren, maar nu gebruik makend van de nieuwe gevonden methode?\n",
    "\n",
    "Argumenten kunnen hergebruikt worden door te verwijzen naar een nummer (positioneel startend vanaf 0). Kun je uitvinden hoe je de string `'hallo ronald, dag ronald'` kunt maken zonder de naam 2 keer te hoeven meegeven als argument?\n",
    "\n",
    "Kun je uitvinden hoe je:\n",
    "\n",
    "- een string centreert in een veld van 100 tekens lang\n",
    "\n",
    "- een string centreert in een veld van 100 tekens lang en uitvult aan de zijkanten met een asterisk (\"*\")\n",
    "\n",
    "- in een getal het duizendtalteken toevoegd, zoals in `1.000.000.000`\n",
    "\n",
    "- een deling laat zien als percentage op 2 decimalen nauwkeurig\n",
    "\n",
    "Zie hiervoor ook de [python documentatie](https://docs.python.org/3/library/string.html#formatspec)."
   ],
   "metadata": {
    "collapsed": false,
    "pycharm": {
     "name": "#%% md\n"
    }
   }
  },
  {
   "cell_type": "code",
   "execution_count": null,
   "outputs": [],
   "source": [],
   "metadata": {
    "collapsed": false,
    "pycharm": {
     "name": "#%%\n"
    }
   }
  },
  {
   "cell_type": "markdown",
   "source": [
    "***\n",
    "\n",
    "<i><small>Terug naar de [inhoud](#Inhoud).</small><i>\n",
    "\n",
    "## 2.1. Lijsten en tuples"
   ],
   "metadata": {
    "collapsed": false,
    "pycharm": {
     "name": "#%% md\n"
    }
   }
  },
  {
   "cell_type": "markdown",
   "source": [
    "### Opdracht 2.1.1\n",
    "\n",
    "*Niveau: 1*\n",
    "\n",
    "Defineer een tuple met daarin 3 elementen en print het type. Kun je methoden vinden waarmee je elementen aan een tuple kunt toevoegen? Wat valt op als je de methoden van list en tuple vergelijkt?\n",
    "\n",
    "Tip: gebruik `dir()` en `help()`\n"
   ],
   "metadata": {
    "collapsed": false,
    "pycharm": {
     "name": "#%% md\n"
    }
   }
  },
  {
   "cell_type": "code",
   "execution_count": null,
   "outputs": [],
   "source": [],
   "metadata": {
    "collapsed": false,
    "pycharm": {
     "name": "#%%\n"
    }
   }
  },
  {
   "cell_type": "markdown",
   "source": [
    "### Opdracht 2.1.2\n",
    "\n",
    "*Niveau: 1*\n",
    "    \n",
    "Defineer 3 verschillende lijsten en wijs ze toe aan verschillende variabelen\n",
    "\n",
    "- 1 lijst moet getallen bevatten\n",
    "\n",
    "- 1 lijst bevat losse lettertekens\n",
    "\n",
    "- 1 lijst bevat 3 andere lijsten (inhoud van die lijsten is vrij)\n",
    "\n",
    "Voeg deze lijsten nu samen en wijs het resultaat toe aan een nieuwe variabele. Print het resultaat."
   ],
   "metadata": {
    "collapsed": false,
    "pycharm": {
     "name": "#%% md\n"
    }
   }
  },
  {
   "cell_type": "code",
   "execution_count": null,
   "outputs": [],
   "source": [],
   "metadata": {
    "collapsed": false,
    "pycharm": {
     "name": "#%%\n"
    }
   }
  },
  {
   "cell_type": "markdown",
   "source": [
    "### Opdracht 2.1.3\n",
    "\n",
    "*Niveau: 2*\n",
    "    \n",
    "Er zijn verschillende manieren om tuples te maken. Probeer achtereenvolgens om:\n",
    "\n",
    "- een tuple te maken met 3 elementen, gebruik `()`\n",
    "\n",
    "- een tuple met 3 elementen, gebruik `tuple()`\n",
    "\n",
    "- een tuple te maken met maar 1 element, hint doe dit eerst eens met `tuple()` met een letterteken\n",
    "\n",
    "- een tuple te maken zonder `()` of `tuple()`\n",
    "\n",
    "Wijs telkens de gemaakte tuple toe aan een variabele en controleer het resultaat door de gemaakte tuple en ook het type te printen."
   ],
   "metadata": {
    "collapsed": false,
    "pycharm": {
     "name": "#%% md\n"
    }
   }
  },
  {
   "cell_type": "code",
   "execution_count": null,
   "outputs": [],
   "source": [],
   "metadata": {
    "collapsed": false,
    "pycharm": {
     "name": "#%%\n"
    }
   }
  },
  {
   "cell_type": "markdown",
   "source": [
    "### Opdracht 2.1.4\n",
    "\n",
    "*Niveau: 2*\n",
    "    \n",
    "Sorteer de onderstaande lijst van hoog naar laag en ook een keer van laag naar hoog en print deze.\n",
    "\n",
    "```python\n",
    "numbers = [21, 13, 0, -3.1, 21, 33, 2]\n",
    "```\n",
    "\n",
    "Kijk eerst welke methoden een lijst allemaal hebben en vraag de help op van de methode waarvan jij denkt dat hij je kan helpen."
   ],
   "metadata": {
    "collapsed": false,
    "pycharm": {
     "name": "#%% md\n"
    }
   }
  },
  {
   "cell_type": "code",
   "execution_count": null,
   "outputs": [],
   "source": [],
   "metadata": {
    "collapsed": false,
    "pycharm": {
     "name": "#%%\n"
    }
   }
  },
  {
   "cell_type": "markdown",
   "source": [
    "### Opdracht 2.1.5\n",
    "\n",
    "*Niveau: 2*\n",
    "\n",
    "Definieer een lijst `a` en vul deze met wat random getallen. Maak een kopie van deze lijst door hem aan een nieuwe variable `b` toe te wijzen. Laat zien dat de inhoud hetzelfde is door ze beide te printen.\n",
    "\n",
    "Voeg nu met behulp van de `append()` methode een getal toe aan de `b` lijst. Print weer de inhoud van beide lijsten, wat valt je op? Kun je uitvinden wat hier aan de hand is en hoe je het gewenste gedrag wel zou kunnen krijgen?\n",
    "\n",
    "Tip zoek met `dir()` en `help()` in de lijst methoden."
   ],
   "metadata": {
    "collapsed": false,
    "pycharm": {
     "name": "#%% md\n"
    }
   }
  },
  {
   "cell_type": "code",
   "execution_count": null,
   "outputs": [],
   "source": [],
   "metadata": {
    "collapsed": false,
    "pycharm": {
     "name": "#%%\n"
    }
   }
  },
  {
   "cell_type": "markdown",
   "source": [
    "### Opdracht 2.1.6\n",
    "\n",
    "*Niveau: 3*\n",
    "    \n",
    "Menselijk DNA heeft ongeveer 29% A en 21% C. Maak een programma dat een sequentie van 10 nucleotiden lang met deze samenstelling kan maken.\n",
    "\n",
    "Tip 1: gebruik hiervoor de `random` module die je kunt importeren met `import random`.\n",
    "\n",
    "Tip 2: kijk naar de `choices()` methode van `random`."
   ],
   "metadata": {
    "collapsed": false,
    "pycharm": {
     "name": "#%% md\n"
    }
   }
  },
  {
   "cell_type": "code",
   "execution_count": null,
   "outputs": [],
   "source": [],
   "metadata": {
    "collapsed": false,
    "pycharm": {
     "name": "#%%\n"
    }
   }
  },
  {
   "cell_type": "markdown",
   "source": [
    "***\n",
    "\n",
    "<i><small>Terug naar de [inhoud](#Inhoud).</small><i>\n",
    "\n",
    "## 2.2. Indexing en Slicing"
   ],
   "metadata": {
    "collapsed": false,
    "pycharm": {
     "name": "#%% md\n"
    }
   }
  },
  {
   "cell_type": "markdown",
   "source": [
    "### Opdracht 2.2.1\n",
    "\n",
    "*Niveau: 1*\n",
    "    \n",
    "Maak een sequentie van 30 characters en sla deze op in een variabele. Kun je nu de volgende operaties uitvoeren op deze string:\n",
    "\n",
    "- print de character op positie 3\n",
    "\n",
    "- print de character op de 3 na laatste positie\n",
    "\n",
    "- print de eerste 4 characters\n",
    "\n",
    "- print de laatste 5 characters\n",
    "\n",
    "- print elke 3de character van het begin tot het eind\n",
    "\n",
    "- print de characters achterstevoren\n",
    "\n",
    "- print alles behalve de laatste twee\n",
    "\n",
    "Bonus:\n",
    "\n",
    "- print de eerste 2 character achterstevoren\n",
    "\n",
    "- print de laatste twee characters achterstevoren\n",
    "\n",
    "- print alles achterstevoren behalve de laatste twee"
   ],
   "metadata": {
    "collapsed": false,
    "pycharm": {
     "name": "#%% md\n"
    }
   }
  },
  {
   "cell_type": "code",
   "execution_count": null,
   "outputs": [],
   "source": [],
   "metadata": {
    "collapsed": false,
    "pycharm": {
     "name": "#%%\n"
    }
   }
  },
  {
   "cell_type": "markdown",
   "source": [
    "### Opdracht 2.2.2\n",
    "\n",
    "*Niveau: 2*\n",
    "\n",
    "Print het aantal nucleotiden dat tussen het eerste en laatste motief `AGAG` zit. De input sequentie moet kunnen bestaan uit een combinatie van hoofdletters en/of kleine letters."
   ],
   "metadata": {
    "collapsed": false,
    "pycharm": {
     "name": "#%% md\n"
    }
   }
  },
  {
   "cell_type": "code",
   "execution_count": null,
   "outputs": [],
   "source": [],
   "metadata": {
    "collapsed": false,
    "pycharm": {
     "name": "#%%\n"
    }
   }
  },
  {
   "cell_type": "markdown",
   "source": [
    "### Opdracht 2.2.3\n",
    "\n",
    "*Niveau: 3*\n",
    "\n",
    "Gegeven is een string van een willekeurige lengte met een aminozuursequentie. Bijvoorbeeld:\n",
    "\n",
    "```python\n",
    "sequence = (\n",
    "'MDLSALRVEEVQNVINAMQKILECPICLELIKEPVSTKCDHIFCKFCMLKLLNQKKGPSQCPLCKNDITK'\n",
    "'AQSPAAAHTTDTAGYNAMEESVSREKPELTASTERVNKRMSMVVSGLTPEEFMLVYKFARKHHITLTNLI'\n",
    "'TEETTHVVMKTDAEFVCERTLKYFLGIAGGKWVVSYFWVTQSIKERKMLNEHDFEVRGDVVNGRNHQGPK'\n",
    "'RARESQDRKIFRGLEICCYGPFTNMPTDQLEWMVQLCGASVVKELSSFTLGTGVHPIVVVQPDAWTEDNG'\n",
    "'FHAIGQMCEAPVVTREWVLDSVALYQCQELDTYLIPQIPHSHY'\n",
    ")\n",
    "print(sequence)\n",
    "```\n",
    "\n",
    "Creëer een nieuwe string waarin de aminozuren op *even* posities zijn omgekeerd in volgorde; de aminozuren op *oneven* posities dienen op dezelfde plek te blijven staan. Zo zou een string `'ABCDEFG'` worden omgezet in `'AFCDEBG'`."
   ],
   "metadata": {
    "collapsed": false,
    "pycharm": {
     "name": "#%% md\n"
    }
   }
  },
  {
   "cell_type": "code",
   "execution_count": null,
   "outputs": [],
   "source": [],
   "metadata": {
    "collapsed": false,
    "pycharm": {
     "name": "#%%\n"
    }
   }
  },
  {
   "cell_type": "markdown",
   "source": [
    "***\n",
    "\n",
    "<i><small>Terug naar de [inhoud](#Inhoud).</small><i>\n",
    "\n",
    "## 2.3. For-loop"
   ],
   "metadata": {
    "collapsed": false,
    "pycharm": {
     "name": "#%% md\n"
    }
   }
  },
  {
   "cell_type": "markdown",
   "source": [
    "### Opdracht 2.3.1\n",
    "\n",
    "*Niveau: 1*\n",
    "\n",
    "Maak een variabele waarin je je naam opslaat. Print de letters uit je naam één voor één op het scherm.\n",
    "\n",
    "Maak een lijst en sla daarin een aantal namen uit je klas op. Print elke naam los op het scherm.\n",
    "\n",
    "Bonus: zelfde als hierboven, maar kun je nu ook alle letters uit elke naam los printen; print tussen elke naam even de volledige naam en dan pas de losse letters"
   ],
   "metadata": {
    "collapsed": false,
    "pycharm": {
     "name": "#%% md\n"
    }
   }
  },
  {
   "cell_type": "code",
   "execution_count": null,
   "outputs": [],
   "source": [],
   "metadata": {
    "collapsed": false,
    "pycharm": {
     "name": "#%%\n"
    }
   }
  },
  {
   "cell_type": "markdown",
   "source": [
    "### Opdracht 2.3.2\n",
    "\n",
    "*Niveau: 2*\n",
    "\n",
    "Gebruik zoveel for loops als nodig zijn om alle 64 codons te printen."
   ],
   "metadata": {
    "collapsed": false,
    "pycharm": {
     "name": "#%% md\n"
    }
   }
  },
  {
   "cell_type": "code",
   "execution_count": null,
   "outputs": [],
   "source": [],
   "metadata": {
    "collapsed": false,
    "pycharm": {
     "name": "#%%\n"
    }
   }
  },
  {
   "cell_type": "markdown",
   "source": [
    "### Opdracht 2.3.3\n",
    "\n",
    "*Niveau: 3*\n",
    "\n",
    "De driehoek van Pascal.\n",
    "\n",
    "```\n",
    "A:     1\n",
    "B:    1 1\n",
    "C:   1 2 1\n",
    "D:  1 3 3 1\n",
    "E: 1 4 6 4 1\n",
    "   ...etc...\n",
    "```\n",
    "\n",
    "De driehoek van Pascal is een magische en dus een zeer bijzondere driehoek. Deze driehoek is niet een echte driehoek, maar een piramide van getallen. Je begint met het getal 1. Deze zet je in de 1e rij. Daaronder in de 2e rij zet je ook 2 enen. Op de 3e rij zet je de som van de getallen die erboven staan. Zo is bijvoorbeeld de 6 in de vijfde rij de som van 3 + 3. En is de 10 in de zesde rij de som van 4 + 6. Op deze manier kun je de piramide opbouwen. Aan de randen van de rij zet je steeds een 1. Dus de linker- en rechterdiagonaal bevat allemaal enen.\n",
    "\n",
    "Zie [wiskunde.net](https://www.wiskunde.net/driehoek-van-pascal).\n",
    "\n",
    "Maak een programma dat de eerste tien rijen van de driehoek van Pascal berekent en op het scherm toont. Label de rijen met de letters A t/m J (ongeveer zoals geïllustreerd hierboven, maar je mag zelf een handige weergave kiezen)."
   ],
   "metadata": {
    "collapsed": false,
    "pycharm": {
     "name": "#%% md\n"
    }
   }
  },
  {
   "cell_type": "code",
   "execution_count": null,
   "outputs": [],
   "source": [],
   "metadata": {
    "collapsed": false,
    "pycharm": {
     "name": "#%%\n"
    }
   }
  },
  {
   "cell_type": "markdown",
   "source": [
    "***\n",
    "\n",
    "<i><small>Terug naar de [inhoud](#Inhoud).</small><i>\n",
    "\n",
    "## 2.4. Range"
   ],
   "metadata": {
    "collapsed": false,
    "pycharm": {
     "name": "#%% md\n"
    }
   }
  },
  {
   "cell_type": "markdown",
   "source": [
    "### Opdracht 2.4.1\n",
    "\n",
    "*Niveau: 1*\n",
    "\n",
    "Genereer een random sequentie van 1001 basen lang, gebruik de `random.randint()` functie van de `random` module om willekeurige basen te kiezen, zoals in het onderstaande voorbeeld.\n",
    "\n",
    "```python\n",
    "import random\n",
    "nucleotides = ['A', 'C', 'T', 'G']\n",
    "print(nucleotides[random.randint(0, 3)])\n",
    "```"
   ],
   "metadata": {
    "collapsed": false,
    "pycharm": {
     "name": "#%% md\n"
    }
   }
  },
  {
   "cell_type": "code",
   "execution_count": null,
   "outputs": [],
   "source": [],
   "metadata": {
    "collapsed": false,
    "pycharm": {
     "name": "#%%\n"
    }
   }
  },
  {
   "cell_type": "markdown",
   "source": [
    "### Opdracht 2.4.2\n",
    "\n",
    "*Niveau: 2*\n",
    "\n",
    "Maak een sequentie van 15 basen lang. Gebruik `range()` om door een sequentie heen te lopen en gebruik string slicing om alle codons eruit te halen."
   ],
   "metadata": {
    "collapsed": false,
    "pycharm": {
     "name": "#%% md\n"
    }
   }
  },
  {
   "cell_type": "code",
   "execution_count": null,
   "outputs": [],
   "source": [],
   "metadata": {
    "collapsed": false,
    "pycharm": {
     "name": "#%%\n"
    }
   }
  },
  {
   "cell_type": "markdown",
   "source": [
    "### Opdracht 2.4.3\n",
    "\n",
    "*Niveau: 2*\n",
    "\n",
    "Gebruik een combinatie van `range()` en slicing om de eerste en laatste 3 codons uit de sequentie hieronder te halen.\n",
    "\n",
    "```python\n",
    "g = 'gggtgcgacg attcattgtt ttcggacaag tggataggca accactaccg gtggattgtc'\n",
    "```"
   ],
   "metadata": {
    "collapsed": false,
    "pycharm": {
     "name": "#%% md\n"
    }
   }
  },
  {
   "cell_type": "code",
   "execution_count": null,
   "outputs": [],
   "source": [],
   "metadata": {
    "collapsed": false,
    "pycharm": {
     "name": "#%%\n"
    }
   }
  },
  {
   "cell_type": "markdown",
   "source": [
    "### Opdracht 2.4.4\n",
    "\n",
    "*Niveau: 3*\n",
    "\n",
    "Maak een lijst met 3 elementen en gebruik een `for` loop om elk element te printen. Kun je naast het printen van de waarde van elk element ook de index printen?\n",
    "\n",
    "Hetzelfde als hierboven, maar nu met gebruik van `range()` en de `len()` van de lijst.\n",
    "\n",
    "Python heeft hiervoor de ingebouwde enumerate() functie en die werkt als volgt:\n",
    "```python\n",
    "for index, waarde in enumerate(lijst):\n",
    "    print(index, waarde)\n",
    "```\n",
    "\n",
    "Pas bovenstaande syntax aan zodat je van de lijst met elementen naast de waarde van elk element ook de index print.\n",
    "\n",
    "Gebruik `enumerate` om een lijst met tuples te maken. Elke tuple moet als eerste waarde een index krijgen en als tweede de waarde uit je lijst. De index moet starten vanaf 1 en niet 0. Lees de enumerate `help()` hiervoor.\n",
    "\n",
    "Tip: je kunt een `enumerate` object naar een lijst omzetten"
   ],
   "metadata": {
    "collapsed": false,
    "pycharm": {
     "name": "#%% md\n"
    }
   }
  },
  {
   "cell_type": "code",
   "execution_count": null,
   "outputs": [],
   "source": [],
   "metadata": {
    "collapsed": false,
    "pycharm": {
     "name": "#%%\n"
    }
   }
  },
  {
   "cell_type": "markdown",
   "source": [
    "***\n",
    "\n",
    "<i><small>Terug naar de [inhoud](#Inhoud).</small><i>\n",
    "\n",
    "## 2.5. Booleans, comparison operators en conditional operators"
   ],
   "metadata": {
    "collapsed": false,
    "pycharm": {
     "name": "#%% md\n"
    }
   }
  },
  {
   "cell_type": "markdown",
   "source": [
    "### Opdracht 2.5.1\n",
    "\n",
    "*Niveau: 1*\n",
    "\n",
    "Maak een programma dat van elke letter in een DNA sequentie controleert of die letter een valide letter is. Valide letters zijn A, C, T, of G. Print de boolean waarde `True`/`False` van elke letter afhankelijk of die geldig/ongeldig is."
   ],
   "metadata": {
    "collapsed": false,
    "pycharm": {
     "name": "#%% md\n"
    }
   }
  },
  {
   "cell_type": "code",
   "execution_count": null,
   "outputs": [],
   "source": [],
   "metadata": {
    "collapsed": false,
    "pycharm": {
     "name": "#%%\n"
    }
   }
  },
  {
   "cell_type": "markdown",
   "source": [
    "### Opdracht 2.5.2\n",
    "\n",
    "*Niveau: 2*\n",
    "\n",
    "Gegeven is een lijst met gehele getallen. Maak een programma dat nagaat of alle getallen hetzelfde teken hebben: dat wil zeggen, ofwel alle getallen zijn positief, ofwel alle getallen zijn negatief (het getal nul mag in beide soorten lijsten voorkomen).\n",
    "\n",
    "Print `True` als alle getallen hetzelfde teken hebben, of `False` als dat niet het geval is.\n",
    "\n",
    "Bijvoorbeeld, voor:\n",
    "\n",
    "```python\n",
    "lijst = [-8, -1, -4, -2, 0, -3]\n",
    "```\n",
    "\n",
    "zou het resultaat `True` moeten zijn (want alle getallen zijn hier negatief, of nul)."
   ],
   "metadata": {
    "collapsed": false,
    "pycharm": {
     "name": "#%% md\n"
    }
   }
  },
  {
   "cell_type": "code",
   "execution_count": null,
   "outputs": [],
   "source": [],
   "metadata": {
    "collapsed": false,
    "pycharm": {
     "name": "#%%\n"
    }
   }
  },
  {
   "cell_type": "markdown",
   "source": [
    "### Opdracht 2.5.3\n",
    "\n",
    "*Niveau: 3*\n",
    "\n",
    "Schrijf een programma dat de waarde van $\\pi$ berekent door tweetal willekeurige getallen `x` en `y` te genereren tussen 0 en 1, en te kijken of de afstand van het punt $(x,y)$ tot de oorsprong $O(0,0)$ kleiner is dan 1."
   ],
   "metadata": {
    "collapsed": false,
    "pycharm": {
     "name": "#%% md\n"
    }
   }
  },
  {
   "cell_type": "code",
   "execution_count": null,
   "outputs": [],
   "source": [],
   "metadata": {
    "collapsed": false,
    "pycharm": {
     "name": "#%%\n"
    }
   }
  },
  {
   "cell_type": "markdown",
   "source": [
    "***\n",
    "\n",
    "<i><small>Terug naar de [inhoud](#Inhoud).</small><i>\n",
    "\n",
    "## 2.6. If"
   ],
   "metadata": {
    "collapsed": false,
    "pycharm": {
     "name": "#%% md\n"
    }
   }
  },
  {
   "cell_type": "markdown",
   "source": [
    "### Opdracht 2.6.1\n",
    "\n",
    "*Niveau: 1*\n",
    "\n",
    "Schrijf code die telt uit hoeveel even en oneven cijfers een geheel getal bestaat dat de gebruiker mag invoeren met de `input()` functie.\n",
    "\n",
    "Bijvoorbeeld:\n",
    "\n",
    "```\n",
    "> N? 123456789\n",
    "4 even, 5 oneven\n",
    "```"
   ],
   "metadata": {
    "collapsed": false,
    "pycharm": {
     "name": "#%% md\n"
    }
   }
  },
  {
   "cell_type": "code",
   "execution_count": null,
   "outputs": [],
   "source": [],
   "metadata": {
    "collapsed": false,
    "pycharm": {
     "name": "#%%\n"
    }
   }
  },
  {
   "cell_type": "markdown",
   "source": [
    "### Opdracht 2.6.2\n",
    "\n",
    "*Niveau: 1*\n",
    "\n",
    "Schrijf een programma dat een DNA sequentie opslaat en daar alle codons uithaalt. Sla de codons op in een lijst. Je programma moet ook om kunnen gaan met sequenties die geen meervoud van 3 zijn."
   ],
   "metadata": {
    "collapsed": false,
    "pycharm": {
     "name": "#%% md\n"
    }
   }
  },
  {
   "cell_type": "code",
   "execution_count": null,
   "outputs": [],
   "source": [],
   "metadata": {
    "collapsed": false,
    "pycharm": {
     "name": "#%%\n"
    }
   }
  },
  {
   "cell_type": "markdown",
   "source": [
    "### Opdracht 2.6.3\n",
    "\n",
    "*Niveau: 1*\n",
    "\n",
    "Schrijf een programma dat de gebruiker om 2 sequenties vraagt, 1 korter dan de andere. Laat het programma bepalen of de kortere sequentie ergens voorkomt in de langere.\n",
    "\n",
    "Tip: voor het opslaan wat iemand typed kun je `input()` gebruiken"
   ],
   "metadata": {
    "collapsed": false,
    "pycharm": {
     "name": "#%% md\n"
    }
   }
  },
  {
   "cell_type": "code",
   "execution_count": null,
   "outputs": [],
   "source": [],
   "metadata": {
    "collapsed": false,
    "pycharm": {
     "name": "#%%\n"
    }
   }
  },
  {
   "cell_type": "markdown",
   "source": [
    "### Opdracht 2.6.4\n",
    "\n",
    "*Niveau: 2*\n",
    "\n",
    "Schrijf een programma dat, gegeven de sequentie\n",
    "\n",
    "```python\n",
    "BRAC2_seq = \"gggtgcgacgattcattgttttcggacaag\"\n",
    "```\n",
    "\n",
    "een mutatie aanbrengt:\n",
    "\n",
    "- de 4de g -> a, en\n",
    "\n",
    "- de 4de t verwijdert"
   ],
   "metadata": {
    "collapsed": false,
    "pycharm": {
     "name": "#%% md\n"
    }
   }
  },
  {
   "cell_type": "code",
   "execution_count": null,
   "outputs": [],
   "source": [],
   "metadata": {
    "collapsed": false,
    "pycharm": {
     "name": "#%%\n"
    }
   }
  },
  {
   "cell_type": "markdown",
   "source": [
    "### Opdracht 2.6.5\n",
    "\n",
    "*Niveau: 2*\n",
    "\n",
    "Schrijf een programma dat 3 random mutaties aanbrengt in de volgende sequentie.\n",
    "\n",
    "```python\n",
    "BRAC2_seq = \"gggtgcgacgattcattgttttcggacaag\"\n",
    "```\n",
    "\n",
    "Zowel de locatie als mutatie type (replacement, insertion or deletion) moeten random zijn.\n",
    "\n",
    "Tip: gebruik een combinatie van `range()`, `random.randint()` en een lijst met mutatie types."
   ],
   "metadata": {
    "collapsed": false,
    "pycharm": {
     "name": "#%% md\n"
    }
   }
  },
  {
   "cell_type": "code",
   "execution_count": null,
   "outputs": [],
   "source": [],
   "metadata": {
    "collapsed": false,
    "pycharm": {
     "name": "#%%\n"
    }
   }
  },
  {
   "cell_type": "markdown",
   "source": [
    "### Opdracht 2.6.6\n",
    "\n",
    "*Niveau: 3*\n",
    "\n",
    "Schrijf een programma dat de [drakencurve](https://dodona.ugent.be/nl/activities/1631028523/) weergeeft."
   ],
   "metadata": {
    "collapsed": false,
    "pycharm": {
     "name": "#%% md\n"
    }
   }
  },
  {
   "cell_type": "code",
   "execution_count": null,
   "outputs": [],
   "source": [],
   "metadata": {
    "collapsed": false,
    "pycharm": {
     "name": "#%%\n"
    }
   }
  },
  {
   "cell_type": "markdown",
   "source": [
    "***\n",
    "\n",
    "<i><small>Terug naar de [inhoud](#Inhoud).</small><i>\n",
    "\n",
    "## 2.7. While"
   ],
   "metadata": {
    "collapsed": false,
    "pycharm": {
     "name": "#%% md\n"
    }
   }
  },
  {
   "cell_type": "markdown",
   "source": [
    "### Opdracht 2.7.1\n",
    "\n",
    "*Niveau: 1*\n",
    "\n",
    "Stel, konijnenparen van 2 maanden of ouder krijgen elke maand een paar jongen. Zie [deze pagina](https://www.wiskundeleraar.nl/m/page_m.asp?nummer=9101) voor meer toelichting.\n",
    "\n",
    "Bereken en toon hoeveel paren konijnen er elke maand zijn, beginnend met 1 konijnenpaar van 1 maand oud. De reeks begint als volgt:\n",
    "\n",
    "```\n",
    "1 1 2 3 5 8 13 ...\n",
    "```\n",
    "\n",
    "Ga door tot het aantal konijnenparen groter is dan het huidige aantal mensen op Aarde. Hoeveel maanden zijn daarvoor nodig?"
   ],
   "metadata": {
    "collapsed": false,
    "pycharm": {
     "name": "#%% md\n"
    }
   }
  },
  {
   "cell_type": "code",
   "execution_count": null,
   "outputs": [],
   "source": [],
   "metadata": {
    "collapsed": false,
    "pycharm": {
     "name": "#%%\n"
    }
   }
  },
  {
   "cell_type": "markdown",
   "source": [
    "### Opdracht 2.7.2\n",
    "\n",
    "*Niveau: 2*\n",
    "\n",
    "Maak een programma dat de binaire string representatie van een getal print. Hiervoor kun je de volgende stappen gebruiken:\n",
    "\n",
    "- deel het getal door 2\n",
    "\n",
    "- neem het integer deel en gebruik dit voor de volgende iteratie\n",
    "\n",
    "- neem het overgebleven deel en gebruik dat voor de binary bit\n",
    "\n",
    "- trek daarna 1 van het getal af en deel het getal door 2\n",
    "\n",
    "Herhaal de stappen tot het integer deel 0 is. Je hebt de representatie achterstevoren staan, draai je string om en print hem."
   ],
   "metadata": {
    "collapsed": false,
    "pycharm": {
     "name": "#%% md\n"
    }
   }
  },
  {
   "cell_type": "code",
   "execution_count": null,
   "outputs": [],
   "source": [],
   "metadata": {
    "collapsed": false,
    "pycharm": {
     "name": "#%%\n"
    }
   }
  },
  {
   "cell_type": "markdown",
   "source": [
    "### Opdracht 2.7.3\n",
    "\n",
    "*Niveau: 3*\n",
    "\n",
    "Een [Egyptisch breuk](https://www.hhofstede.nl/modules/egyptisch.htm) bestaat uit een som van *verschillende* eenheidsbreuken van de vorm\n",
    "\n",
    "$$\n",
    "\\frac{1}{a} + \\frac{1}{b} + \\frac{1}{c} + \\ldots\n",
    "$$\n",
    "\n",
    "Elk positief kommagetal kan worden geschreven als een Egyptische breuk. Zo kun je het getal 0.80 bijvoorbeeld schrijven als $0.80 = \\frac{1}{2} + \\frac{1}{4} + \\frac{1}{20}$; reken maar na.\n",
    "\n",
    "Je kan dergelijke Egyptische breuken bepalen door te kijken wat de grootste eenheidsbreuk is die nog in het gevraagde getal past (beginnend met 1/1). Dit is dan de eerste term. Als er nog een rest over is, herhaal je daarmee het recept met steeds oplopende noemers.\n",
    "\n",
    "Schrijf een programma dat voor een gegeven floating-point getal de Egyptische breuken bepaalt. Hou een lijst bij van de noemers (zoals hierboven [2, 4, 20] voor 0.80) en toon het eindresultaat op een prettig leesbare manier op het scherm.\n",
    "\n",
    "Ga met je code na dat je de breuk 25/12 kan schrijven als $\\frac{25}{12} = \\frac{1}{1} + \\frac{1}{2} + \\frac{1}{3} + \\frac{1}{4}$.\n",
    "\n",
    "Tip 1: alle noemer moeten verschillend zijn. Dus $\\frac{25}{12} = \\frac{1}{1} + \\frac{1}{1} + \\frac{1}{12}$ is géén juiste oplossing.\n",
    "\n",
    "Tip 2: door afrondfouten kan het voorkomen dat je nooit een precies antwoord vindt; los dit op door te stoppen zodra de rest voldoende klein geworden is (bv. kleiner dan een miljardste)."
   ],
   "metadata": {
    "collapsed": false,
    "pycharm": {
     "name": "#%% md\n"
    }
   }
  },
  {
   "cell_type": "code",
   "execution_count": null,
   "outputs": [],
   "source": [],
   "metadata": {
    "collapsed": false,
    "pycharm": {
     "name": "#%%\n"
    }
   }
  },
  {
   "cell_type": "markdown",
   "source": [
    "***\n",
    "\n",
    "<i><small>Terug naar de [inhoud](#Inhoud).</small><i>\n",
    "\n",
    "## 3.1. Dict"
   ],
   "metadata": {
    "collapsed": false,
    "pycharm": {
     "name": "#%% md\n"
    }
   }
  },
  {
   "cell_type": "markdown",
   "source": [
    "### Opdracht 3.1.1\n",
    "\n",
    "*Niveau: 1*\n",
    "\n",
    "Schrijf een programma dat een nucleotide-sequentie omzet naar diens reverse-complement.\n",
    "\n",
    "Bijvoorbeeld:\n",
    "\n",
    "```\n",
    "> Sequentie? ACCTTG\n",
    "antwoord: CAAGGT\n",
    "```"
   ],
   "metadata": {
    "collapsed": false,
    "pycharm": {
     "name": "#%% md\n"
    }
   }
  },
  {
   "cell_type": "code",
   "execution_count": null,
   "outputs": [],
   "source": [],
   "metadata": {
    "collapsed": false,
    "pycharm": {
     "name": "#%%\n"
    }
   }
  },
  {
   "cell_type": "markdown",
   "source": [
    "### Opdracht 3.1.2\n",
    "\n",
    "*Niveau: 1*\n",
    "\n",
    "Gegeven de onderstaande dictionary en sequentie,\n",
    "\n",
    "```python\n",
    "restriction_enzymes = {\"EcoRI\": \"GAATTC\",\n",
    "                       \"AluI\": \"AGCT\",\n",
    "                       \"NotI\": \"GCGGCCGC\",\n",
    "                       \"TaqI\": \"TCGA\"\n",
    "                      }\n",
    "\n",
    "DNA_seq = \"GGCGATGCTAGTCGCGTAGTCTAAGCTGTCGAGAATTCGGATGTCATGA\"\n",
    "```\n",
    "\n",
    "bepaal of de restrictiefragementen voorkomen in de sequentie en print de locatie."
   ],
   "metadata": {
    "collapsed": false,
    "pycharm": {
     "name": "#%% md\n"
    }
   }
  },
  {
   "cell_type": "code",
   "execution_count": null,
   "outputs": [],
   "source": [],
   "metadata": {
    "collapsed": false,
    "pycharm": {
     "name": "#%%\n"
    }
   }
  },
  {
   "cell_type": "markdown",
   "source": [
    "### Opdracht 3.1.3\n",
    "\n",
    "*Niveau: 1*\n",
    "\n",
    "Extraheer alle mogelijke substrings van 4 basen (*k*-mer) lang en sla deze als key op in een dictionary; sla als value op hoevaak ze voorkomen. Print elke *k*-mer en het voorkomen.\n",
    "\n",
    "```python\n",
    "DNA_seq = 'gggtgcgacgattcattgttttcggacaagtggataggcaaccactaccggtggattgtc'\n",
    "```"
   ],
   "metadata": {
    "collapsed": false,
    "pycharm": {
     "name": "#%% md\n"
    }
   }
  },
  {
   "cell_type": "code",
   "execution_count": null,
   "outputs": [],
   "source": [],
   "metadata": {
    "collapsed": false,
    "pycharm": {
     "name": "#%%\n"
    }
   }
  },
  {
   "cell_type": "markdown",
   "source": [
    "### Opdracht 3.1.4\n",
    "\n",
    "*Niveau: 2*\n",
    "\n",
    "Schrijf een programma dat zoekt naar patronen in een gegeven DNA sequentie. Bijvoorbeeld, patroon: `TATAxxxATGxxxT`, waarbij `x` een willekeurige base kan zijn. Controleer zowel de forward als de reverse complement streng."
   ],
   "metadata": {
    "collapsed": false,
    "pycharm": {
     "name": "#%% md\n"
    }
   }
  },
  {
   "cell_type": "code",
   "execution_count": null,
   "outputs": [],
   "source": [],
   "metadata": {
    "collapsed": false,
    "pycharm": {
     "name": "#%%\n"
    }
   }
  },
  {
   "cell_type": "markdown",
   "source": [
    "### Opdracht 3.1.5\n",
    "\n",
    "*Niveau: 2*\n",
    "\n",
    "Gegeven een structuurformule van een organische verbinding bestaande uit kool-, water-, stik-, en zuurstofatomen, print de chemische formule.\n",
    "\n",
    "Bijvoorbeeld:\n",
    "\n",
    "```python\n",
    "structure = \"\"\"\n",
    "H     H     O - H\n",
    " \\    |    /\n",
    "  N - C - C = O\n",
    " /     \\\n",
    "H   H - C   H\n",
    "       / \\ /\n",
    "  H - C   C - H\n",
    "     / \\   \\\n",
    "    H   H   H\n",
    "\"\"\"\n",
    "```\n",
    "\n",
    "zou op moeten leveren `C5NO2H11`."
   ],
   "metadata": {
    "collapsed": false,
    "pycharm": {
     "name": "#%% md\n"
    }
   }
  },
  {
   "cell_type": "code",
   "execution_count": null,
   "outputs": [],
   "source": [],
   "metadata": {
    "collapsed": false,
    "pycharm": {
     "name": "#%%\n"
    }
   }
  },
  {
   "cell_type": "markdown",
   "source": [
    "### Opdracht 3.1.6\n",
    "\n",
    "*Niveau: 2*\n",
    "\n",
    "Gegeven de *gescheiden* chemische formule van een organisch molekuul, bereken het molekuulgewicht.\n",
    "\n",
    "Bijvoorbeeld:\n",
    "\n",
    "```\n",
    "> Stof? C5-H11-N-O2\n",
    "antwoord: 117\n",
    "```"
   ],
   "metadata": {
    "collapsed": false,
    "pycharm": {
     "name": "#%% md\n"
    }
   }
  },
  {
   "cell_type": "code",
   "execution_count": null,
   "outputs": [],
   "source": [],
   "metadata": {
    "collapsed": false,
    "pycharm": {
     "name": "#%%\n"
    }
   }
  },
  {
   "cell_type": "markdown",
   "source": [
    "### Opdracht 3.1.7\n",
    "\n",
    "*Niveau: 3*\n",
    "\n",
    "Gegeven de algemene chemische formule van een molekuul, bereken het molekuulgewicht.\n",
    "\n",
    "Bijvoorbeeld:\n",
    "\n",
    "```\n",
    "> Stof? Cl(COOH)\n",
    "antwoord: 80\n",
    "```"
   ],
   "metadata": {
    "collapsed": false,
    "pycharm": {
     "name": "#%% md\n"
    }
   }
  },
  {
   "cell_type": "code",
   "execution_count": null,
   "outputs": [],
   "source": [],
   "metadata": {
    "collapsed": false,
    "pycharm": {
     "name": "#%%\n"
    }
   }
  },
  {
   "cell_type": "markdown",
   "source": [
    "### Opdracht 3.1.8\n",
    "\n",
    "*Niveau: 3*\n",
    "\n",
    "Schrijf een programma dat je kennis van de aminozuren overhoort (namen en 1- & 3-lettercodes).\n",
    "\n",
    "Bijvoorbeeld:\n",
    "\n",
    "```\n",
    "> Wat is de naam van VAL? Valine\n",
    "Juist\n",
    "> Wat is de 1-letterafkorting van GLU? G\n",
    "Onjuist, het antwoord luidt \"E\"\n",
    "```"
   ],
   "metadata": {
    "collapsed": false,
    "pycharm": {
     "name": "#%% md\n"
    }
   }
  },
  {
   "cell_type": "code",
   "execution_count": null,
   "outputs": [],
   "source": [],
   "metadata": {
    "collapsed": false,
    "pycharm": {
     "name": "#%%\n"
    }
   }
  },
  {
   "cell_type": "markdown",
   "source": [
    "***\n",
    "\n",
    "<i><small>Terug naar de [inhoud](#Inhoud).</small><i>\n",
    "\n",
    "## 3.2. Set"
   ],
   "metadata": {
    "collapsed": false,
    "pycharm": {
     "name": "#%% md\n"
    }
   }
  },
  {
   "cell_type": "markdown",
   "source": [
    "### Opdracht 3.2.1\n",
    "\n",
    "*Niveau: 1*\n",
    "\n",
    "Gegeven een (korte) sequentie als\n",
    "\n",
    "```python\n",
    "sequence = 'MDYQVSPIYDINYT'\n",
    "```\n",
    "\n",
    "schrijf een programma dat zo handig mogelijk kijkt of er letters dubbel voorkomen in de string en een boodschap \"dubbele letters gevonden!\" of \"geen dubbele letters gevonden!\" toont."
   ],
   "metadata": {
    "collapsed": false,
    "pycharm": {
     "name": "#%% md\n"
    }
   }
  },
  {
   "cell_type": "code",
   "execution_count": null,
   "outputs": [],
   "source": [],
   "metadata": {
    "collapsed": false,
    "pycharm": {
     "name": "#%%\n"
    }
   }
  },
  {
   "cell_type": "markdown",
   "source": [
    "### Opdracht 3.2.2\n",
    "\n",
    "*Niveau: 2*\n",
    "\n",
    "Gegeven is een lijst met symbolen die voor mogen komen in de wachtwoorden voor een bepaalde website, en een aantal door de gebruikers ingevulde wachtwoorden\n",
    "Gebruik sets om in zo min mogelijk code uit te kunnen printen welke illegale tekens er voorkomen in de voorbeeld wachtwoorden\n",
    "\n",
    "`Allowed_symbols = \"abcdefghijklmnopqrstuvwxyzABCDEFGHIJKLMNOPQRSTUVWXYZ0123456789_-*#$%^&()\"`\n",
    "\n",
    "`wachtwoord1 = Aapje-90`\n",
    "`wachtwoord2 = Ik_hou_van_kaas〠`\n",
    "`wachtwoord3 = W@chtW00Rd?`\n",
    "\n"
   ],
   "metadata": {
    "collapsed": false,
    "pycharm": {
     "name": "#%% md\n"
    }
   }
  },
  {
   "cell_type": "code",
   "execution_count": null,
   "outputs": [],
   "source": [],
   "metadata": {
    "collapsed": false,
    "pycharm": {
     "name": "#%%\n"
    }
   }
  },
  {
   "cell_type": "markdown",
   "source": [
    "### Opdracht 3.2.3\n",
    "\n",
    "*Niveau: 3*\n",
    "\n",
    "Gegeven een chemische reactie, bepaal of de reactievergelijking gebalanceerd is.\n",
    "\n",
    "Bijvoorbeeld:\n",
    "\n",
    "```\n",
    "Reactie? C6H12O6 + 6 O2 -> 6 CO2 + 6 H2O\n",
    "antwoord: OK\n",
    "```"
   ],
   "metadata": {
    "collapsed": false,
    "pycharm": {
     "name": "#%% md\n"
    }
   }
  },
  {
   "cell_type": "code",
   "execution_count": null,
   "outputs": [],
   "source": [],
   "metadata": {
    "collapsed": false,
    "pycharm": {
     "name": "#%%\n"
    }
   }
  },
  {
   "cell_type": "markdown",
   "source": [
    "***\n",
    "\n",
    "<i><small>Terug naar de [inhoud](#Inhoud).</small><i>\n",
    "\n",
    "## 3.3. In-operator"
   ],
   "metadata": {
    "collapsed": false,
    "pycharm": {
     "name": "#%% md\n"
    }
   }
  },
  {
   "cell_type": "markdown",
   "source": [
    "### Opdracht 3.3.1\n",
    "\n",
    "*Niveau: 1*\n",
    "\n",
    "Gegeven een integer, bepaal of het getal slechts uit oneven cijfers bestaat, en toon het resultaat op het scherm.\n",
    "\n",
    "Bijvoorbeeld, het getal 1335 zou `True` moeten opleveren, maar `12345` is False."
   ],
   "metadata": {
    "collapsed": false,
    "pycharm": {
     "name": "#%% md\n"
    }
   }
  },
  {
   "cell_type": "code",
   "execution_count": null,
   "outputs": [],
   "source": [],
   "metadata": {
    "collapsed": false,
    "pycharm": {
     "name": "#%%\n"
    }
   }
  },
  {
   "cell_type": "markdown",
   "source": [
    "### Opdracht 3.3.2\n",
    "\n",
    "*Niveau: 2*\n",
    "\n",
    "Schrijf een programma dat een gegeven string lettertekens opsplitst in stukjes die elk beginnen met een hoofdletter, en dat vervolgens controleert of alle delen geldige afkortingen van elementen in het periodiek systeem zijn.\n",
    "\n",
    "```python\n",
    "periodiek = {'H',  'He', 'Li', 'Be', 'B',  'C',  'N',  'O',  'F',  'Ne',\n",
    "             'Na', 'Mg', 'Al', 'Si', 'P',  'S',  'Cl', 'Ar', 'K',  'Ca',\n",
    "             'Sc', 'Ti', 'V',  'Cr', 'Mn', 'Fe', 'Co', 'Ni', 'Cu', 'Zn',\n",
    "             'Ga', 'Ge', 'As', 'Se', 'Br', 'Kr', 'Rb', 'Sr', 'Y',  'Zr',\n",
    "             'Nb', 'Mo', 'Tc', 'Ru', 'Rh', 'Pd', 'Ag', 'Cd', 'In', 'Sn',\n",
    "             'Sb', 'Te', 'I',  'Xe', 'Cs', 'Ba', 'La', 'Ce', 'Pr', 'Nd',\n",
    "             'Pm', 'Sm', 'Eu', 'Gd', 'Tb', 'Dy', 'Ho', 'Er', 'Tm', 'Yb',\n",
    "             'Lu', 'Hf', 'Ta', 'W',  'Re', 'Os', 'Ir', 'Pt', 'Au', 'Hg',\n",
    "             'Tl', 'Pb', 'Bi', 'Po', 'At', 'Rn', 'Fr', 'Ra', 'Ac', 'Th',\n",
    "             'Pa', 'U',  'Np', 'Pu', 'Am', 'Cm', 'Bk', 'Cf', 'Es', 'Fm',\n",
    "             'Md', 'No', 'Lr', 'Rf', 'Db', 'Sg', 'Bh', 'Hs', 'Mt', 'Ds',\n",
    "             'Rg', 'Cn', 'Nh', 'Fl', 'Mc', 'Lv', 'Ts', 'Og'}\n",
    "```\n",
    "\n",
    "Strings die niet beginnen met een hoofdletter of die niet uit alleen lettertekens bestaand zijn sowieso ongeldig.\n",
    "\n",
    "Bijvoorbeeld, 'FeO' wordt geplitst in Fe+O en is geldig, maar 'FEo' maakt F+Eo en is ongeldig."
   ],
   "metadata": {
    "collapsed": false,
    "pycharm": {
     "name": "#%% md\n"
    }
   }
  },
  {
   "cell_type": "code",
   "execution_count": null,
   "outputs": [],
   "source": [],
   "metadata": {
    "collapsed": false,
    "pycharm": {
     "name": "#%%\n"
    }
   }
  },
  {
   "cell_type": "markdown",
   "source": [
    "### Opdracht 3.3.3\n",
    "\n",
    "*Niveau: 3*\n",
    "\n",
    "Schrijf een programma dat het bekende spel [Galgje](https://www.wikiwand.com/nl/Galgje) speelt. Speler A kiest een woord, waarna speler B letters mag raden. De computer toont steeds de geraden letters van het woord, en puntjes op de plek van letters die nog niet geraden zijn. Zodra het hele woord geraden is heeft speler B gewonnen; als speler B 10x een letter raadt die niet in het woord voorkomt leidt dat tot verlies. Je mag een galg tekenen, maar je mag de speler ook gewoon maximaal 10 keer fout laten raden."
   ],
   "metadata": {
    "collapsed": false,
    "pycharm": {
     "name": "#%% md\n"
    }
   }
  },
  {
   "cell_type": "code",
   "execution_count": null,
   "outputs": [],
   "source": [],
   "metadata": {
    "collapsed": false,
    "pycharm": {
     "name": "#%%\n"
    }
   }
  },
  {
   "cell_type": "markdown",
   "source": [
    "***\n",
    "\n",
    "<i><small>Terug naar de [inhoud](#Inhoud).</small><i>\n",
    "\n",
    "## 3.4. Functies"
   ],
   "metadata": {
    "collapsed": false,
    "pycharm": {
     "name": "#%% md\n"
    }
   }
  },
  {
   "cell_type": "markdown",
   "source": [
    "### Opdracht 3.4.1\n",
    "\n",
    "*Niveau: 1*\n",
    "\n",
    "Schrijf een programma dat de code uit een *.py bestand op het scherm toont, maar alle # comments daaruit verwijdert."
   ],
   "metadata": {
    "collapsed": false,
    "pycharm": {
     "name": "#%% md\n"
    }
   }
  },
  {
   "cell_type": "code",
   "execution_count": null,
   "outputs": [],
   "source": [],
   "metadata": {
    "collapsed": false,
    "pycharm": {
     "name": "#%%\n"
    }
   }
  },
  {
   "cell_type": "markdown",
   "source": [
    "### Opdracht 3.4.2\n",
    "\n",
    "*Niveau: 1*\n",
    "\n",
    "Schrijf een functie die een dna sequentie als argument krijgt en een dictionary met de percentages voor A, C, G en T retourneert."
   ],
   "metadata": {
    "collapsed": false,
    "pycharm": {
     "name": "#%% md\n"
    }
   }
  },
  {
   "cell_type": "code",
   "execution_count": null,
   "outputs": [],
   "source": [],
   "metadata": {
    "collapsed": false,
    "pycharm": {
     "name": "#%%\n"
    }
   }
  },
  {
   "cell_type": "markdown",
   "source": [
    "### Opdracht 3.4.3\n",
    "\n",
    "*Niveau: 1*\n",
    "\n",
    "Maak een functie die als argument een lengte krijgt en een random DNA sequentie van deze lengte retourneert."
   ],
   "metadata": {
    "collapsed": false,
    "pycharm": {
     "name": "#%% md\n"
    }
   }
  },
  {
   "cell_type": "code",
   "execution_count": null,
   "outputs": [],
   "source": [],
   "metadata": {
    "collapsed": false,
    "pycharm": {
     "name": "#%%\n"
    }
   }
  },
  {
   "cell_type": "markdown",
   "source": [
    "### Opdracht 3.4.4\n",
    "\n",
    "*Niveau: 1*\n",
    "\n",
    "Schrijf een functie die een leesbare lijst weergeeft van alle methoden van een argument, behalve de “dunder” methoden. Bijvoorbeeld\n",
    "\n",
    "`readable_dir(list)`\n",
    "\n",
    "geeft als antwoord\n",
    "\n",
    "`['append', 'clear', 'copy', 'count', 'extend', 'index', 'insert', 'pop', 'remove', 'reverse', 'sort']`"
   ],
   "metadata": {
    "collapsed": false,
    "pycharm": {
     "name": "#%% md\n"
    }
   }
  },
  {
   "cell_type": "code",
   "execution_count": null,
   "outputs": [],
   "source": [],
   "metadata": {
    "collapsed": false,
    "pycharm": {
     "name": "#%%\n"
    }
   }
  },
  {
   "cell_type": "markdown",
   "source": [
    "### Opdracht 3.4.5\n",
    "\n",
    "*Niveau: 1*\n",
    "\n",
    "Schrijf een functie die een dna sequentie als argument krijgt en diens reverse complement dna sequentie retourneert."
   ],
   "metadata": {
    "collapsed": false,
    "pycharm": {
     "name": "#%% md\n"
    }
   }
  },
  {
   "cell_type": "code",
   "execution_count": null,
   "outputs": [],
   "source": [],
   "metadata": {
    "collapsed": false,
    "pycharm": {
     "name": "#%%\n"
    }
   }
  },
  {
   "cell_type": "markdown",
   "source": [
    "### Opdracht 3.4.6\n",
    "\n",
    "*Niveau: 2*\n",
    "\n",
    "Schrijf een functie die een soortnaam kan afkorten.\n",
    "\n",
    "Als de soortnaam bestaat uit het genus en species, kort dan het genus af tot één letter; als de soortnaam ook het subspecies bevat, kort dan het species af tot één letter als dit hetzelfde is als het subspecies. Zorg daarnaast dat het hoofdlettergebruik correct is (genus met een hoofdletter, species/subspecies met alleen kleine letters).\n",
    "\n",
    "Voorbeelden:\n",
    "\n",
    "Soortnaam         | Invoer                  | Uitvoer\n",
    ":---------------- | :---------------------- | :----------------\n",
    "Panterkatten      | Panthera                | Panthera\n",
    "Leeuw             | Panthera leo            | P. leo\n",
    "Afrikaanse leeuw  | Panthera leo leo        | P. l. leo\n",
    "Perzische leeuw   | Panthera leo persica    | P. leo persica\n",
    "Tijger            | Panthera tigris         | P. tigris\n",
    "Bengaalse tijger  | Panthera tigris tigris  | P. t. tigris\n",
    "Siberische tijger | Panthera tigris altaica | P. tigris altaica"
   ],
   "metadata": {
    "collapsed": false,
    "pycharm": {
     "name": "#%% md\n"
    }
   }
  },
  {
   "cell_type": "code",
   "execution_count": null,
   "outputs": [],
   "source": [],
   "metadata": {
    "collapsed": false,
    "pycharm": {
     "name": "#%%\n"
    }
   }
  },
  {
   "cell_type": "markdown",
   "source": [
    "### Opdracht 3.4.7\n",
    "\n",
    "*Niveau: 3*\n",
    "\n",
    "Schrijf een functie die een string met een nucleotiden- of aminozuur-sequentie als invoer verwacht (of evt. een algemene string tekens) en die bepaalt welke substring in de string het vaakst aaneengesloten herhaald voorkomt. De functie dient de substring te retourneren, het aantal herhalingen, en de positie waarop de eerste herhaling van de substring begint.\n",
    "\n",
    "Bijvoorbeeld, voor de sequentie\n",
    "\n",
    "```python\n",
    "sequence = 'ACGTAAACTGCTGCTGCTGAATATAT'\n",
    "```\n",
    "\n",
    "dient het resultaat `('CTG', 4, 7)` te zijn omdat na de eerste 7 letters het triplet CTG vier maal achter elkaar wordt herhaald.\n",
    "\n",
    "Een substring kan uit een enkele letter bestaan, mits die het vaakst herhaald wordt. Als er meerdere substrings zijn die allemaal even vaak herhaald worden, dan dient de functie één van die oplossingen te retourneren."
   ],
   "metadata": {
    "collapsed": false,
    "pycharm": {
     "name": "#%% md\n"
    }
   }
  },
  {
   "cell_type": "markdown",
   "source": [
    "***\n",
    "\n",
    "<i><small>Terug naar de [inhoud](#Inhoud).</small><i>\n",
    "\n",
    "## 3.5. Input en Output (IO)"
   ],
   "metadata": {
    "collapsed": false,
    "pycharm": {
     "name": "#%% md\n"
    }
   }
  },
  {
   "cell_type": "markdown",
   "source": [
    "### Opdracht 3.5.1\n",
    "\n",
    "*Niveau: 1*\n",
    "\n",
    "Schrijf een programma dat de `covid_ref.fasta` file inleest en het aantal nucleotiden weergeeft op het scherm.\n",
    "\n",
    "Tip: bepaal je antwoord zonder whitespaces of newlines te tellen."
   ],
   "metadata": {
    "collapsed": false,
    "pycharm": {
     "name": "#%% md\n"
    }
   }
  },
  {
   "cell_type": "code",
   "execution_count": null,
   "outputs": [],
   "source": [],
   "metadata": {
    "collapsed": false,
    "pycharm": {
     "name": "#%%\n"
    }
   }
  },
  {
   "cell_type": "markdown",
   "source": [
    "### Opdracht 3.5.2\n",
    "\n",
    "*Niveau: 1*\n",
    "\n",
    "Schrijf een programma dat de `covid_ref.fasta` file inleest en de locaties van het start (ATG) codon, en het eerstvolgende stop codon (TAA, TAG, TGA) rapporteert."
   ],
   "metadata": {
    "collapsed": false,
    "pycharm": {
     "name": "#%% md\n"
    }
   }
  },
  {
   "cell_type": "code",
   "execution_count": null,
   "outputs": [],
   "source": [],
   "metadata": {
    "collapsed": false,
    "pycharm": {
     "name": "#%%\n"
    }
   }
  },
  {
   "cell_type": "markdown",
   "source": [
    "### Opdracht 3.5.3\n",
    "\n",
    "*Niveau: 1*\n",
    "\n",
    "Schrijf een programma dat de regels van een tekstbestand in omgekeerde volgorde op het scherm toont."
   ],
   "metadata": {
    "collapsed": false,
    "pycharm": {
     "name": "#%% md\n"
    }
   }
  },
  {
   "cell_type": "code",
   "execution_count": null,
   "outputs": [],
   "source": [],
   "metadata": {
    "collapsed": false,
    "pycharm": {
     "name": "#%%\n"
    }
   }
  },
  {
   "cell_type": "markdown",
   "source": [
    "### Opdracht 3.5.4\n",
    "\n",
    "*Niveau: 2*\n",
    "\n",
    "Schrijf een programma dat de onderstaande sequenties vergelijkt en aangeeft waar de verschillen zitten en wat deze zijn.\n",
    "\n",
    "- [wuhan.fasta](https://www.ncbi.nlm.nih.gov/nuccore/NC_045512.2?report=fasta)\n",
    "\n",
    "- [italie.fasta](https://www.ncbi.nlm.nih.gov/nuccore/MT066156.1?report=fasta)\n",
    "\n",
    "- [usa.fasta](https://www.ncbi.nlm.nih.gov/nuccore/MN985325.1?report=fasta)\n",
    "\n",
    "Sequenties zijn van verschillende lengte, vergelijk alleen tot aan de lengte van de kortste."
   ],
   "metadata": {
    "collapsed": false,
    "pycharm": {
     "name": "#%% md\n"
    }
   }
  },
  {
   "cell_type": "code",
   "execution_count": null,
   "outputs": [],
   "source": [],
   "metadata": {
    "collapsed": false,
    "pycharm": {
     "name": "#%%\n"
    }
   }
  },
  {
   "cell_type": "markdown",
   "source": [
    "### Opdracht 3.5.5\n",
    "\n",
    "*Niveau: 3*\n",
    "\n",
    "Pas het programma van niveau 2 aan:\n",
    "- zodat de sequenties nu op de commandline megegeven kunnen worden aan je programma.\n",
    "- deel je programma op in logische functies en roep ze aan vanuit een centrale main.\n",
    "- zorg ervoor dat de code PEP8 valide is."
   ],
   "metadata": {
    "collapsed": false,
    "pycharm": {
     "name": "#%% md\n"
    }
   }
  },
  {
   "cell_type": "code",
   "execution_count": null,
   "outputs": [],
   "source": [],
   "metadata": {
    "collapsed": false,
    "pycharm": {
     "name": "#%%\n"
    }
   }
  },
  {
   "cell_type": "markdown",
   "source": [
    "***\n",
    "\n",
    "<i><small>Terug naar de [inhoud](#Inhoud).</small><i>"
   ],
   "metadata": {
    "collapsed": false,
    "pycharm": {
     "name": "#%% md\n"
    }
   }
  }
 ],
 "metadata": {
  "kernelspec": {
   "display_name": "Python 3 (ipykernel)",
   "language": "python",
   "name": "python3"
  },
  "language_info": {
   "codemirror_mode": {
    "name": "ipython",
    "version": 3
   },
   "file_extension": ".py",
   "mimetype": "text/x-python",
   "name": "python",
   "nbconvert_exporter": "python",
   "pygments_lexer": "ipython3",
   "version": "3.9.6"
  }
 },
 "nbformat": 4,
 "nbformat_minor": 1
}