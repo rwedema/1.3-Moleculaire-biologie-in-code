{
 "cells": [
  {
   "cell_type": "markdown",
   "source": [
    "### Fase1 Tussenopdracht1\n",
    "\n",
    "Gegeven is een structuurformule van een organische verbinding. (Neem\n",
    "hier aan dat er geen andere elementen in voorkomen dan C, H, O, N, S.)\n",
    "Elk atoom levert een aantal elektronen dat deelneemt aan covalente\n",
    "bindingsparen, gelijk aan de *valentie* van het atoom. Deze vormen per\n",
    "tweetal een covalente binding, aangeduid met '-' (of '|'); er bestaan\n",
    "ook meervoudige bindingen, aangeduid met '=' (of '‖') en '≡' (of '⦀').\n",
    "[ https://www.sciencedirect.com/topics/chemistry/covalent-bond ]\n",
    "Bijvoorbeeld:\n",
    "\n",
    "molecule = \"\"\"\n",
    "        H               H   O - H\n",
    "        |               |   |\n",
    "O = C - C = C - C ≡ C - C - C - H\n",
    "    |       |           |   |\n",
    "H - O   H - C - H       H   N - H\n",
    "            |               |\n",
    "            H               H\n",
    "\"\"\"\n",
    "\n",
    "heeft 26x2 = 52 elektronen in covalente bindingen die worden geleverd\n",
    "door 8xC, 11xH, 3xO, en 1xN tezamen.\n",
    "\n",
    "Schrijf Python code die, uitgaande van de string met de structuur-\n",
    "formule, telt hoeveel elektronen in de voorkomende covalente bindingen\n",
    "voorkomen, en hoeveel elektronen door de samenstellende atomen worden geleverd.\n",
    "\n",
    "Toon de structuurformule op het scherm, en voeg daarbij aan de linker-kant een marge in van tien extra spaties.\n",
    "Toon daaronder de beide aantallen; voor een geldige structuurformule zouden deze aan elkaar gelijk moeten zijn.\n",
    "\n",
    "\n",
    "\n"
   ],
   "metadata": {
    "collapsed": false,
    "pycharm": {
     "name": "#%% md\n"
    }
   }
  },
  {
   "cell_type": "code",
   "execution_count": null,
   "outputs": [],
   "source": [],
   "metadata": {
    "collapsed": false,
    "pycharm": {
     "name": "#%%\n"
    }
   }
  },
  {
   "cell_type": "markdown",
   "source": [
    "### Fase1 Tussenopdracht2\n",
    "\n",
    "Maak een programma dat gegeven een lijst met sequenties:\n",
    "1. bepaald of de sequenties valide DNA is (DNA bestaat uit alleen A, C, T of G)\n",
    "2. als het valide dna is print dan het GC percentage\n",
    "3. haal alle codons (dit zijn stukjes van 3 letters) eruit.\n",
    "4. bepaal van elke codon of dit een start of stop codon is\n",
    "5. Sla de posities op van de start en stop codons\n",
    "6. print aan het eind de opgeslagen posities\n"
   ],
   "metadata": {
    "collapsed": false,
    "pycharm": {
     "name": "#%% md\n"
    }
   }
  },
  {
   "cell_type": "code",
   "execution_count": null,
   "outputs": [],
   "source": [],
   "metadata": {
    "collapsed": false,
    "pycharm": {
     "name": "#%%\n"
    }
   }
  },
  {
   "cell_type": "markdown",
   "source": [
    "### Fase1 Eindopdracht\n",
    "\n",
    "Schrijf een Python programma dat een csv bestand met daarin metingen aan Iris plantjes inleest en vervolgens per plantsoort de gemiddelde sepal_width berekend en print.\n",
    "\n",
    "Zorg ervoor dat je code in logische functies is opgedeeld.\n",
    "De code moet PEP8 valide zijn.\n",
    "Maak gebruik van commandline argumenten\n",
    "\n",
    "Het bestand:  `iris.csv` kun je vinden onder de data folder.\n"
   ],
   "metadata": {
    "collapsed": false,
    "pycharm": {
     "name": "#%% md\n"
    }
   }
  },
  {
   "cell_type": "code",
   "execution_count": null,
   "outputs": [],
   "source": [],
   "metadata": {
    "collapsed": false,
    "pycharm": {
     "name": "#%%\n"
    }
   }
  }
 ],
 "metadata": {
  "kernelspec": {
   "display_name": "Python 3",
   "language": "python",
   "name": "python3"
  },
  "language_info": {
   "codemirror_mode": {
    "name": "ipython",
    "version": 2
   },
   "file_extension": ".py",
   "mimetype": "text/x-python",
   "name": "python",
   "nbconvert_exporter": "python",
   "pygments_lexer": "ipython2",
   "version": "2.7.6"
  }
 },
 "nbformat": 4,
 "nbformat_minor": 0
}