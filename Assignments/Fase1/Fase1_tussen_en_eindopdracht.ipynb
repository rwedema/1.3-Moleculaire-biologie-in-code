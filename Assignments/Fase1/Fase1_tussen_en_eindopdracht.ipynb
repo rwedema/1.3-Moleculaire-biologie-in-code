{
 "cells": [
  {
   "cell_type": "markdown",
   "metadata": {
    "collapsed": false
   },
   "source": [
    "### Fase1 Tussenopdracht1\n",
    "\n",
    "Gegeven is een structuurformule van een organische verbinding. (Neem\n",
    "hier aan dat er geen andere elementen in voorkomen dan C, H, O, N, S.)\n",
    "Elk atoom levert een aantal elektronen dat deelneemt aan covalente\n",
    "bindingsparen, gelijk aan de *valentie* van het atoom. Deze vormen per\n",
    "tweetal een covalente binding, aangeduid met '-' (of '|'); er bestaan\n",
    "ook meervoudige bindingen, aangeduid met '=' (of '‖') en '≡' (of '⦀').\n",
    "[ https://www.sciencedirect.com/topics/chemistry/covalent-bond ]\n",
    "Bijvoorbeeld:\n",
    "\n",
    "molecule = \"\"\"\n",
    "        H               H   O - H\n",
    "        |               |   |\n",
    "O = C - C = C - C ≡ C - C - C - H\n",
    "    |       |           |   |\n",
    "H - O   H - C - H       H   N - H\n",
    "            |               |\n",
    "            H               H\n",
    "\"\"\"\n",
    "\n",
    "heeft 26x2 = 52 elektronen in covalente bindingen die worden geleverd\n",
    "door 8xC, 11xH, 3xO, en 1xN tezamen.\n",
    "\n",
    "Schrijf Python code die, uitgaande van de string met de structuur-\n",
    "formule, telt hoeveel elektronen in de voorkomende covalente bindingen\n",
    "voorkomen, en hoeveel elektronen door de samenstellende atomen worden geleverd.\n",
    "\n",
    "Toon de structuurformule op het scherm, en voeg daarbij aan de linker-kant een marge in van tien extra spaties.\n",
    "Toon daaronder de beide aantallen; voor een geldige structuurformule zouden deze aan elkaar gelijk moeten zijn.\n",
    "\n",
    "\n",
    "\n"
   ]
  },
  {
   "cell_type": "code",
   "execution_count": 8,
   "metadata": {
    "ExecuteTime": {
     "end_time": "2024-09-04T13:29:54.414146Z",
     "start_time": "2024-09-04T13:29:54.399084Z"
    },
    "collapsed": false,
    "pycharm": {
     "is_executing": true
    }
   },
   "outputs": [
    {
     "name": "stdout",
     "output_type": "stream",
     "text": [
      "\n",
      "        H               H   O - H\n",
      "        |               |   |\n",
      "O = C - C = C - C ≡ C - C - C - H\n",
      "    |       |           |   |\n",
      "H - O   H - C - H       H   N - H\n",
      "            |               |\n",
      "            H               H\n",
      "\n"
     ]
    }
   ],
   "source": [
    "molecule = \"\"\"\n",
    "        H               H   O - H\n",
    "        |               |   |\n",
    "O = C - C = C - C ≡ C - C - C - H\n",
    "    |       |           |   |\n",
    "H - O   H - C - H       H   N - H\n",
    "            |               |\n",
    "            H               H\n",
    "\"\"\"\n",
    "print(molecule)"
   ]
  },
  {
   "cell_type": "code",
   "execution_count": null,
   "metadata": {},
   "outputs": [],
   "source": []
  },
  {
   "cell_type": "markdown",
   "metadata": {
    "collapsed": false
   },
   "source": [
    "### Fase1 Tussenopdracht2\n",
    "\n",
    "Gegeven een lijst met meerdere DNA sequenties. \n",
    "Itereer over deze lijst en geef voor elke sequentie terug:\n",
    "1. Een lijst met de losse codons (dit zijn stukjes van 3 letters), als strings.\n",
    "2. Het GC percentage van de sequentie\n"
   ]
  },
  {
   "cell_type": "code",
   "execution_count": null,
   "metadata": {
    "ExecuteTime": {
     "end_time": "2024-09-04T13:29:54.417397Z",
     "start_time": "2024-09-04T13:29:54.405069Z"
    },
    "collapsed": false
   },
   "outputs": [],
   "source": []
  },
  {
   "cell_type": "markdown",
   "metadata": {
    "collapsed": false
   },
   "source": [
    "### Fase1 Tussenopdracht3\n",
    "\n",
    "Gegeven een lijst met DNA sequenties.\n",
    "Itereer over deze lijst en geef voor elke sequentie\n",
    "1. Haal alle codons eruit.\n",
    "2. Bepaal van elke codon of dit een start of stop codon is\n",
    "3. Sla de posities op van de start en stop codons\n",
    "4. Print voor elke sequentie de opgeslagen posities\n",
    "5. Zorg ervoor dat je programma een foutmelding genereert als er een invalide symbool in de sequentie staat (dus iets anders dan A, T, G of C). De foutmelding moet de gebruiker kunnen vertellen om welk invalide teken het gaat en op welke positie in de sequentie deze voorkomt. \n"
   ]
  },
  {
   "cell_type": "code",
   "execution_count": null,
   "metadata": {
    "ExecuteTime": {
     "end_time": "2024-09-04T13:29:54.417495Z",
     "start_time": "2024-09-04T13:29:54.405334Z"
    },
    "collapsed": false
   },
   "outputs": [],
   "source": []
  },
  {
   "cell_type": "markdown",
   "metadata": {
    "collapsed": false
   },
   "source": [
    "### Fase1 Eindopdracht\n",
    "\n",
    "Schrijf een Python programma dat een csv bestand met daarin metingen aan Iris plantjes inleest en vervolgens per plantsoort de gemiddelde sepal_width berekend en print.\n",
    "\n",
    "Zorg ervoor dat je code in logische functies is opgedeeld.\n",
    "De code moet PEP8 valide zijn.\n",
    "Maak gebruik van commandline argumenten\n",
    "\n",
    "Het bestand:  `iris.csv` kun je vinden onder de data folder.\n"
   ]
  },
  {
   "cell_type": "code",
   "execution_count": null,
   "metadata": {
    "ExecuteTime": {
     "end_time": "2024-09-04T13:29:54.417571Z",
     "start_time": "2024-09-04T13:29:54.406626Z"
    },
    "collapsed": false
   },
   "outputs": [],
   "source": []
  }
 ],
 "metadata": {
  "kernelspec": {
   "display_name": "Python 3",
   "language": "python",
   "name": "python3"
  },
  "language_info": {
   "codemirror_mode": {
    "name": "ipython",
    "version": 3
   },
   "file_extension": ".py",
   "mimetype": "text/x-python",
   "name": "python",
   "nbconvert_exporter": "python",
   "pygments_lexer": "ipython3",
   "version": "3.11.2"
  }
 },
 "nbformat": 4,
 "nbformat_minor": 0
}
