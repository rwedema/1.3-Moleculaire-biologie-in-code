{
 "cells": [
  {
   "cell_type": "markdown",
   "source": [
    "# Fase3 Assignment differential genes expressed in the brain\n",
    "\n",
    "For the assignment in Fase3 we will use data that was made available through the Allen Institute for Brain Science. For this final assignment we are going to have a look at microarray expression data taken from multiple locations (samples) in the brain of one individual.\n",
    "\n",
    "You will write a program that will show the difference and intersection in terms of genes expressed in two brain regions.\n",
    "\n",
    "Coding requirement:\n",
    "- Write a Python program that can be called from the commandline while giving it all necessary information (files, cutoff)\n",
    "- When designing functions: keep them simple and have them (preferentially) do only one thing. What a function does should be clear from the name\n",
    "- Every function should have sufficient documentation: pydoc and inline comments\n",
    "- Your program should follow the PEP standard: use a plugin in your IDE or use `pylint name_of_your_program.py` on our system"
   ],
   "metadata": {
    "collapsed": false
   }
  },
  {
   "cell_type": "markdown",
   "source": [
    "# Get the data\n",
    "Please download the zip file `H0351.2001` from https://human.brain-map.org/static/download\n",
    "Unpack this file and place the content of the unpacked folder inside the `Data` folder of this repository."
   ],
   "metadata": {
    "collapsed": false
   }
  },
  {
   "cell_type": "markdown",
   "source": [
    "## Inspecting the data using the Linux command line\n",
    "Using the Linux terminal (top left corner -> Terminal Emulator or task bar at the bottom of your screen 2nd Icon):\n",
    "- navigate to the location where you placed the unpacked folder\n",
    "- read the `Readme.txt` and describe in your own words what the content is of the following files:\n",
    "    - `MicroarrayExpression.csv`\n",
    "    - `Probes.csv`\n",
    "    - `SampleAnnot.csv`\n",
    "\n",
    "For each file listed above, show the first 5 lines to the screen (using the terminal!). Is it clear from the `Readme.txt` what you are looking at?\n",
    "\n",
    "> Tip: on our Debian linux systems the shell is `bash` and a quick google search with the term `bash commands` will show you many sites explaining the most used bash commands, such as showing the top5 lines."
   ],
   "metadata": {
    "collapsed": false
   }
  },
  {
   "cell_type": "markdown",
   "source": [
    "## Read the data\n",
    "Reading of the data as mentioned below is not in order, and it is up to you to decide what should be done first and what datatypes are needed to store the data.\n",
    "\n",
    "Get the commandline arguments. The user should be able to enter the needed files here, as well as a cutoff that will be used to select probes that are above this cutoff. The two brain regions should also be provided commandline. For testing purposed you can use the `LHA` and `PHA`, which are structure acronyms. The user should ofcourse be able to provide two completely different structure acronyms.\n",
    "\n",
    "Read the `MicroarrayExpression.csv` file. Each line consists of 2 separate parts, the first element of each line is the probe identifier and all other elements are measured microarray expression levels. Each column after the probe identifier is a brain region. For this part we want to have to **probe ID** and the **rest** separated from each other and stored in **two variables**.\n",
    "\n",
    "Read the `SampleAnnot.csv` file. Every line contains the annotation (description) of a brain region. The brain regions in the rows are in the same order as the columns of the Microarray. Get the row numbers of the two brain regions of interest and store these.\n",
    "\n",
    "Only reporting probe ids is probably not that descriptive. Write code that will translate any given probe id to a gene name, gene symbol, entrez id and chromosome. For this you can use at the `Probe.csv` file.\n"
   ],
   "metadata": {
    "collapsed": false
   }
  },
  {
   "cell_type": "markdown",
   "source": [
    "## Processing the data\n",
    "1. The number of probes is larger than the number of genes. This is because there is a redundancy in the number of probes per gene. Select per gene the probe that has the highest average expression across the samples. The number of probes per gene can be found when looking at the first and third column of the `Probes.csv` file. Make sure to skip the header. From there on use this list of representative probes.\n",
    "2. When comparing brain region1 and brain region2 show what the unique probes per region are and also the probes that are shared between the two brain regions. Select the indices that correspond to the brain regions of interest. Use the structure acronyms that can be found in the `SampleAnnot.csv` file. select `lha` and `pha` as test regions. The samples (rows) in `SampleAnnot.csv` are om the same order as the samples (columns) in the `MicroarrayExpression.csv` file.\n",
    "3. When reporting on the unique probes and shared probes, only report on the probes that are above the user supplied cutoff.\n"
   ],
   "metadata": {
    "collapsed": false
   }
  },
  {
   "cell_type": "markdown",
   "source": [
    " # Reporting\n",
    " The user should be able to pass a commandline argument specifying what information should be printed to the screen instead of probe_id's. Translate the probe ids to one of `gene name, gene symbol, entrez id or chromosome` based on what the user supplied as an argument, print the final results nicely formatted to the screen."
   ],
   "metadata": {
    "collapsed": false
   }
  },
  {
   "cell_type": "markdown",
   "source": [
    "# Testing\n",
    "Using LHA and PHA as the regions of interest, gene_symbol to report and selecting 17 as the cutoff the following results should be obtained:\n",
    "\n",
    "`0 unique genes for LHM: []\n",
    "9 unique genes for PHA: ['\"LCE1D\"', '\"RN28S1\"', '\"LOC100288578\"', '\"HS2ST1\"', '\"B3GNT1\"', '\"A_23_P132611\"', '\"A_24_P205074\"', '\"A_23_P331028\"', '\"A_23_P360213\"']\n",
    "12 shared probes: ['\"C1QTNF9B-AS1\"', '\"LOC389607\"', '\"PRNP\"', '\"RCOR2\"', '\"ADAMTS7\"', '\"BCAM\"', '\"A_24_P859032\"', '\"A_32_P157374\"', '\"A_32_P152999\"', '\"A_24_P143257\"', '\"A_24_P42453\"', '\"A_23_P317056\"']`\n"
   ],
   "metadata": {
    "collapsed": false
   }
  }
 ],
 "metadata": {
  "kernelspec": {
   "display_name": "Python 3",
   "language": "python",
   "name": "python3"
  },
  "language_info": {
   "codemirror_mode": {
    "name": "ipython",
    "version": 2
   },
   "file_extension": ".py",
   "mimetype": "text/x-python",
   "name": "python",
   "nbconvert_exporter": "python",
   "pygments_lexer": "ipython2",
   "version": "2.7.6"
  }
 },
 "nbformat": 4,
 "nbformat_minor": 0
}
